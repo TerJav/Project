{
 "cells": [
  {
   "cell_type": "code",
   "execution_count": 1,
   "metadata": {},
   "outputs": [],
   "source": [
    "import pandas as pd\n",
    "import numpy as np\n",
    "import requests\n",
    "from bs4 import BeautifulSoup"
   ]
  },
  {
   "cell_type": "code",
   "execution_count": 4,
   "metadata": {},
   "outputs": [],
   "source": [
    "def getsoup(link):\n",
    "    '''\n",
    "   Create a BeautifulSoup object from the URL given\n",
    "    '''\n",
    "    r = requests.get(link)\n",
    "    soup = BeautifulSoup(r.text,'lxml')\n",
    "    return(soup)"
   ]
  },
  {
   "cell_type": "code",
   "execution_count": 70,
   "metadata": {},
   "outputs": [],
   "source": [
    "def print_list(list):\n",
    "    '''\n",
    "    Print a list of tables \n",
    "    '''\n",
    "    for year in list:\n",
    "        print(year)\n",
    "    "
   ]
  },
  {
   "cell_type": "markdown",
   "metadata": {},
   "source": [
    "## Prezidentske"
   ]
  },
  {
   "cell_type": "code",
   "execution_count": 5,
   "metadata": {},
   "outputs": [],
   "source": [
    "def gettable_prez(soup):\n",
    "    '''\n",
    "   Create a table from the BeautifulSoup object given (presidential election format)\n",
    "    '''\n",
    "    table=soup.find('table',{'id':'pe41_t1'}).findAll('tr')\n",
    "    tb= table[2:16]\n",
    "    return(tb)\n"
   ]
  },
  {
   "cell_type": "code",
   "execution_count": 6,
   "metadata": {},
   "outputs": [],
   "source": [
    "def scrapetable_prez(table):\n",
    "    '''\n",
    "   Create a DataFrame table with regions and respective polls (presidential election format)\n",
    "    '''\n",
    "    df_scraped = pd.DataFrame()\n",
    "    for row in table:\n",
    "        kraj = row.findAll('td')[1].text\n",
    "        ucast = row.findAll('td',{'class':'cislo'})[5].text\n",
    "        row1 = pd.Series({\"Kraj\":kraj,\"Účast\":ucast})\n",
    "        df_scraped = pd.concat([df_scraped, row1], axis=1)\n",
    "    df_scraped = df_scraped.T\n",
    "    return(df_scraped)"
   ]
  },
  {
   "cell_type": "code",
   "execution_count": 7,
   "metadata": {},
   "outputs": [],
   "source": [
    "\n",
    "soup_prez_2013 = getsoup('https://volby.cz/pls/prez2013/pe41?xjazyk=CZ&xv=1')\n",
    "soup_prez_2018 = getsoup('https://volby.cz/pls/prez2018/pe41?xjazyk=CZ&xv=1')"
   ]
  },
  {
   "cell_type": "code",
   "execution_count": 8,
   "metadata": {},
   "outputs": [],
   "source": [
    "tab_prez_2013 = gettable_prez(soup_prez_2013)\n",
    "tab_prez_2018 = gettable_prez(soup_prez_2018)"
   ]
  },
  {
   "cell_type": "code",
   "execution_count": 9,
   "metadata": {},
   "outputs": [],
   "source": [
    "df_prez_2013 = scrapetable_prez(tab_prez_2013)\n",
    "df_prez_2018 = scrapetable_prez(tab_prez_2018)"
   ]
  },
  {
   "cell_type": "code",
   "execution_count": 10,
   "metadata": {},
   "outputs": [
    {
     "name": "stdout",
     "output_type": "stream",
     "text": [
      "                   Kraj  Účast\n",
      "0    Hlavní město Praha  65,10\n",
      "0      Středočeský kraj  63,96\n",
      "0        Jihočeský kraj  63,63\n",
      "0         Plzeňský kraj  61,97\n",
      "0      Karlovarský kraj  52,35\n",
      "0          Ústecký kraj  52,66\n",
      "0        Liberecký kraj  59,10\n",
      "0  Královéhradecký kraj  64,65\n",
      "0       Pardubický kraj  64,86\n",
      "0         Kraj Vysočina  66,79\n",
      "0     Jihomoravský kraj  62,28\n",
      "0        Olomoucký kraj  60,14\n",
      "0          Zlínský kraj  62,45\n",
      "0  Moravskoslezský kraj  56,17\n",
      "                   Kraj  Účast\n",
      "0    Hlavní město Praha  67,56\n",
      "0      Středočeský kraj  64,73\n",
      "0        Jihočeský kraj  63,25\n",
      "0         Plzeňský kraj  61,44\n",
      "0      Karlovarský kraj  52,11\n",
      "0          Ústecký kraj  52,76\n",
      "0        Liberecký kraj  60,74\n",
      "0  Královéhradecký kraj  64,19\n",
      "0       Pardubický kraj  64,98\n",
      "0         Kraj Vysočina  67,01\n",
      "0     Jihomoravský kraj  62,56\n",
      "0        Olomoucký kraj  60,35\n",
      "0          Zlínský kraj  63,74\n",
      "0  Moravskoslezský kraj  56,75\n"
     ]
    }
   ],
   "source": [
    "print(df_prez_2013)\n",
    "print(df_prez_2018)"
   ]
  },
  {
   "cell_type": "markdown",
   "metadata": {},
   "source": [
    "## Parlamentni"
   ]
  },
  {
   "cell_type": "code",
   "execution_count": 145,
   "metadata": {},
   "outputs": [],
   "source": [
    "def gettable_par_before1998(soup):\n",
    "    '''\n",
    "   Create a table from the BeautifulSoup object given (parlamential election format)\n",
    "    '''\n",
    "    table=soup.find('table').findAll('tr')\n",
    "    tb = table[2:10]\n",
    "    return(tb)\n"
   ]
  },
  {
   "cell_type": "code",
   "execution_count": 139,
   "metadata": {},
   "outputs": [],
   "source": [
    "def gettable_par_after1998(soup):\n",
    "    '''\n",
    "   Create a table from the BeautifulSoup object given (parlamential election format)\n",
    "    '''\n",
    "    table=soup.find('table').findAll('tr')\n",
    "    tb = table[2:16]\n",
    "    return(tb)"
   ]
  },
  {
   "cell_type": "code",
   "execution_count": 129,
   "metadata": {},
   "outputs": [],
   "source": [
    "def scrapetable_par(table):\n",
    "    '''\n",
    "   Create a DataFrame table with regions and respective polls (presidential election format)\n",
    "    '''\n",
    "    df_scraped = pd.DataFrame()\n",
    "    for row in table:\n",
    "        kraj = row.findAll('td')[1].text\n",
    "        ucast = row.findAll('td')[7].text\n",
    "        row1 = pd.Series({\"Kraj\":kraj,\"Účast\":ucast})\n",
    "        df_scraped = pd.concat([df_scraped, row1], axis=1)\n",
    "    df_scraped = df_scraped.T\n",
    "    return(df_scraped)"
   ]
  },
  {
   "cell_type": "code",
   "execution_count": 148,
   "metadata": {},
   "outputs": [],
   "source": [
    "soup_par_1996 = getsoup('https://volby.cz/pls/ps1996/u52')\n",
    "soup_par_1998 = getsoup('https://volby.cz/pls/ps1998/u52')\n",
    "soup_par_2002 = getsoup('https://volby.cz/pls/ps2002/ps5?xjazyk=CZ')\n",
    "soup_par_2006 = getsoup('https://volby.cz/pls/ps2006/ps4?xjazyk=CZ')\n",
    "soup_par_2010 = getsoup('https://volby.cz/pls/ps2010/ps4?xjazyk=CZ')\n",
    "soup_par_2013 = getsoup('https://volby.cz/pls/ps2013/ps4?xjazyk=CZ')\n",
    "soup_par_2017 = getsoup('https://volby.cz/pls/ps2017/ps4?xjazyk=CZ')\n"
   ]
  },
  {
   "cell_type": "code",
   "execution_count": 158,
   "metadata": {},
   "outputs": [],
   "source": [
    "\n",
    "soup_par = np.empty(7, dtype=object)\n",
    "soup_par[0] = soup_par_1996\n",
    "soup_par[1] = soup_par_1998\n",
    "soup_par[2] = soup_par_2002\n",
    "soup_par[3] = soup_par_2006\n",
    "soup_par[4] = soup_par_2010\n",
    "soup_par[5] = soup_par_2013\n",
    "soup_par[6] = soup_par_2017\n"
   ]
  },
  {
   "cell_type": "code",
   "execution_count": 146,
   "metadata": {},
   "outputs": [],
   "source": [
    "tab_par_1996 = gettable_par_before1998(soup_par_1996)\n",
    "tab_par_1998 = gettable_par_before1998(soup_par_1998)\n",
    "tab_par_2002 = gettable_par_after1998(soup_par_2002)"
   ]
  },
  {
   "cell_type": "code",
   "execution_count": 147,
   "metadata": {},
   "outputs": [],
   "source": [
    "df_par_1996 = scrapetable_par(tab_par_1996)\n",
    "df_par_1998 = scrapetable_par(tab_par_1998)\n",
    "df_par_2002 = scrapetable_par(tab_par_2002)"
   ]
  },
  {
   "cell_type": "markdown",
   "metadata": {},
   "source": [
    "## Senatni - asi nedava uplne smysl, tim, ze nejsou plosne"
   ]
  },
  {
   "cell_type": "code",
   "execution_count": 12,
   "metadata": {},
   "outputs": [],
   "source": [
    "soup_sen_1996 = getsoup('https://volby.cz/pls/senat/se31?xjazyk=CZ&xdatum=19961116&xv=1')\n",
    "soup_sen_1998 = getsoup('https://volby.cz/pls/senat/se31?xjazyk=CZ&xdatum=19981114&xv=1')"
   ]
  },
  {
   "cell_type": "markdown",
   "metadata": {},
   "source": [
    "## Krajska zastupitelstva"
   ]
  },
  {
   "cell_type": "code",
   "execution_count": 20,
   "metadata": {},
   "outputs": [],
   "source": [
    "def gettable_kraj(soup):\n",
    "    '''\n",
    "   Create a table from the BeautifulSoup object given (regional election format)\n",
    "   There are only 13 regions because Prague is not counted.\n",
    "    '''\n",
    "    table=soup.find('table').findAll('tr')\n",
    "    tb = table[2:15]\n",
    "    return(tb)"
   ]
  },
  {
   "cell_type": "code",
   "execution_count": 36,
   "metadata": {},
   "outputs": [],
   "source": [
    "def scrapetable_kraj(table):\n",
    "    '''\n",
    "   Create a DataFrame table with regions and respective polls (regional election format)\n",
    "    '''\n",
    "    df_scraped = pd.DataFrame()\n",
    "    for row in table:\n",
    "        kraj = row.findAll('td')[1].text\n",
    "        ucast = row.findAll('td')[7].text\n",
    "        row1 = pd.Series({\"Kraj\":kraj,\"Účast\":ucast})\n",
    "        df_scraped = pd.concat([df_scraped, row1], axis=1)\n",
    "    df_scraped = df_scraped.T\n",
    "    return(df_scraped)"
   ]
  },
  {
   "cell_type": "code",
   "execution_count": 37,
   "metadata": {},
   "outputs": [],
   "source": [
    "soup_kraj_2000 = getsoup('https://volby.cz/pls/kz2000/kz4?xjazyk=CZ&xdatum=20001112')\n",
    "soup_kraj_2004 = getsoup('https://volby.cz/pls/kz2004/kz4?xjazyk=CZ&xdatum=20041105')\n",
    "soup_kraj_2008 = getsoup('https://volby.cz/pls/kz2008/kz4?xjazyk=CZ&xdatum=20081017')\n",
    "soup_kraj_2012 = getsoup('https://volby.cz/pls/kz2012/kz4?xjazyk=CZ&xdatum=20121012')\n",
    "soup_kraj_2016 = getsoup('https://volby.cz/pls/kz2016/kz4?xjazyk=CZ&xdatum=20161007')\n",
    "soup_kraj_2020 = getsoup('https://volby.cz/pls/kz2020/kz4?xjazyk=CZ')"
   ]
  },
  {
   "cell_type": "code",
   "execution_count": null,
   "metadata": {},
   "outputs": [],
   "source": []
  },
  {
   "cell_type": "code",
   "execution_count": 51,
   "metadata": {},
   "outputs": [],
   "source": [
    "list_soup_kraj = (soup_kraj_2000, soup_kraj_2004, soup_kraj_2008, soup_kraj_2012, soup_kraj_2016, soup_kraj_2020)\n",
    "\n",
    "i=0\n",
    "list_table_kraj = [1, 2, 3, 4, 5, 6]\n",
    "for year in list_soup_kraj:\n",
    "    list_table_kraj[i] = gettable_kraj(year)\n",
    "    i = i+1\n",
    "   "
   ]
  },
  {
   "cell_type": "code",
   "execution_count": 54,
   "metadata": {},
   "outputs": [],
   "source": [
    "i=0\n",
    "list_scrape_kraj = [1,2,3,4,5,6]\n",
    "for year in list_table_kraj:\n",
    "    list_scrape_kraj[i] = scrapetable_kraj(year)\n",
    "    i=i+1"
   ]
  },
  {
   "cell_type": "code",
   "execution_count": 71,
   "metadata": {},
   "outputs": [
    {
     "name": "stdout",
     "output_type": "stream",
     "text": [
      "                     Kraj    Účast\n",
      "0       Středočeský kraj    32.77 \n",
      "0       Budějovický kraj    34.13 \n",
      "0          Plzeňský kraj    35.55 \n",
      "0       Karlovarský kraj    28.44 \n",
      "0           Ústecký kraj    29.68 \n",
      "0         Liberecký kraj    33.07 \n",
      "0   Královéhradecký kraj    34.74 \n",
      "0        Pardubický kraj    36.46 \n",
      "0         Jihlavský kraj    35.86 \n",
      "0          Brněnský kraj    34.93 \n",
      "0         Olomoucký kraj    34.19 \n",
      "0           Zlínský kraj    36.07 \n",
      "0         Ostravský kraj    32.24 \n",
      "                     Kraj    Účast\n",
      "0       Středočeský kraj    30.73 \n",
      "0         Jihočeský kraj    30.45 \n",
      "0          Plzeňský kraj    31.34 \n",
      "0       Karlovarský kraj    24.99 \n",
      "0           Ústecký kraj    25.37 \n",
      "0         Liberecký kraj    30.83 \n",
      "0   Královéhradecký kraj    32.56 \n",
      "0        Pardubický kraj    32.60 \n",
      "0               Vysočina    31.82 \n",
      "0      Jihomoravský kraj    29.71 \n",
      "0         Olomoucký kraj    28.44 \n",
      "0           Zlínský kraj    30.63 \n",
      "0   Moravskoslezský kraj    27.55 \n",
      "                   Kraj  Účast\n",
      "0      Středočeský kraj  42,14\n",
      "0        Jihočeský kraj  40,78\n",
      "0         Plzeňský kraj  40,28\n",
      "0      Karlovarský kraj  35,01\n",
      "0          Ústecký kraj  37,44\n",
      "0        Liberecký kraj  38,08\n",
      "0  Královéhradecký kraj  41,72\n",
      "0       Pardubický kraj  42,61\n",
      "0              Vysočina  44,88\n",
      "0     Jihomoravský kraj  41,05\n",
      "0        Olomoucký kraj  38,50\n",
      "0          Zlínský kraj  41,13\n",
      "0  Moravskoslezský kraj  38,60\n",
      "                   Kraj  Účast\n",
      "0      Středočeský kraj  36,45\n",
      "0        Jihočeský kraj  38,59\n",
      "0         Plzeňský kraj  38,21\n",
      "0      Karlovarský kraj  31,57\n",
      "0          Ústecký kraj  33,94\n",
      "0        Liberecký kraj  38,55\n",
      "0  Královéhradecký kraj  38,43\n",
      "0       Pardubický kraj  39,47\n",
      "0         Kraj Vysočina  41,05\n",
      "0     Jihomoravský kraj  37,76\n",
      "0        Olomoucký kraj  35,67\n",
      "0          Zlínský kraj  40,34\n",
      "0  Moravskoslezský kraj  33,17\n",
      "                   Kraj  Účast\n",
      "0      Středočeský kraj  34,76\n",
      "0        Jihočeský kraj  36,31\n",
      "0         Plzeňský kraj  35,74\n",
      "0      Karlovarský kraj  30,23\n",
      "0          Ústecký kraj  28,94\n",
      "0        Liberecký kraj  35,91\n",
      "0  Královéhradecký kraj  37,33\n",
      "0       Pardubický kraj  36,80\n",
      "0         Kraj Vysočina  37,34\n",
      "0     Jihomoravský kraj  36,84\n",
      "0        Olomoucký kraj  33,20\n",
      "0          Zlínský kraj  38,50\n",
      "0  Moravskoslezský kraj  30,58\n",
      "                   Kraj  Účast\n",
      "0      Středočeský kraj  40,66\n",
      "0        Jihočeský kraj  39,51\n",
      "0         Plzeňský kraj  38,80\n",
      "0      Karlovarský kraj  34,94\n",
      "0          Ústecký kraj  31,30\n",
      "0        Liberecký kraj  40,41\n",
      "0  Královéhradecký kraj  41,01\n",
      "0       Pardubický kraj  40,87\n",
      "0         Kraj Vysočina  39,65\n",
      "0     Jihomoravský kraj  38,82\n",
      "0        Olomoucký kraj  37,29\n",
      "0          Zlínský kraj  41,19\n",
      "0  Moravskoslezský kraj  32,71\n"
     ]
    }
   ],
   "source": [
    "print_list(list_scrape_kraj)"
   ]
  },
  {
   "cell_type": "markdown",
   "metadata": {},
   "source": [
    "## Evropsky parlament"
   ]
  },
  {
   "cell_type": "code",
   "execution_count": 76,
   "metadata": {},
   "outputs": [],
   "source": [
    "def gettable_eu(soup):\n",
    "    '''\n",
    "   Create a table from the BeautifulSoup object given (european parliament election format)\n",
    "    '''\n",
    "    table=soup.find('table').findAll('tr')\n",
    "    tb = table[2:16]\n",
    "    return(tb)"
   ]
  },
  {
   "cell_type": "code",
   "execution_count": 87,
   "metadata": {},
   "outputs": [],
   "source": [
    "def scrapetable_eu(table):\n",
    "    '''\n",
    "   Create a DataFrame table with regions and respective polls (european parliament election format)\n",
    "    '''\n",
    "    df_scraped = pd.DataFrame()\n",
    "    for row in table:\n",
    "        kraj = row.findAll('th')[0].text\n",
    "        ucast = row.findAll('td')[7].text\n",
    "        row1 = pd.Series({\"Kraj\":kraj,\"Účast\":ucast})\n",
    "        df_scraped = pd.concat([df_scraped, row1], axis=1)\n",
    "    df_scraped = df_scraped.T\n",
    "    return(df_scraped)"
   ]
  },
  {
   "cell_type": "code",
   "execution_count": 89,
   "metadata": {},
   "outputs": [],
   "source": [
    "soup_eu_2004 = getsoup('https://volby.cz/pls/ep2004/ep121?xjazyk=CZ')\n",
    "soup_eu_2009 = getsoup('https://volby.cz/pls/ep2009/ep121?xjazyk=CZ')\n",
    "soup_eu_2014 = getsoup('https://volby.cz/pls/ep2014/ep121?xjazyk=CZ')\n",
    "soup_eu_2019 = getsoup('https://volby.cz/pls/ep2019/ep121?xjazyk=CZ')"
   ]
  },
  {
   "cell_type": "code",
   "execution_count": 90,
   "metadata": {},
   "outputs": [],
   "source": [
    "list_soup_eu = (soup_eu_2004, soup_eu_2009, soup_eu_2014, soup_eu_2019)\n",
    "\n",
    "i=0\n",
    "list_table_eu = [1, 2, 3, 4]\n",
    "for year in list_soup_eu:\n",
    "    list_table_eu[i] = gettable_eu(year)\n",
    "    i = i+1"
   ]
  },
  {
   "cell_type": "code",
   "execution_count": 91,
   "metadata": {},
   "outputs": [],
   "source": [
    "i=0\n",
    "list_scrape_eu = [1, 2, 3, 4]\n",
    "for year in list_table_eu:\n",
    "    list_scrape_eu[i] = scrapetable_eu(year)\n",
    "    i=i+1"
   ]
  },
  {
   "cell_type": "code",
   "execution_count": 92,
   "metadata": {},
   "outputs": [
    {
     "name": "stdout",
     "output_type": "stream",
     "text": [
      "                   Kraj    Účast\n",
      "0    Hlavní město Praha  338 230\n",
      "0      Středočeský kraj  270 496\n",
      "0        Jihočeský kraj  137 446\n",
      "0         Plzeňský kraj  130 081\n",
      "0      Karlovarský kraj   56 227\n",
      "0          Ústecký kraj  151 676\n",
      "0        Liberecký kraj   92 333\n",
      "0  Královéhradecký kraj  133 717\n",
      "0       Pardubický kraj  119 443\n",
      "0              Vysočina  119 838\n",
      "0     Jihomoravský kraj  273 718\n",
      "0        Olomoucký kraj  139 805\n",
      "0          Zlínský kraj  138 667\n",
      "0  Moravskoslezský kraj  242 613\n",
      "                   Kraj    Účast\n",
      "0    Hlavní město Praha  341 219\n",
      "0      Středočeský kraj  285 850\n",
      "0        Jihočeský kraj  141 944\n",
      "0         Plzeňský kraj  127 950\n",
      "0      Karlovarský kraj   53 184\n",
      "0          Ústecký kraj  149 206\n",
      "0        Liberecký kraj   93 049\n",
      "0  Královéhradecký kraj  130 543\n",
      "0       Pardubický kraj  119 374\n",
      "0              Vysočina  119 309\n",
      "0     Jihomoravský kraj  271 202\n",
      "0        Olomoucký kraj  141 195\n",
      "0          Zlínský kraj  134 243\n",
      "0  Moravskoslezský kraj  260 869\n",
      "                   Kraj    Účast\n",
      "0    Hlavní město Praha  237 976\n",
      "0      Středočeský kraj  194 475\n",
      "0        Jihočeský kraj   91 317\n",
      "0         Plzeňský kraj   82 566\n",
      "0      Karlovarský kraj   33 514\n",
      "0          Ústecký kraj   91 209\n",
      "0        Liberecký kraj   60 371\n",
      "0  Královéhradecký kraj   83 818\n",
      "0       Pardubický kraj   73 297\n",
      "0         Kraj Vysočina   75 689\n",
      "0     Jihomoravský kraj  182 186\n",
      "0        Olomoucký kraj   85 854\n",
      "0          Zlínský kraj   84 513\n",
      "0  Moravskoslezský kraj  150 582\n",
      "                   Kraj    Účast\n",
      "0    Hlavní město Praha  347 714\n",
      "0      Středočeský kraj  313 578\n",
      "0        Jihočeský kraj  148 288\n",
      "0         Plzeňský kraj  126 691\n",
      "0      Karlovarský kraj   54 004\n",
      "0          Ústecký kraj  142 810\n",
      "0        Liberecký kraj   98 517\n",
      "0  Královéhradecký kraj  133 815\n",
      "0       Pardubický kraj  118 172\n",
      "0         Kraj Vysočina  121 216\n",
      "0     Jihomoravský kraj  279 886\n",
      "0        Olomoucký kraj  135 152\n",
      "0          Zlínský kraj  134 571\n",
      "0  Moravskoslezský kraj  232 964\n"
     ]
    }
   ],
   "source": [
    "print_list(list_scrape_eu)"
   ]
  }
 ],
 "metadata": {
  "kernelspec": {
   "display_name": "Python 3",
   "language": "python",
   "name": "python3"
  },
  "language_info": {
   "codemirror_mode": {
    "name": "ipython",
    "version": 3
   },
   "file_extension": ".py",
   "mimetype": "text/x-python",
   "name": "python",
   "nbconvert_exporter": "python",
   "pygments_lexer": "ipython3",
   "version": "3.8.3"
  }
 },
 "nbformat": 4,
 "nbformat_minor": 4
}
