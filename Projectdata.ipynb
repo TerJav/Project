{
 "cells": [
  {
   "cell_type": "code",
   "execution_count": 125,
   "metadata": {},
   "outputs": [],
   "source": [
    "import pandas as pd\n",
    "import numpy as np\n",
    "import requests\n",
    "from bs4 import BeautifulSoup\n",
    "import itertools\n"
   ]
  },
  {
   "cell_type": "code",
   "execution_count": 4,
   "metadata": {},
   "outputs": [],
   "source": [
    "def getsoup(link):\n",
    "    '''\n",
    "   Create a BeautifulSoup object from the URL given\n",
    "    '''\n",
    "    r = requests.get(link)\n",
    "    soup = BeautifulSoup(r.text,'lxml')\n",
    "    return(soup)"
   ]
  },
  {
   "cell_type": "code",
   "execution_count": 70,
   "metadata": {},
   "outputs": [],
   "source": [
    "def print_list(list):\n",
    "    '''\n",
    "    Print a list of tables \n",
    "    '''\n",
    "    for year in list:\n",
    "        print(year)\n",
    "    "
   ]
  },
  {
   "cell_type": "markdown",
   "metadata": {},
   "source": [
    "# Volebni ucast\n",
    "tabulky volebni ucasti v jednotlivych volbach a letech jsou ulozeny v promennych:\n",
    "   \n",
    "   list_scrape_prez - prezidentske volby, roky 2013, 2018\n",
    "   \n",
    "   list_scrape_par - volby do parlamentu CR, roky 1996, 1998, 2002, 2006, 2010, 2013, 2017\n",
    "   \n",
    "   list_scrape_kraj - volby do krajskych zastupitelstev, roky 2000, 2004, 2008, 2012, 2016, 2020\n",
    "   \n",
    "   list_scrape_eu - volby do Evropskeho parlamentu, roky 2004, 2009, 2014, 2019"
   ]
  },
  {
   "cell_type": "markdown",
   "metadata": {},
   "source": [
    "## Prezidentske"
   ]
  },
  {
   "cell_type": "code",
   "execution_count": 5,
   "metadata": {},
   "outputs": [],
   "source": [
    "def gettable_prez(soup):\n",
    "    '''\n",
    "   Create a table from the BeautifulSoup object given (presidential election format)\n",
    "    '''\n",
    "    table=soup.find('table',{'id':'pe41_t1'}).findAll('tr')\n",
    "    tb= table[2:16]\n",
    "    return(tb)\n"
   ]
  },
  {
   "cell_type": "code",
   "execution_count": 6,
   "metadata": {},
   "outputs": [],
   "source": [
    "def scrapetable_prez(table):\n",
    "    '''\n",
    "   Create a DataFrame table with regions and respective polls (presidential election format)\n",
    "    '''\n",
    "    df_scraped = pd.DataFrame()\n",
    "    for row in table:\n",
    "        kraj = row.findAll('td')[1].text\n",
    "        ucast = row.findAll('td',{'class':'cislo'})[5].text\n",
    "        row1 = pd.Series({\"Kraj\":kraj,\"Účast\":ucast})\n",
    "        df_scraped = pd.concat([df_scraped, row1], axis=1)\n",
    "    df_scraped = df_scraped.T\n",
    "    return(df_scraped)"
   ]
  },
  {
   "cell_type": "code",
   "execution_count": 7,
   "metadata": {},
   "outputs": [],
   "source": [
    "\n",
    "soup_prez_2013 = getsoup('https://volby.cz/pls/prez2013/pe41?xjazyk=CZ&xv=1')\n",
    "soup_prez_2018 = getsoup('https://volby.cz/pls/prez2018/pe41?xjazyk=CZ&xv=1')"
   ]
  },
  {
   "cell_type": "code",
   "execution_count": 98,
   "metadata": {},
   "outputs": [],
   "source": [
    "list_soup_prez = [soup_prez_2013, soup_prez_2018]\n",
    "\n",
    "i=0\n",
    "list_table_prez = list_soup_prez\n",
    "for year in list_soup_prez:\n",
    "    list_table_prez[i] = gettable_prez(year)\n",
    "    i = i+1"
   ]
  },
  {
   "cell_type": "code",
   "execution_count": 100,
   "metadata": {},
   "outputs": [],
   "source": [
    "i=0\n",
    "list_scrape_prez = list_table_prez\n",
    "for year in list_table_prez:\n",
    "    list_scrape_prez[i] = scrapetable_prez(year)\n",
    "    i=i+1"
   ]
  },
  {
   "cell_type": "code",
   "execution_count": 102,
   "metadata": {},
   "outputs": [
    {
     "name": "stdout",
     "output_type": "stream",
     "text": [
      "                   Kraj  Účast\n",
      "0    Hlavní město Praha  65,10\n",
      "0      Středočeský kraj  63,96\n",
      "0        Jihočeský kraj  63,63\n",
      "0         Plzeňský kraj  61,97\n",
      "0      Karlovarský kraj  52,35\n",
      "0          Ústecký kraj  52,66\n",
      "0        Liberecký kraj  59,10\n",
      "0  Královéhradecký kraj  64,65\n",
      "0       Pardubický kraj  64,86\n",
      "0         Kraj Vysočina  66,79\n",
      "0     Jihomoravský kraj  62,28\n",
      "0        Olomoucký kraj  60,14\n",
      "0          Zlínský kraj  62,45\n",
      "0  Moravskoslezský kraj  56,17\n",
      "                   Kraj  Účast\n",
      "0    Hlavní město Praha  67,56\n",
      "0      Středočeský kraj  64,73\n",
      "0        Jihočeský kraj  63,25\n",
      "0         Plzeňský kraj  61,44\n",
      "0      Karlovarský kraj  52,11\n",
      "0          Ústecký kraj  52,76\n",
      "0        Liberecký kraj  60,74\n",
      "0  Královéhradecký kraj  64,19\n",
      "0       Pardubický kraj  64,98\n",
      "0         Kraj Vysočina  67,01\n",
      "0     Jihomoravský kraj  62,56\n",
      "0        Olomoucký kraj  60,35\n",
      "0          Zlínský kraj  63,74\n",
      "0  Moravskoslezský kraj  56,75\n"
     ]
    }
   ],
   "source": [
    "print_list(list_scrape_prez)"
   ]
  },
  {
   "cell_type": "markdown",
   "metadata": {},
   "source": [
    "## Parlamentni"
   ]
  },
  {
   "cell_type": "code",
   "execution_count": 103,
   "metadata": {},
   "outputs": [],
   "source": [
    "def gettable_par_before1998(soup):\n",
    "    '''\n",
    "   Create a table from the BeautifulSoup object given (parlamential election format)\n",
    "    '''\n",
    "    table=soup.find('table').findAll('tr')\n",
    "    tb = table[2:10]\n",
    "    return(tb)\n"
   ]
  },
  {
   "cell_type": "code",
   "execution_count": 104,
   "metadata": {},
   "outputs": [],
   "source": [
    "def gettable_par_after1998(soup):\n",
    "    '''\n",
    "   Create a table from the BeautifulSoup object given (parlamential election format)\n",
    "    '''\n",
    "    table=soup.find('table').findAll('tr')\n",
    "    tb = table[2:16]\n",
    "    return(tb)"
   ]
  },
  {
   "cell_type": "code",
   "execution_count": 105,
   "metadata": {},
   "outputs": [],
   "source": [
    "def scrapetable_par(table):\n",
    "    '''\n",
    "   Create a DataFrame table with regions and respective polls (parlamentiar election format)\n",
    "    '''\n",
    "    df_scraped = pd.DataFrame()\n",
    "    for row in table:\n",
    "        kraj = row.findAll('td')[1].text\n",
    "        ucast = row.findAll('td')[7].text\n",
    "        row1 = pd.Series({\"Kraj\":kraj,\"Účast\":ucast})\n",
    "        df_scraped = pd.concat([df_scraped, row1], axis=1)\n",
    "    df_scraped = df_scraped.T\n",
    "    return(df_scraped)"
   ]
  },
  {
   "cell_type": "code",
   "execution_count": 106,
   "metadata": {},
   "outputs": [],
   "source": [
    "soup_par_1996 = getsoup('https://volby.cz/pls/ps1996/u52')\n",
    "soup_par_1998 = getsoup('https://volby.cz/pls/ps1998/u52')\n",
    "soup_par_2002 = getsoup('https://volby.cz/pls/ps2002/ps5?xjazyk=CZ')\n",
    "soup_par_2006 = getsoup('https://volby.cz/pls/ps2006/ps4?xjazyk=CZ')\n",
    "soup_par_2010 = getsoup('https://volby.cz/pls/ps2010/ps4?xjazyk=CZ')\n",
    "soup_par_2013 = getsoup('https://volby.cz/pls/ps2013/ps4?xjazyk=CZ')\n",
    "soup_par_2017 = getsoup('https://volby.cz/pls/ps2017/ps4?xjazyk=CZ')\n"
   ]
  },
  {
   "cell_type": "code",
   "execution_count": 107,
   "metadata": {},
   "outputs": [],
   "source": [
    "\n",
    "soup_par = np.empty(7, dtype=object)\n",
    "soup_par[0] = soup_par_1996\n",
    "soup_par[1] = soup_par_1998\n",
    "soup_par[2] = soup_par_2002\n",
    "soup_par[3] = soup_par_2006\n",
    "soup_par[4] = soup_par_2010\n",
    "soup_par[5] = soup_par_2013\n",
    "soup_par[6] = soup_par_2017\n"
   ]
  },
  {
   "cell_type": "code",
   "execution_count": 133,
   "metadata": {},
   "outputs": [],
   "source": [
    "list_soup_par_before1998 = [soup_par_1996, soup_par_1998]\n",
    "list_soup_par_after1998 = [soup_par_2002, soup_par_2006, soup_par_2010, soup_par_2013, soup_par_2017]\n",
    "\n",
    "i=0\n",
    "list_table_par_before1998 = list_soup_par_before1998\n",
    "for year in list_soup_par_before1998:\n",
    "    list_table_par_before1998[i] = gettable_par_before1998(year)\n",
    "    i = i+1\n",
    "\n",
    "i=0\n",
    "list_table_par_after1998 = list_soup_par_after1998\n",
    "for year in list_soup_par_after1998:\n",
    "    list_table_par_after1998[i] = gettable_par_after1998(year)\n",
    "    i = i+1\n"
   ]
  },
  {
   "cell_type": "code",
   "execution_count": 137,
   "metadata": {},
   "outputs": [],
   "source": [
    "i=0\n",
    "list_scrape_par = [1,2,3,4,5,6,7] #jak to inicializovat lip???\n",
    "for year in list_table_par_before1998:\n",
    "    list_scrape_par[i] = scrapetable_par(year)\n",
    "    i=i+1\n",
    "for year in list_table_par_after1998:\n",
    "    list_scrape_par[i] = scrapetable_par(year)\n",
    "    i=i+1"
   ]
  },
  {
   "cell_type": "code",
   "execution_count": 139,
   "metadata": {},
   "outputs": [
    {
     "name": "stdout",
     "output_type": "stream",
     "text": [
      "             Kraj  Účast\n",
      "0           Praha  69.73\n",
      "0     Středočeský  78.35\n",
      "0       Jihočeský  77.67\n",
      "0     Západočeský  74.56\n",
      "0     Severočeský  72.79\n",
      "0    Východočeský  80.44\n",
      "0    Jihomoravský  79.26\n",
      "0  Severomoravský  76.80\n",
      "             Kraj  Účast\n",
      "0           Praha  71.62\n",
      "0     Středočeský  76.38\n",
      "0       Jihočeský  75.24\n",
      "0     Západočeský  72.19\n",
      "0     Severočeský  69.89\n",
      "0    Východočeský  77.64\n",
      "0    Jihomoravský  76.06\n",
      "0  Severomoravský  72.72\n",
      "                 Kraj  Účast\n",
      "0  Hlavní město Praha  59.98\n",
      "0         Středočeský  58.78\n",
      "0           Jihočeský  58.11\n",
      "0            Plzeňský  58.00\n",
      "0         Karlovarský  50.17\n",
      "0             Ústecký  50.65\n",
      "0           Liberecký  55.83\n",
      "0     Královéhradecký  60.84\n",
      "0          Pardubický  61.14\n",
      "0            Vysočina  62.45\n",
      "0        Jihomoravský  60.03\n",
      "0           Olomoucký  58.88\n",
      "0             Zlínský  60.02\n",
      "0     Moravskoslezský  55.22\n",
      "                   Kraj  Účast\n",
      "0    Hlavní město Praha  68,51\n",
      "0      Středočeský kraj  65,96\n",
      "0        Jihočeský kraj  65,36\n",
      "0         Plzeňský kraj  63,92\n",
      "0      Karlovarský kraj  56,48\n",
      "0          Ústecký kraj  57,22\n",
      "0        Liberecký kraj  62,35\n",
      "0  Královéhradecký kraj  66,69\n",
      "0       Pardubický kraj  67,37\n",
      "0              Vysočina  67,61\n",
      "0     Jihomoravský kraj  65,29\n",
      "0        Olomoucký kraj  64,52\n",
      "0          Zlínský kraj  66,90\n",
      "0  Moravskoslezský kraj  61,02\n",
      "                   Kraj  Účast\n",
      "0    Hlavní město Praha  67,99\n",
      "0      Středočeský kraj  64,26\n",
      "0        Jihočeský kraj  63,58\n",
      "0         Plzeňský kraj  61,68\n",
      "0      Karlovarský kraj  54,04\n",
      "0          Ústecký kraj  55,66\n",
      "0        Liberecký kraj  61,41\n",
      "0  Královéhradecký kraj  64,93\n",
      "0       Pardubický kraj  65,49\n",
      "0              Vysočina  65,68\n",
      "0     Jihomoravský kraj  63,27\n",
      "0        Olomoucký kraj  62,12\n",
      "0          Zlínský kraj  64,27\n",
      "0  Moravskoslezský kraj  58,19\n",
      "                   Kraj  Účast\n",
      "0    Hlavní město Praha  64,14\n",
      "0      Středočeský kraj  61,47\n",
      "0        Jihočeský kraj  60,55\n",
      "0         Plzeňský kraj  57,92\n",
      "0      Karlovarský kraj  51,57\n",
      "0          Ústecký kraj  51,69\n",
      "0        Liberecký kraj  57,92\n",
      "0  Královéhradecký kraj  61,65\n",
      "0       Pardubický kraj  62,26\n",
      "0         Kraj Vysočina  63,37\n",
      "0     Jihomoravský kraj  60,55\n",
      "0        Olomoucký kraj  58,90\n",
      "0          Zlínský kraj  61,53\n",
      "0  Moravskoslezský kraj  55,48\n",
      "                   Kraj  Účast\n",
      "0    Hlavní město Praha  67,13\n",
      "0      Středočeský kraj  63,44\n",
      "0        Jihočeský kraj  61,74\n",
      "0         Plzeňský kraj  59,91\n",
      "0      Karlovarský kraj  52,11\n",
      "0          Ústecký kraj  52,38\n",
      "0        Liberecký kraj  60,05\n",
      "0  Královéhradecký kraj  63,25\n",
      "0       Pardubický kraj  63,05\n",
      "0         Kraj Vysočina  64,03\n",
      "0     Jihomoravský kraj  61,75\n",
      "0        Olomoucký kraj  59,77\n",
      "0          Zlínský kraj  62,12\n",
      "0  Moravskoslezský kraj  55,86\n"
     ]
    }
   ],
   "source": [
    "print_list(list_scrape_par)"
   ]
  },
  {
   "cell_type": "markdown",
   "metadata": {},
   "source": [
    "## Senatni - asi nedava uplne smysl, tim, ze nejsou plosne"
   ]
  },
  {
   "cell_type": "code",
   "execution_count": 12,
   "metadata": {},
   "outputs": [],
   "source": [
    "soup_sen_1996 = getsoup('https://volby.cz/pls/senat/se31?xjazyk=CZ&xdatum=19961116&xv=1')\n",
    "soup_sen_1998 = getsoup('https://volby.cz/pls/senat/se31?xjazyk=CZ&xdatum=19981114&xv=1')"
   ]
  },
  {
   "cell_type": "markdown",
   "metadata": {},
   "source": [
    "## Krajska zastupitelstva"
   ]
  },
  {
   "cell_type": "code",
   "execution_count": 20,
   "metadata": {},
   "outputs": [],
   "source": [
    "def gettable_kraj(soup):\n",
    "    '''\n",
    "   Create a table from the BeautifulSoup object given (regional election format)\n",
    "   There are only 13 regions because Prague is not counted.\n",
    "    '''\n",
    "    table=soup.find('table').findAll('tr')\n",
    "    tb = table[2:15]\n",
    "    return(tb)"
   ]
  },
  {
   "cell_type": "code",
   "execution_count": 36,
   "metadata": {},
   "outputs": [],
   "source": [
    "def scrapetable_kraj(table):\n",
    "    '''\n",
    "   Create a DataFrame table with regions and respective polls (regional election format)\n",
    "    '''\n",
    "    df_scraped = pd.DataFrame()\n",
    "    for row in table:\n",
    "        kraj = row.findAll('td')[1].text\n",
    "        ucast = row.findAll('td')[7].text\n",
    "        row1 = pd.Series({\"Kraj\":kraj,\"Účast\":ucast})\n",
    "        df_scraped = pd.concat([df_scraped, row1], axis=1)\n",
    "    df_scraped = df_scraped.T\n",
    "    return(df_scraped)"
   ]
  },
  {
   "cell_type": "code",
   "execution_count": 37,
   "metadata": {},
   "outputs": [],
   "source": [
    "soup_kraj_2000 = getsoup('https://volby.cz/pls/kz2000/kz4?xjazyk=CZ&xdatum=20001112')\n",
    "soup_kraj_2004 = getsoup('https://volby.cz/pls/kz2004/kz4?xjazyk=CZ&xdatum=20041105')\n",
    "soup_kraj_2008 = getsoup('https://volby.cz/pls/kz2008/kz4?xjazyk=CZ&xdatum=20081017')\n",
    "soup_kraj_2012 = getsoup('https://volby.cz/pls/kz2012/kz4?xjazyk=CZ&xdatum=20121012')\n",
    "soup_kraj_2016 = getsoup('https://volby.cz/pls/kz2016/kz4?xjazyk=CZ&xdatum=20161007')\n",
    "soup_kraj_2020 = getsoup('https://volby.cz/pls/kz2020/kz4?xjazyk=CZ')"
   ]
  },
  {
   "cell_type": "code",
   "execution_count": null,
   "metadata": {},
   "outputs": [],
   "source": []
  },
  {
   "cell_type": "code",
   "execution_count": 51,
   "metadata": {},
   "outputs": [],
   "source": [
    "list_soup_kraj = (soup_kraj_2000, soup_kraj_2004, soup_kraj_2008, soup_kraj_2012, soup_kraj_2016, soup_kraj_2020)\n",
    "\n",
    "i=0\n",
    "list_table_kraj = [1, 2, 3, 4, 5, 6]\n",
    "for year in list_soup_kraj:\n",
    "    list_table_kraj[i] = gettable_kraj(year)\n",
    "    i = i+1\n",
    "   "
   ]
  },
  {
   "cell_type": "code",
   "execution_count": 54,
   "metadata": {},
   "outputs": [],
   "source": [
    "i=0\n",
    "list_scrape_kraj = [1,2,3,4,5,6]\n",
    "for year in list_table_kraj:\n",
    "    list_scrape_kraj[i] = scrapetable_kraj(year)\n",
    "    i=i+1"
   ]
  },
  {
   "cell_type": "code",
   "execution_count": 71,
   "metadata": {},
   "outputs": [
    {
     "name": "stdout",
     "output_type": "stream",
     "text": [
      "                     Kraj    Účast\n",
      "0       Středočeský kraj    32.77 \n",
      "0       Budějovický kraj    34.13 \n",
      "0          Plzeňský kraj    35.55 \n",
      "0       Karlovarský kraj    28.44 \n",
      "0           Ústecký kraj    29.68 \n",
      "0         Liberecký kraj    33.07 \n",
      "0   Královéhradecký kraj    34.74 \n",
      "0        Pardubický kraj    36.46 \n",
      "0         Jihlavský kraj    35.86 \n",
      "0          Brněnský kraj    34.93 \n",
      "0         Olomoucký kraj    34.19 \n",
      "0           Zlínský kraj    36.07 \n",
      "0         Ostravský kraj    32.24 \n",
      "                     Kraj    Účast\n",
      "0       Středočeský kraj    30.73 \n",
      "0         Jihočeský kraj    30.45 \n",
      "0          Plzeňský kraj    31.34 \n",
      "0       Karlovarský kraj    24.99 \n",
      "0           Ústecký kraj    25.37 \n",
      "0         Liberecký kraj    30.83 \n",
      "0   Královéhradecký kraj    32.56 \n",
      "0        Pardubický kraj    32.60 \n",
      "0               Vysočina    31.82 \n",
      "0      Jihomoravský kraj    29.71 \n",
      "0         Olomoucký kraj    28.44 \n",
      "0           Zlínský kraj    30.63 \n",
      "0   Moravskoslezský kraj    27.55 \n",
      "                   Kraj  Účast\n",
      "0      Středočeský kraj  42,14\n",
      "0        Jihočeský kraj  40,78\n",
      "0         Plzeňský kraj  40,28\n",
      "0      Karlovarský kraj  35,01\n",
      "0          Ústecký kraj  37,44\n",
      "0        Liberecký kraj  38,08\n",
      "0  Královéhradecký kraj  41,72\n",
      "0       Pardubický kraj  42,61\n",
      "0              Vysočina  44,88\n",
      "0     Jihomoravský kraj  41,05\n",
      "0        Olomoucký kraj  38,50\n",
      "0          Zlínský kraj  41,13\n",
      "0  Moravskoslezský kraj  38,60\n",
      "                   Kraj  Účast\n",
      "0      Středočeský kraj  36,45\n",
      "0        Jihočeský kraj  38,59\n",
      "0         Plzeňský kraj  38,21\n",
      "0      Karlovarský kraj  31,57\n",
      "0          Ústecký kraj  33,94\n",
      "0        Liberecký kraj  38,55\n",
      "0  Královéhradecký kraj  38,43\n",
      "0       Pardubický kraj  39,47\n",
      "0         Kraj Vysočina  41,05\n",
      "0     Jihomoravský kraj  37,76\n",
      "0        Olomoucký kraj  35,67\n",
      "0          Zlínský kraj  40,34\n",
      "0  Moravskoslezský kraj  33,17\n",
      "                   Kraj  Účast\n",
      "0      Středočeský kraj  34,76\n",
      "0        Jihočeský kraj  36,31\n",
      "0         Plzeňský kraj  35,74\n",
      "0      Karlovarský kraj  30,23\n",
      "0          Ústecký kraj  28,94\n",
      "0        Liberecký kraj  35,91\n",
      "0  Královéhradecký kraj  37,33\n",
      "0       Pardubický kraj  36,80\n",
      "0         Kraj Vysočina  37,34\n",
      "0     Jihomoravský kraj  36,84\n",
      "0        Olomoucký kraj  33,20\n",
      "0          Zlínský kraj  38,50\n",
      "0  Moravskoslezský kraj  30,58\n",
      "                   Kraj  Účast\n",
      "0      Středočeský kraj  40,66\n",
      "0        Jihočeský kraj  39,51\n",
      "0         Plzeňský kraj  38,80\n",
      "0      Karlovarský kraj  34,94\n",
      "0          Ústecký kraj  31,30\n",
      "0        Liberecký kraj  40,41\n",
      "0  Královéhradecký kraj  41,01\n",
      "0       Pardubický kraj  40,87\n",
      "0         Kraj Vysočina  39,65\n",
      "0     Jihomoravský kraj  38,82\n",
      "0        Olomoucký kraj  37,29\n",
      "0          Zlínský kraj  41,19\n",
      "0  Moravskoslezský kraj  32,71\n"
     ]
    }
   ],
   "source": [
    "print_list(list_scrape_kraj)"
   ]
  },
  {
   "cell_type": "markdown",
   "metadata": {},
   "source": [
    "## Evropsky parlament"
   ]
  },
  {
   "cell_type": "code",
   "execution_count": 76,
   "metadata": {},
   "outputs": [],
   "source": [
    "def gettable_eu(soup):\n",
    "    '''\n",
    "   Create a table from the BeautifulSoup object given (european parliament election format)\n",
    "    '''\n",
    "    table=soup.find('table').findAll('tr')\n",
    "    tb = table[2:16]\n",
    "    return(tb)"
   ]
  },
  {
   "cell_type": "code",
   "execution_count": 87,
   "metadata": {},
   "outputs": [],
   "source": [
    "def scrapetable_eu(table):\n",
    "    '''\n",
    "   Create a DataFrame table with regions and respective polls (european parliament election format)\n",
    "    '''\n",
    "    df_scraped = pd.DataFrame()\n",
    "    for row in table:\n",
    "        kraj = row.findAll('th')[0].text\n",
    "        ucast = row.findAll('td')[7].text\n",
    "        row1 = pd.Series({\"Kraj\":kraj,\"Účast\":ucast})\n",
    "        df_scraped = pd.concat([df_scraped, row1], axis=1)\n",
    "    df_scraped = df_scraped.T\n",
    "    return(df_scraped)"
   ]
  },
  {
   "cell_type": "code",
   "execution_count": 89,
   "metadata": {},
   "outputs": [],
   "source": [
    "soup_eu_2004 = getsoup('https://volby.cz/pls/ep2004/ep121?xjazyk=CZ')\n",
    "soup_eu_2009 = getsoup('https://volby.cz/pls/ep2009/ep121?xjazyk=CZ')\n",
    "soup_eu_2014 = getsoup('https://volby.cz/pls/ep2014/ep121?xjazyk=CZ')\n",
    "soup_eu_2019 = getsoup('https://volby.cz/pls/ep2019/ep121?xjazyk=CZ')"
   ]
  },
  {
   "cell_type": "code",
   "execution_count": 90,
   "metadata": {},
   "outputs": [],
   "source": [
    "list_soup_eu = (soup_eu_2004, soup_eu_2009, soup_eu_2014, soup_eu_2019)\n",
    "\n",
    "i=0\n",
    "list_table_eu = [1, 2, 3, 4]\n",
    "for year in list_soup_eu:\n",
    "    list_table_eu[i] = gettable_eu(year)\n",
    "    i = i+1"
   ]
  },
  {
   "cell_type": "code",
   "execution_count": 91,
   "metadata": {},
   "outputs": [],
   "source": [
    "i=0\n",
    "list_scrape_eu = [1, 2, 3, 4]\n",
    "for year in list_table_eu:\n",
    "    list_scrape_eu[i] = scrapetable_eu(year)\n",
    "    i=i+1"
   ]
  },
  {
   "cell_type": "code",
   "execution_count": 92,
   "metadata": {},
   "outputs": [
    {
     "name": "stdout",
     "output_type": "stream",
     "text": [
      "                   Kraj    Účast\n",
      "0    Hlavní město Praha  338 230\n",
      "0      Středočeský kraj  270 496\n",
      "0        Jihočeský kraj  137 446\n",
      "0         Plzeňský kraj  130 081\n",
      "0      Karlovarský kraj   56 227\n",
      "0          Ústecký kraj  151 676\n",
      "0        Liberecký kraj   92 333\n",
      "0  Královéhradecký kraj  133 717\n",
      "0       Pardubický kraj  119 443\n",
      "0              Vysočina  119 838\n",
      "0     Jihomoravský kraj  273 718\n",
      "0        Olomoucký kraj  139 805\n",
      "0          Zlínský kraj  138 667\n",
      "0  Moravskoslezský kraj  242 613\n",
      "                   Kraj    Účast\n",
      "0    Hlavní město Praha  341 219\n",
      "0      Středočeský kraj  285 850\n",
      "0        Jihočeský kraj  141 944\n",
      "0         Plzeňský kraj  127 950\n",
      "0      Karlovarský kraj   53 184\n",
      "0          Ústecký kraj  149 206\n",
      "0        Liberecký kraj   93 049\n",
      "0  Královéhradecký kraj  130 543\n",
      "0       Pardubický kraj  119 374\n",
      "0              Vysočina  119 309\n",
      "0     Jihomoravský kraj  271 202\n",
      "0        Olomoucký kraj  141 195\n",
      "0          Zlínský kraj  134 243\n",
      "0  Moravskoslezský kraj  260 869\n",
      "                   Kraj    Účast\n",
      "0    Hlavní město Praha  237 976\n",
      "0      Středočeský kraj  194 475\n",
      "0        Jihočeský kraj   91 317\n",
      "0         Plzeňský kraj   82 566\n",
      "0      Karlovarský kraj   33 514\n",
      "0          Ústecký kraj   91 209\n",
      "0        Liberecký kraj   60 371\n",
      "0  Královéhradecký kraj   83 818\n",
      "0       Pardubický kraj   73 297\n",
      "0         Kraj Vysočina   75 689\n",
      "0     Jihomoravský kraj  182 186\n",
      "0        Olomoucký kraj   85 854\n",
      "0          Zlínský kraj   84 513\n",
      "0  Moravskoslezský kraj  150 582\n",
      "                   Kraj    Účast\n",
      "0    Hlavní město Praha  347 714\n",
      "0      Středočeský kraj  313 578\n",
      "0        Jihočeský kraj  148 288\n",
      "0         Plzeňský kraj  126 691\n",
      "0      Karlovarský kraj   54 004\n",
      "0          Ústecký kraj  142 810\n",
      "0        Liberecký kraj   98 517\n",
      "0  Královéhradecký kraj  133 815\n",
      "0       Pardubický kraj  118 172\n",
      "0         Kraj Vysočina  121 216\n",
      "0     Jihomoravský kraj  279 886\n",
      "0        Olomoucký kraj  135 152\n",
      "0          Zlínský kraj  134 571\n",
      "0  Moravskoslezský kraj  232 964\n"
     ]
    }
   ],
   "source": [
    "print_list(list_scrape_eu)"
   ]
  },
  {
   "cell_type": "markdown",
   "metadata": {},
   "source": [
    "# Vysledky voleb"
   ]
  },
  {
   "cell_type": "markdown",
   "metadata": {},
   "source": [
    "## Prezidentske"
   ]
  },
  {
   "cell_type": "code",
   "execution_count": 175,
   "metadata": {},
   "outputs": [],
   "source": [
    "def getresults_prez(soup):\n",
    "    '''\n",
    "   Create a table from the BeautifulSoup object given (presidential election format)\n",
    "    '''\n",
    "    table=soup.find('table', id=\"pe2_t2\").findAll('tr')\n",
    "    tb = table[2:16]\n",
    "    return(tb)"
   ]
  },
  {
   "cell_type": "code",
   "execution_count": 176,
   "metadata": {},
   "outputs": [],
   "source": [
    "def scraperesults_prez(table):\n",
    "    '''\n",
    "   Create a DataFrame table with regions and respective polls (presidential election format)\n",
    "    '''\n",
    "    df_scraped = pd.DataFrame()\n",
    "    for row in table:\n",
    "        kandidat = row.findAll('td')[1].text\n",
    "        vysledek = row.findAll('td')[5].text\n",
    "        row1 = pd.Series({\"Kandidat\":kandidat,\"Vysledek\":vysledek})\n",
    "        df_scraped = pd.concat([df_scraped, row1], axis=1)\n",
    "    df_scraped = df_scraped.T\n",
    "    return(df_scraped)"
   ]
  },
  {
   "cell_type": "code",
   "execution_count": 177,
   "metadata": {},
   "outputs": [],
   "source": [
    "soup_prez_res_2013 = getsoup('https://volby.cz/pls/prez2013/pe2?xjazyk=CZ')\n",
    "soup_prez_res_2018 = getsoup('https://volby.cz/pls/prez2018/pe2?xjazyk=CZ')"
   ]
  },
  {
   "cell_type": "code",
   "execution_count": 178,
   "metadata": {},
   "outputs": [],
   "source": [
    "list_soup_prez_res = (soup_prez_res_2013, soup_prez_res_2018)\n",
    "\n",
    "i=0\n",
    "list_tab_res_prez = [1, 2]\n",
    "for year in list_soup_prez_res:\n",
    "    list_tab_res_prez[i] = getresults_prez(year)\n",
    "    i = i+1"
   ]
  },
  {
   "cell_type": "code",
   "execution_count": 179,
   "metadata": {},
   "outputs": [],
   "source": [
    "i=0\n",
    "list_res_prez = [1, 2]\n",
    "for year in list_tab_res_prez:\n",
    "    list_res_prez[i] = scraperesults_prez(year)\n",
    "    i=i+1"
   ]
  },
  {
   "cell_type": "code",
   "execution_count": 181,
   "metadata": {},
   "outputs": [
    {
     "name": "stdout",
     "output_type": "stream",
     "text": [
      "                     Kandidat Vysledek\n",
      "0   Roithová Zuzana MUDr. MBA     4,95\n",
      "0       Fischer Jan Ing. CSc.    16,35\n",
      "0        Bobošíková Jana Ing.     2,39\n",
      "0           Fischerová Taťana     3,23\n",
      "0       Sobotka Přemysl MUDr.     2,46\n",
      "0            Zeman Miloš Ing.    24,21\n",
      "0  Franz Vladimír Prof. JUDr.     6,84\n",
      "0             Dienstbier Jiří    16,12\n",
      "0         Schwarzenberg Karel    23,40\n",
      "                                  Kandidat Vysledek\n",
      "0                     Topolánek Mirek Ing.     4,30\n",
      "0                Horáček Michal Mgr. Ph.D.     9,18\n",
      "0                       Fischer Pavel Mgr.    10,23\n",
      "0                         Hynek Jiří RNDr.     1,23\n",
      "0                         Hannig Petr Mgr.     0,56\n",
      "0        Kulhánek Vratislav Ing. Dr. h. c.     0,47\n",
      "0                         Zeman Miloš Ing.    38,56\n",
      "0             Hilšer Marek MUDr. Bc. Ph.D.     8,83\n",
      "0  Drahoš Jiří prof. Ing. DrSc., dr. h. c.    26,60\n"
     ]
    }
   ],
   "source": [
    "print_list(list_res_prez)"
   ]
  },
  {
   "cell_type": "markdown",
   "metadata": {},
   "source": [
    "## Parlamentni"
   ]
  },
  {
   "cell_type": "code",
   "execution_count": 221,
   "metadata": {},
   "outputs": [],
   "source": [
    "def getresults_par_before2002(soup):\n",
    "    '''\n",
    "   Create a table from the BeautifulSoup object given (parliament election format)\n",
    "    '''\n",
    "    table=soup.findAll('table')[1].findAll('tr')\n",
    "    tb = table[2:20]\n",
    "    return(tb)"
   ]
  },
  {
   "cell_type": "code",
   "execution_count": 222,
   "metadata": {},
   "outputs": [],
   "source": [
    "def getresults_par_after2002(soup):\n",
    "    '''\n",
    "   Create a table from the BeautifulSoup object given (parliament election format)\n",
    "    '''\n",
    "    table=soup.findAll('table')[2].findAll('tr')\n",
    "    tb = table[2:20]\n",
    "    return(tb)"
   ]
  },
  {
   "cell_type": "code",
   "execution_count": 226,
   "metadata": {},
   "outputs": [],
   "source": [
    "def scraperesults_par_before2002(table):\n",
    "    '''\n",
    "   Create a DataFrame table with regions and respective polls (parliament election format)\n",
    "    '''\n",
    "    df_scraped = pd.DataFrame()\n",
    "    for row in table:\n",
    "        strana1 = row.findAll('td')[1].text\n",
    "        vysledek1 = row.findAll('td')[3].text\n",
    "        strana2 = row.findAll('td')[6].text\n",
    "        vysledek2 = row.findAll('td')[8].text\n",
    "        row1 = pd.Series({\"Strana\":strana1,\"Vysledek\":vysledek1})\n",
    "        row2 = pd.Series({\"Strana\":strana2,\"Vysledek\":vysledek2})\n",
    "        df_scraped = pd.concat([df_scraped, row1], axis=1)\n",
    "        df_scraped = pd.concat([df_scraped, row2], axis=1)\n",
    "    df_scraped = df_scraped.T\n",
    "    return(df_scraped)"
   ]
  },
  {
   "cell_type": "code",
   "execution_count": 225,
   "metadata": {},
   "outputs": [],
   "source": [
    "def scraperesults_par_after2002(table1, table2):\n",
    "    '''\n",
    "   Create a DataFrame table with regions and respective polls (parliament election format)\n",
    "    '''\n",
    "    df_scraped = pd.DataFrame()\n",
    "    for row in table1:\n",
    "        strana1 = row.findAll('td')[1].text\n",
    "        vysledek1 = row.findAll('td')[3].text\n",
    "        row1 = pd.Series({\"Strana\":strana1,\"Vysledek\":vysledek1})\n",
    "        df_scraped = pd.concat([df_scraped, row1], axis=1)\n",
    "    for row in table2:\n",
    "        strana2 = row.findAll('td')[1].text\n",
    "        vysledek2 = row.findAll('td')[3].text\n",
    "        row2 = pd.Series({\"Strana\":strana2,\"Vysledek\":vysledek2})  \n",
    "        df_scraped = pd.concat([df_scraped, row2], axis=1)\n",
    "    df_scraped = df_scraped.T\n",
    "    return(df_scraped)"
   ]
  },
  {
   "cell_type": "code",
   "execution_count": 184,
   "metadata": {},
   "outputs": [],
   "source": [
    "soup_par_res_1996 = getsoup('https://volby.cz/pls/ps1996/u4')\n",
    "soup_par_res_1998 = getsoup('https://volby.cz/pls/ps1998/u4')\n",
    "soup_par_res_2002 = getsoup('https://volby.cz/pls/ps2002/ps2?xjazyk=CZ')\n",
    "soup_par_res_2006 = getsoup('https://volby.cz/pls/ps2006/ps2?xjazyk=CZ')\n",
    "soup_par_res_2010 = getsoup('https://volby.cz/pls/ps2010/ps2?xjazyk=CZ')\n",
    "soup_par_res_2013 = getsoup('https://volby.cz/pls/ps2013/ps2?xjazyk=CZ')\n",
    "soup_par_res_2017 = getsoup('https://volby.cz/pls/ps2017nss/ps2?xjazyk=CZ')"
   ]
  },
  {
   "cell_type": "code",
   "execution_count": 206,
   "metadata": {},
   "outputs": [],
   "source": [
    "list_soup_par_res1 = [soup_par_res_1996,soup_par_res_1998,soup_par_res_2002]\n",
    "\n",
    "i=0\n",
    "list_tab_res_par1 = [1, 2, 3]\n",
    "for year in list_soup_par_res1:\n",
    "    list_tab_res_par1[i] = getresults_par_before2002(year)\n",
    "    i = i+1"
   ]
  },
  {
   "cell_type": "code",
   "execution_count": 223,
   "metadata": {},
   "outputs": [],
   "source": [
    "list_soup_par_res2 = [soup_par_res_2006, soup_par_res_2010, soup_par_res_2013, soup_par_res_2017]\n",
    "\n",
    "i=0\n",
    "list_tab_res_par12 = [1, 2, 3, 4]\n",
    "for year in list_soup_par_res2:\n",
    "    list_tab_res_par12[i] = getresults_par_before2002(year)\n",
    "    i = i+1\n",
    "    \n",
    "i=0\n",
    "list_tab_res_par22 = [1, 2, 3, 4]\n",
    "for year in list_soup_par_res2:\n",
    "    list_tab_res_par22[i] = getresults_par_after2002(year)\n",
    "    i = i+1"
   ]
  },
  {
   "cell_type": "code",
   "execution_count": 240,
   "metadata": {},
   "outputs": [],
   "source": [
    "i=0\n",
    "list_res_par = [1, 2, 3, 4, 5, 6, 7]\n",
    "for year in list_tab_res_par1:\n",
    "    list_res_par[i] = scraperesults_par_before2002(year)\n",
    "    i=i+1\n",
    "    \n",
    "\n",
    "for j in range(4):\n",
    "    list_res_par[i] = scraperesults_par_after2002(list_tab_res_par12[j], list_tab_res_par22[j])\n",
    "    i=i+1"
   ]
  },
  {
   "cell_type": "code",
   "execution_count": 242,
   "metadata": {},
   "outputs": [],
   "source": [
    "#print_list(list_res_par)\n"
   ]
  },
  {
   "cell_type": "markdown",
   "metadata": {},
   "source": [
    "## Evropske"
   ]
  },
  {
   "cell_type": "code",
   "execution_count": 251,
   "metadata": {},
   "outputs": [],
   "source": [
    "def getresults_eu1(soup):\n",
    "    '''\n",
    "   Create a table from the BeautifulSoup object given (european election format)\n",
    "    '''\n",
    "    table=soup.findAll('table')[1].findAll('tr')\n",
    "    tb = table[2:30]\n",
    "    return(tb)"
   ]
  },
  {
   "cell_type": "code",
   "execution_count": 261,
   "metadata": {},
   "outputs": [],
   "source": [
    "def getresults_eu2(soup):\n",
    "    '''\n",
    "   Create a table from the BeautifulSoup object given (european election format)\n",
    "    '''\n",
    "    table=soup.findAll('table')[2].findAll('tr')\n",
    "    tb = table[2:20]\n",
    "    return(tb)"
   ]
  },
  {
   "cell_type": "code",
   "execution_count": 264,
   "metadata": {},
   "outputs": [],
   "source": [
    "def scraperesults_eu1(table1, table2):\n",
    "    '''\n",
    "   Create a DataFrame table with regions and respective polls (european parliament election format)\n",
    "    '''\n",
    "    df_scraped = pd.DataFrame()\n",
    "    for row in table1:\n",
    "        strana1 = row.findAll('td')[1].text\n",
    "        vysledek1 = row.findAll('td')[3].text\n",
    "        row1 = pd.Series({\"Strana\":strana1,\"Vysledek\":vysledek1})\n",
    "        df_scraped = pd.concat([df_scraped, row1], axis=1)\n",
    "    for row in table2:\n",
    "        strana2 = row.findAll('td')[1].text\n",
    "        vysledek2 = row.findAll('td')[3].text\n",
    "        row2 = pd.Series({\"Strana\":strana2,\"Vysledek\":vysledek2})  \n",
    "        df_scraped = pd.concat([df_scraped, row2], axis=1)\n",
    "    df_scraped = df_scraped.T\n",
    "    return(df_scraped)"
   ]
  },
  {
   "cell_type": "code",
   "execution_count": 259,
   "metadata": {},
   "outputs": [],
   "source": [
    "soup_eu_res_2004 = getsoup('https://volby.cz/pls/ep2004/ep11?xjazyk=CZ')\n",
    "soup_eu_res_2009 = getsoup('https://volby.cz/pls/ep2009/ep11?xjazyk=CZ')\n",
    "soup_eu_res_2014 = getsoup('https://volby.cz/pls/ep2014/ep11?xjazyk=CZ')\n",
    "soup_eu_res_2019 = getsoup('https://volby.cz/pls/ep2019/ep11?xjazyk=CZ')"
   ]
  },
  {
   "cell_type": "code",
   "execution_count": 272,
   "metadata": {},
   "outputs": [],
   "source": [
    "list_soup_eu = [soup_eu_res_2004, soup_eu_res_2009, soup_eu_res_2014, soup_eu_res_2019]\n",
    "\n",
    "i=0\n",
    "list_tab_res_eu12 = [1, 2, 3, 4]\n",
    "for year in list_soup_eu:\n",
    "    list_tab_res_eu12[i] = getresults_eu1(year)\n",
    "    i = i+1\n",
    "    \n",
    "i=0\n",
    "list_tab_res_eu22 = [1, 2, 3, 4]\n",
    "for year in list_soup_eu:\n",
    "    list_tab_res_eu22[i] = getresults_eu2(year)\n",
    "    i = i+1"
   ]
  },
  {
   "cell_type": "code",
   "execution_count": 273,
   "metadata": {},
   "outputs": [],
   "source": [
    "\n",
    "list_res_eu = [1, 2, 3, 4]\n",
    " \n",
    "for j in range(4):\n",
    "    list_res_eu[j] = scraperesults_eu1(list_tab_res_eu12[j], list_tab_res_eu22[j])"
   ]
  },
  {
   "cell_type": "code",
   "execution_count": 274,
   "metadata": {},
   "outputs": [
    {
     "name": "stdout",
     "output_type": "stream",
     "text": [
      "                           Strana Vysledek\n",
      "0  SNK sdruž.nez. a Evropští dem.    11,02\n",
      "0   Koruna Česká (monarch.strana)     0,19\n",
      "0           Helax-Ostrava se baví     0,14\n",
      "0    Česká str.sociálně demokrat.     8,78\n",
      "0                 Národní koalice     0,12\n",
      "0    Občanská demokratická strana    30,04\n",
      "0    Str.pro otevřenou společnost     0,23\n",
      "0      Strana demokrat.socialismu     0,07\n",
      "0                 Strana zelených     3,16\n",
      "0            Humanistická aliance     0,17\n",
      "0            Konzervativní strana     0,21\n",
      "0           \"Sdružení nestraníků\"     0,50\n",
      "0   Strana občanů republiky České     0,11\n",
      "0  Masarykova demokratická strana     0,18\n",
      "0       Všeobecná občanská strana     0,03\n",
      "0                 Dělnická strana     0,18\n",
      "0                    Strana práce     0,07\n",
      "0       Balbínova poetická strana     0,59\n",
      "0   Za zájmy Moravy ve sjedn.Evr.     0,39\n",
      "0   Křesť.demokr.unie-Čs.str.lid.     9,57\n",
      "0                      Pravý Blok     1,17\n",
      "0          Strana zdravého rozumu     0,27\n",
      "0      Unie liberálních demokratů     1,69\n",
      "0  Komunistická str.Čech a Moravy    20,26\n",
      "0     Str.venkova-spoj.občan.síly     0,50\n",
      "0       Strana za životní jistoty     0,51\n",
      "0      Nezávislá iniciativa (NEI)     0,71\n",
      "0                        SVOBODNÍ     0,05\n",
      "0  \"V.Kožený-Občan.feder.demokr.\"     0,08\n",
      "0    Republikáni Miroslava Sládka     0,67\n",
      "0                       NEZÁVISLÍ     8,18\n",
      "0                               -        -\n",
      "                           Strana Vysledek\n",
      "0                     Libertas.cz     0,94\n",
      "0   Křesť.demokr.unie-Čs.str.lid.     7,64\n",
      "0                    Věci veřejné     2,40\n",
      "0    Občanská demokratická strana    31,45\n",
      "0                      Suverenita     4,26\n",
      "0   Volte Pr.Blok-www.cibulka.net     1,00\n",
      "0  Sdruž.pro rep.-Republ.str.Čsl.     0,31\n",
      "0   Česká str.národ.socialistická     0,13\n",
      "0    Evropská demokratická strana     2,88\n",
      "0     Strana svobodných demokratů     0,06\n",
      "0    Demokratická Strana Zelených     0,62\n",
      "0   Česká strana národně sociální     0,03\n",
      "0                  Národní strana     0,26\n",
      "0    SDŽ-Strana důstojného života     0,72\n",
      "0             Humanistická strana     0,19\n",
      "0                        Moravané     0,38\n",
      "0  Spojení demokraté-Sdruž.nezáv.     0,06\n",
      "0                   Liberálové.CZ     0,07\n",
      "0     Strana demokracie a svobody     0,04\n",
      "0  Nejen has. a živn. s uč. do E.     0,29\n",
      "0  Komunistická str.Čech a Moravy    14,18\n",
      "0  \"STAR.A NEZ.-VAŠE ALTERNATIVA\"     2,28\n",
      "0        Strana svobodných občanů     1,26\n",
      "0          SNK Evropští demokraté     1,66\n",
      "0       Balbínova poetická strana     0,15\n",
      "0                 Strana zelených     2,06\n",
      "0   Koruna Česká (monarch.strana)     0,18\n",
      "0                 Lidé a Politika     0,02\n",
      "0         \"Strana soukromníků ČR\"     0,19\n",
      "0                          Zelení     0,15\n",
      "0                 Dělnická strana     1,07\n",
      "0                       NEZÁVISLÍ     0,54\n",
      "0    Česká str.sociálně demokrat.    22,38\n",
      "0                               -        -\n",
      "                           Strana Vysledek\n",
      "0          SNK Evropští demokraté     0,52\n",
      "0                Koalice SP a NO!     0,19\n",
      "0    Klub angažovaných nestraníků     0,15\n",
      "0   NE Bruselu-Národní demokracie     0,46\n",
      "0   Křesť.demokr.unie-Čs.str.lid.     9,95\n",
      "0    Str.zdr.rozumu-NECHCEME EURO     1,63\n",
      "0           Koalice TOP 09 a STAN    15,95\n",
      "0     Liberálně ekologická strana     0,49\n",
      "0       LEV 21-Národní socialisté     0,46\n",
      "0  Komunistická str.Čech a Moravy    10,98\n",
      "0                     evropani.cz     0,04\n",
      "0  REPUBL.STR.ČECH,MORAVY A SLEZ.     0,07\n",
      "0                Fair play - HNPD     0,05\n",
      "0    Česká str.sociálně demokrat.    14,17\n",
      "0                        ANO 2011    16,13\n",
      "0   \"Strana rovných příležitostí\"     0,04\n",
      "0                        Moravané     0,43\n",
      "0            Česká strana regionů     0,16\n",
      "0    Občanská demokratická strana     7,67\n",
      "0                       VIZE 2014     0,24\n",
      "0    Úsvit přímé demokr.T.Okamury     3,12\n",
      "0                 Strana zelených     3,77\n",
      "0        Strana svobodných občanů     5,24\n",
      "0      Romská demokratická strana     0,07\n",
      "0   Komunistická str.Českosloven.     0,56\n",
      "0   Volte Pr.Blok www.cibulka.net     0,52\n",
      "0    ANTIBURSÍK - STOP EKOTERORU!     0,05\n",
      "0              Koalice DSSS a SPE     0,52\n",
      "0          HNUTÍ SOCIÁLNĚ SLABÝCH     0,11\n",
      "0                       Republika     0,14\n",
      "0           Česká pirátská strana     4,78\n",
      "0                Česká Suverenita     0,13\n",
      "0   Koruna Česká (monarch.strana)     0,16\n",
      "0        Aktiv nezávislých občanů     0,08\n",
      "0   Česká strana národně sociální     0,03\n",
      "0   Občanská konzervativní strana     0,22\n",
      "0                    Věci veřejné     0,46\n",
      "                           Strana Vysledek\n",
      "0    Klub angažovaných nestraníků     0,10\n",
      "0          Strana nezávislosti ČR     0,40\n",
      "0     CESTA ODPOVĚDNÉ SPOLEČNOSTI     0,33\n",
      "0              Národní socialisté     0,05\n",
      "0    Občanská demokratická strana    14,54\n",
      "0   ANO, vytrollíme europarlament     1,56\n",
      "0    Česká str.sociálně demokrat.     3,95\n",
      "0      Romská demokratická strana     0,06\n",
      "0  Komunistická str.Čech a Moravy     6,94\n",
      "0               Koalice DSSS a NF     0,18\n",
      "0    SPR-Republ.str.Čsl. M.Sládka     0,18\n",
      "0             Koalice Rozumní, ND     0,78\n",
      "0   Volte Pr.Blok www.cibulka.net     0,20\n",
      "0                     NE-VOLIM.CZ     0,09\n",
      "0                       Pro Česko     0,11\n",
      "0      Vědci pro Českou republiku     0,82\n",
      "0       Koalice ČSNS, Patrioti ČR     0,05\n",
      "0  JSI PRO?Jist.Solid.In.pro bud.     0,03\n",
      "0              PRO Zdraví a Sport     0,33\n",
      "0           Moravské zemské hnutí     0,13\n",
      "0                Česká Suverenita     0,11\n",
      "0                   TVŮJ KANDIDÁT     0,06\n",
      "0                            HLAS     2,38\n",
      "0            Koalice Svobodní, RČ     0,65\n",
      "0            Koalice STAN, TOP 09    11,65\n",
      "0           Česká pirátská strana    13,95\n",
      "0  Svob.a př.dem.-T.Okamura (SPD)     9,14\n",
      "0           ALIANCE NÁRODNÍCH SIL     0,08\n",
      "0                        ANO 2011    21,18\n",
      "0     Agrární demokratická strana     0,16\n",
      "0                        Moravané     0,27\n",
      "0                 PRVNÍ REPUBLIKA     0,03\n",
      "0    Demokratická strana zelených     0,60\n",
      "0   BEZPEČNOST,ODPOVĚDNOST,SOLID.     0,10\n",
      "0        Koalice Soukromníci, NEZ     0,36\n",
      "0                 Evropa společně     0,53\n",
      "0       KONZERVATIVNÍ ALTERNATIVA     0,00\n",
      "0   Křesť.demokr.unie-Čs.str.lid.     7,24\n"
     ]
    }
   ],
   "source": [
    "print_list(list_res_eu)"
   ]
  }
 ],
 "metadata": {
  "kernelspec": {
   "display_name": "Python 3",
   "language": "python",
   "name": "python3"
  },
  "language_info": {
   "codemirror_mode": {
    "name": "ipython",
    "version": 3
   },
   "file_extension": ".py",
   "mimetype": "text/x-python",
   "name": "python",
   "nbconvert_exporter": "python",
   "pygments_lexer": "ipython3",
   "version": "3.8.3"
  }
 },
 "nbformat": 4,
 "nbformat_minor": 4
}
