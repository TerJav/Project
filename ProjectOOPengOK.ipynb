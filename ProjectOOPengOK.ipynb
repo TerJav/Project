{
 "cells": [
  {
   "cell_type": "code",
   "execution_count": 1,
   "metadata": {
    "id": "kRapeVgjWGRF"
   },
   "outputs": [],
   "source": [
    "import pandas as pd\n",
    "import numpy as np\n",
    "import requests\n",
    "from bs4 import BeautifulSoup\n",
    "import itertools\n",
    "import seaborn as sns\n",
    "import matplotlib.pyplot as plt\n"
   ]
  },
  {
   "cell_type": "code",
   "execution_count": 4,
   "metadata": {
    "id": "oXWOrzA7WGRH"
   },
   "outputs": [],
   "source": [
    "def getsoup(link):\n",
    "    '''\n",
    "   Create a BeautifulSoup object from the URL given\n",
    "    '''\n",
    "    r = requests.get(link)\n",
    "    soup = BeautifulSoup(r.text,'lxml')\n",
    "    return(soup)"
   ]
  },
  {
   "cell_type": "code",
   "execution_count": 5,
   "metadata": {
    "id": "Acf5-jqcWGRI"
   },
   "outputs": [],
   "source": [
    "class Result:\n",
    "    def __init__(self):\n",
    "        self.tab_ucast = None\n",
    "        self.tab_vysledek = None\n",
    "    \n",
    "    def prt_ucast(self):\n",
    "        print(self.tab_ucast)\n",
    "        \n",
    "    def prt_vysledek(self):\n",
    "        print(self.tab_vysledek)\n",
    "        \n",
    "        "
   ]
  },
  {
   "cell_type": "markdown",
   "metadata": {
    "id": "_MIZdkqPWGRI"
   },
   "source": [
    "# Voter turnout\n",
    "tabulky volebni ucasti v jednotlivych volbach a letech jsou ulozeny v promennych:\n",
    "   \n",
    "   list_scrape_prez - prezidenttial election, years 2013, 2018\n",
    "   \n",
    "   list_scrape_par - parlamential election, years 1996, 1998, 2002, 2006, 2010, 2013, 2017\n",
    "   \n",
    "   list_scrape_kraj - regional election, years 2000, 2004, 2008, 2012, 2016, 2020\n",
    "   \n",
    "   list_scrape_eu - European parliament election, years 2004, 2009, 2014, 2019"
   ]
  },
  {
   "cell_type": "markdown",
   "metadata": {
    "id": "Xy-9LxyjWGRJ"
   },
   "source": [
    "## Presidential election"
   ]
  },
  {
   "cell_type": "code",
   "execution_count": 6,
   "metadata": {
    "id": "C72BSdv-WGRJ"
   },
   "outputs": [],
   "source": [
    "def gettable_prez(soup):\n",
    "    '''\n",
    "   Create a table from the BeautifulSoup object given (presidential election format)\n",
    "    '''\n",
    "    table=soup.find('table',{'id':'pe41_t1'}).findAll('tr')\n",
    "    tb= table[2:16]\n",
    "    return(tb)\n"
   ]
  },
  {
   "cell_type": "code",
   "execution_count": 7,
   "metadata": {
    "id": "Jsn2pwz8WGRJ"
   },
   "outputs": [],
   "source": [
    "def scrapetable_prez(table, year):\n",
    "    '''\n",
    "   Create a DataFrame table with regions and respective polls (presidential election format)\n",
    "    '''\n",
    "    df_scraped = pd.DataFrame()\n",
    "    for row in table:\n",
    "        kraj = row.findAll('td')[1].text\n",
    "        try:\n",
    "          ucast = float(row.findAll('td',{'class':'cislo'})[5].text.replace(\",\",\".\"))\n",
    "        except ValueError:\n",
    "          ucast = 0\n",
    "        row1 = pd.Series({\"Kraj\":kraj,\"Účast\":ucast})\n",
    "        df_scraped = pd.concat([df_scraped, row1], axis=1)\n",
    "   \n",
    "    df_scraped = df_scraped.T\n",
    "    df_scraped['year'] = year\n",
    "    return(df_scraped)"
   ]
  },
  {
   "cell_type": "code",
   "execution_count": 8,
   "metadata": {
    "id": "8sw5oq_5WGRK"
   },
   "outputs": [],
   "source": [
    "\n",
    "soup_prez_2013 = getsoup('https://volby.cz/pls/prez2013/pe41?xjazyk=CZ&xv=1')\n",
    "soup_prez_2018 = getsoup('https://volby.cz/pls/prez2018/pe41?xjazyk=CZ&xv=1')"
   ]
  },
  {
   "cell_type": "code",
   "execution_count": 9,
   "metadata": {
    "id": "GSU_0huzWGRK"
   },
   "outputs": [],
   "source": [
    "list_soup_prez = [soup_prez_2013, soup_prez_2018]\n",
    "years_prez = [2013, 2018]\n",
    "\n",
    "list_table_prez = []\n",
    "for year in list_soup_prez:\n",
    "    list_table_prez.append(gettable_prez(year))"
   ]
  },
  {
   "cell_type": "code",
   "execution_count": 10,
   "metadata": {
    "id": "ivWlgW8yWGRK"
   },
   "outputs": [],
   "source": [
    "list_scrape_prez = []\n",
    "i=0\n",
    "for year in list_table_prez:\n",
    "    list_scrape_prez.append(scrapetable_prez(year, years_prez[i]))\n",
    "    i+=1"
   ]
  },
  {
   "cell_type": "code",
   "execution_count": 11,
   "metadata": {
    "colab": {
     "base_uri": "https://localhost:8080/"
    },
    "id": "S0RtIX_4WGRK",
    "outputId": "fdde12c4-9e23-4452-f22a-67f67b8edeec"
   },
   "outputs": [
    {
     "name": "stdout",
     "output_type": "stream",
     "text": [
      "[                   Kraj  Účast  year\n",
      "0    Hlavní město Praha   65.1  2013\n",
      "0      Středočeský kraj  63.96  2013\n",
      "0        Jihočeský kraj  63.63  2013\n",
      "0         Plzeňský kraj  61.97  2013\n",
      "0      Karlovarský kraj  52.35  2013\n",
      "0          Ústecký kraj  52.66  2013\n",
      "0        Liberecký kraj   59.1  2013\n",
      "0  Královéhradecký kraj  64.65  2013\n",
      "0       Pardubický kraj  64.86  2013\n",
      "0         Kraj Vysočina  66.79  2013\n",
      "0     Jihomoravský kraj  62.28  2013\n",
      "0        Olomoucký kraj  60.14  2013\n",
      "0          Zlínský kraj  62.45  2013\n",
      "0  Moravskoslezský kraj  56.17  2013,                    Kraj  Účast  year\n",
      "0    Hlavní město Praha  67.56  2018\n",
      "0      Středočeský kraj  64.73  2018\n",
      "0        Jihočeský kraj  63.25  2018\n",
      "0         Plzeňský kraj  61.44  2018\n",
      "0      Karlovarský kraj  52.11  2018\n",
      "0          Ústecký kraj  52.76  2018\n",
      "0        Liberecký kraj  60.74  2018\n",
      "0  Královéhradecký kraj  64.19  2018\n",
      "0       Pardubický kraj  64.98  2018\n",
      "0         Kraj Vysočina  67.01  2018\n",
      "0     Jihomoravský kraj  62.56  2018\n",
      "0        Olomoucký kraj  60.35  2018\n",
      "0          Zlínský kraj  63.74  2018\n",
      "0  Moravskoslezský kraj  56.75  2018]\n"
     ]
    }
   ],
   "source": [
    "prezidentske = Result()\n",
    "prezidentske.tab_ucast = list_scrape_prez\n",
    "prezidentske.prt_ucast()"
   ]
  },
  {
   "cell_type": "code",
   "execution_count": 12,
   "metadata": {
    "colab": {
     "base_uri": "https://localhost:8080/",
     "height": 729
    },
    "id": "K3KvzdQKWGRL",
    "outputId": "501956d2-f085-4435-a45b-815b0565f544"
   },
   "outputs": [
    {
     "data": {
      "text/plain": [
       "<seaborn.axisgrid.FacetGrid at 0x1e57151a3d0>"
      ]
     },
     "execution_count": 12,
     "metadata": {},
     "output_type": "execute_result"
    },
    {
     "data": {
      "image/png": "[encoded data removed]",
      "text/plain": [
       "<Figure size 903.9x595.44 with 1 Axes>"
      ]
     },
     "metadata": {
      "needs_background": "light"
     },
     "output_type": "display_data"
    }
   ],
   "source": [
    "\r\n",
    "all_prez = pd.concat(list_scrape_prez)\r\n",
    "\r\n",
    "\r\n",
    "p = sns.catplot(data=all_prez,x='Kraj', y=\"Účast\", hue=\"year\",height=8.27, aspect=11.7/8.27)\r\n",
    "p.set_xticklabels(rotation=90)"
   ]
  },
  {
   "cell_type": "code",
   "execution_count": 102,
   "metadata": {
    "id": "7kBxme2ZpFn8"
   },
   "outputs": [
    {
     "data": {
      "text/plain": [
       "0    65.10\n",
       "0    63.96\n",
       "0    63.63\n",
       "0    61.97\n",
       "0    52.35\n",
       "0    52.66\n",
       "0    59.10\n",
       "0    64.65\n",
       "0    64.86\n",
       "0    66.79\n",
       "0    62.28\n",
       "0    60.14\n",
       "0    62.45\n",
       "0    56.17\n",
       "Name: Účast, dtype: float64"
      ]
     },
     "execution_count": 102,
     "metadata": {},
     "output_type": "execute_result"
    }
   ],
   "source": [
    "all_prez[\"Účast\"] = all_prez[\"Účast\"].astype(float)\n",
    "all_prez[\"Účast\"][0:14]"
   ]
  },
  {
   "cell_type": "code",
   "execution_count": 14,
   "metadata": {
    "colab": {
     "base_uri": "https://localhost:8080/",
     "height": 142
    },
    "id": "zwhCvXQdqPVo",
    "outputId": "a84132ba-445b-43bd-cad1-d5b3052924de"
   },
   "outputs": [
    {
     "data": {
      "text/html": [
       "<div>\n",
       "<style scoped>\n",
       "    .dataframe tbody tr th:only-of-type {\n",
       "        vertical-align: middle;\n",
       "    }\n",
       "\n",
       "    .dataframe tbody tr th {\n",
       "        vertical-align: top;\n",
       "    }\n",
       "\n",
       "    .dataframe thead th {\n",
       "        text-align: right;\n",
       "    }\n",
       "</style>\n",
       "<table border=\"1\" class=\"dataframe\">\n",
       "  <thead>\n",
       "    <tr style=\"text-align: right;\">\n",
       "      <th></th>\n",
       "      <th>Účast</th>\n",
       "    </tr>\n",
       "    <tr>\n",
       "      <th>year</th>\n",
       "      <th></th>\n",
       "    </tr>\n",
       "  </thead>\n",
       "  <tbody>\n",
       "    <tr>\n",
       "      <th>2013</th>\n",
       "      <td>61.150714</td>\n",
       "    </tr>\n",
       "    <tr>\n",
       "      <th>2018</th>\n",
       "      <td>61.583571</td>\n",
       "    </tr>\n",
       "  </tbody>\n",
       "</table>\n",
       "</div>"
      ],
      "text/plain": [
       "          Účast\n",
       "year           \n",
       "2013  61.150714\n",
       "2018  61.583571"
      ]
     },
     "execution_count": 14,
     "metadata": {},
     "output_type": "execute_result"
    }
   ],
   "source": [
    "all_prez.groupby('year').mean()"
   ]
  },
  {
   "cell_type": "code",
   "execution_count": 108,
   "metadata": {},
   "outputs": [
    {
     "data": {
      "text/plain": [
       "Text(0.5, 1.0, 'Voter turnout of presidential election in 2013 and 2018')"
      ]
     },
     "execution_count": 108,
     "metadata": {},
     "output_type": "execute_result"
    },
    {
     "data": {
      "image/png": "[encoded data removed]",
      "text/plain": [
       "<Figure size 432x288 with 1 Axes>"
      ]
     },
     "metadata": {
      "needs_background": "light"
     },
     "output_type": "display_data"
    }
   ],
   "source": [
    "X = np.arange(14)\n",
    "fig = plt.figure()\n",
    "ax = fig.add_axes([0,0,1,1])\n",
    "ax.bar(X + 0.00, all_prez[\"Účast\"][0:14], color = 'b', width = 0.25)\n",
    "ax.bar(X + 0.25, all_prez[\"Účast\"][14:28], color = 'g', width = 0.25)\n",
    "ax.legend(labels=['2013', '2018'])\n",
    "ax.set_title('Voter turnout of presidential election in 2013 and 2018')"
   ]
  },
  {
   "cell_type": "code",
   "execution_count": 55,
   "metadata": {
    "id": "osNpZeT6xB2u"
   },
   "outputs": [],
   "source": [
    "avg_prez = all_prez.groupby('Kraj').mean()\n",
    "kraj_prez = all_prez[\"Kraj\"][0:14]"
   ]
  },
  {
   "cell_type": "code",
   "execution_count": 109,
   "metadata": {},
   "outputs": [
    {
     "data": {
      "image/png": "[encoded data removed]",
      "text/plain": [
       "<Figure size 432x288 with 1 Axes>"
      ]
     },
     "metadata": {
      "needs_background": "light"
     },
     "output_type": "display_data"
    }
   ],
   "source": [
    "fig = plt.figure()\n",
    "ax = fig.add_axes([0,0,1,1])\n",
    "kr = kraj_prez\n",
    "avg = avg_prez[\"Účast\"]\n",
    "ax.bar(kr,avg)\n",
    "ax.set_title('Average voter turnout of presidential election')\n",
    "plt.show()"
   ]
  },
  {
   "cell_type": "markdown",
   "metadata": {
    "id": "mmJ31r0zWGRL"
   },
   "source": [
    "## Pariament election"
   ]
  },
  {
   "cell_type": "code",
   "execution_count": 44,
   "metadata": {
    "id": "t8s8mFWCWGRL"
   },
   "outputs": [],
   "source": [
    "def gettable_par_before1998(soup):\n",
    "    '''\n",
    "   Create a table from the BeautifulSoup object given (parlamential election format)\n",
    "    '''\n",
    "    table=soup.find('table').findAll('tr')\n",
    "    tb = table[2:10]\n",
    "    return(tb)\n"
   ]
  },
  {
   "cell_type": "code",
   "execution_count": 45,
   "metadata": {
    "id": "oTeEdKLhWGRL"
   },
   "outputs": [],
   "source": [
    "def gettable_par_after1998(soup):\n",
    "    '''\n",
    "   Create a table from the BeautifulSoup object given (parlamential election format)\n",
    "    '''\n",
    "    table=soup.find('table').findAll('tr')\n",
    "    tb = table[2:16]\n",
    "    return(tb)"
   ]
  },
  {
   "cell_type": "code",
   "execution_count": 46,
   "metadata": {
    "id": "zDUAZqzPWGRM"
   },
   "outputs": [],
   "source": [
    "def scrapetable_par(table, year):\n",
    "    '''\n",
    "   Create a DataFrame table with regions and respective polls (parlamentiar election format)\n",
    "    '''\n",
    "    df_scraped = pd.DataFrame()\n",
    "    for row in table:\n",
    "        kraj = row.findAll('td')[1].text.replace(\"kraj\",\"\").strip()\n",
    "        kraj = kraj.replace(\"Kraj\", \"\").strip()\n",
    "        if kraj == \"Praha\":\n",
    "          kraj = \"Hlavní město Praha\"\n",
    "        ucast = float(row.findAll('td')[7].text.replace(\",\",\".\"))\n",
    "        row1 = pd.Series({\"Kraj\":kraj,\"Ucast\":ucast})\n",
    "        df_scraped = pd.concat([df_scraped, row1], axis=1)\n",
    "    df_scraped = df_scraped.T\n",
    "    df_scraped['year']= year\n",
    "    return(df_scraped)"
   ]
  },
  {
   "cell_type": "code",
   "execution_count": 47,
   "metadata": {
    "id": "cGh4Xt03WGRM"
   },
   "outputs": [],
   "source": [
    "soup_par_1996 = getsoup('https://volby.cz/pls/ps1996/u52')\n",
    "soup_par_1998 = getsoup('https://volby.cz/pls/ps1998/u52')\n",
    "soup_par_2002 = getsoup('https://volby.cz/pls/ps2002/ps5?xjazyk=CZ')\n",
    "soup_par_2006 = getsoup('https://volby.cz/pls/ps2006/ps4?xjazyk=CZ')\n",
    "soup_par_2010 = getsoup('https://volby.cz/pls/ps2010/ps4?xjazyk=CZ')\n",
    "soup_par_2013 = getsoup('https://volby.cz/pls/ps2013/ps4?xjazyk=CZ')\n",
    "soup_par_2017 = getsoup('https://volby.cz/pls/ps2017/ps4?xjazyk=CZ')\n"
   ]
  },
  {
   "cell_type": "code",
   "execution_count": 48,
   "metadata": {
    "id": "rWF2UVNlWGRM"
   },
   "outputs": [],
   "source": [
    "\n",
    "soup_par = np.empty(7, dtype=object)\n",
    "soup_par[0] = soup_par_1996\n",
    "soup_par[1] = soup_par_1998\n",
    "soup_par[2] = soup_par_2002\n",
    "soup_par[3] = soup_par_2006\n",
    "soup_par[4] = soup_par_2010\n",
    "soup_par[5] = soup_par_2013\n",
    "soup_par[6] = soup_par_2017\n"
   ]
  },
  {
   "cell_type": "code",
   "execution_count": 49,
   "metadata": {
    "id": "O3ml3TfDWGRM"
   },
   "outputs": [],
   "source": [
    "years_par = [1996, 1998, 2002, 2006, 2010, 2013, 2017]\n",
    "list_soup_par_before1998 = [soup_par_1996, soup_par_1998]\n",
    "list_soup_par_after1998 = [soup_par_2002, soup_par_2006, soup_par_2010, soup_par_2013, soup_par_2017]\n",
    "\n",
    "\n",
    "list_table_par_before1998 = []\n",
    "for year in list_soup_par_before1998:\n",
    "    list_table_par_before1998.append(gettable_par_before1998(year))\n",
    "   \n",
    "\n",
    "list_table_par_after1998 = []\n",
    "for year in list_soup_par_after1998:\n",
    "    list_table_par_after1998.append(gettable_par_after1998(year))\n",
    " \n"
   ]
  },
  {
   "cell_type": "code",
   "execution_count": 50,
   "metadata": {
    "id": "R9Q-kV1nWGRN"
   },
   "outputs": [],
   "source": [
    "\n",
    "i=0\n",
    "list_scrape_par = []\n",
    "for year in list_table_par_before1998:\n",
    "    list_scrape_par.append(scrapetable_par(year, years_par[i]))\n",
    "    i+=1\n",
    "for year in list_table_par_after1998:\n",
    "    list_scrape_par.append(scrapetable_par(year, years_par[i]))\n",
    "    i+=1"
   ]
  },
  {
   "cell_type": "code",
   "execution_count": 51,
   "metadata": {
    "colab": {
     "base_uri": "https://localhost:8080/"
    },
    "id": "6Xr18Jy0WGRN",
    "outputId": "f0e3f2d9-6113-401e-edfc-8bf7ca4d885e"
   },
   "outputs": [
    {
     "name": "stdout",
     "output_type": "stream",
     "text": [
      "[                 Kraj  Ucast  year\n",
      "0  Hlavní město Praha  69.73  1996\n",
      "0         Středočeský  78.35  1996\n",
      "0           Jihočeský  77.67  1996\n",
      "0         Západočeský  74.56  1996\n",
      "0         Severočeský  72.79  1996\n",
      "0        Východočeský  80.44  1996\n",
      "0        Jihomoravský  79.26  1996\n",
      "0      Severomoravský   76.8  1996,                  Kraj  Ucast  year\n",
      "0  Hlavní město Praha  71.62  1998\n",
      "0         Středočeský  76.38  1998\n",
      "0           Jihočeský  75.24  1998\n",
      "0         Západočeský  72.19  1998\n",
      "0         Severočeský  69.89  1998\n",
      "0        Východočeský  77.64  1998\n",
      "0        Jihomoravský  76.06  1998\n",
      "0      Severomoravský  72.72  1998,                  Kraj  Ucast  year\n",
      "0  Hlavní město Praha  59.98  2002\n",
      "0         Středočeský  58.78  2002\n",
      "0           Jihočeský  58.11  2002\n",
      "0            Plzeňský     58  2002\n",
      "0         Karlovarský  50.17  2002\n",
      "0             Ústecký  50.65  2002\n",
      "0           Liberecký  55.83  2002\n",
      "0     Královéhradecký  60.84  2002\n",
      "0          Pardubický  61.14  2002\n",
      "0            Vysočina  62.45  2002\n",
      "0        Jihomoravský  60.03  2002\n",
      "0           Olomoucký  58.88  2002\n",
      "0             Zlínský  60.02  2002\n",
      "0     Moravskoslezský  55.22  2002,                  Kraj  Ucast  year\n",
      "0  Hlavní město Praha  68.51  2006\n",
      "0         Středočeský  65.96  2006\n",
      "0           Jihočeský  65.36  2006\n",
      "0            Plzeňský  63.92  2006\n",
      "0         Karlovarský  56.48  2006\n",
      "0             Ústecký  57.22  2006\n",
      "0           Liberecký  62.35  2006\n",
      "0     Královéhradecký  66.69  2006\n",
      "0          Pardubický  67.37  2006\n",
      "0            Vysočina  67.61  2006\n",
      "0        Jihomoravský  65.29  2006\n",
      "0           Olomoucký  64.52  2006\n",
      "0             Zlínský   66.9  2006\n",
      "0     Moravskoslezský  61.02  2006,                  Kraj  Ucast  year\n",
      "0  Hlavní město Praha  67.99  2010\n",
      "0         Středočeský  64.26  2010\n",
      "0           Jihočeský  63.58  2010\n",
      "0            Plzeňský  61.68  2010\n",
      "0         Karlovarský  54.04  2010\n",
      "0             Ústecký  55.66  2010\n",
      "0           Liberecký  61.41  2010\n",
      "0     Královéhradecký  64.93  2010\n",
      "0          Pardubický  65.49  2010\n",
      "0            Vysočina  65.68  2010\n",
      "0        Jihomoravský  63.27  2010\n",
      "0           Olomoucký  62.12  2010\n",
      "0             Zlínský  64.27  2010\n",
      "0     Moravskoslezský  58.19  2010,                  Kraj  Ucast  year\n",
      "0  Hlavní město Praha  64.14  2013\n",
      "0         Středočeský  61.47  2013\n",
      "0           Jihočeský  60.55  2013\n",
      "0            Plzeňský  57.92  2013\n",
      "0         Karlovarský  51.57  2013\n",
      "0             Ústecký  51.69  2013\n",
      "0           Liberecký  57.92  2013\n",
      "0     Královéhradecký  61.65  2013\n",
      "0          Pardubický  62.26  2013\n",
      "0            Vysočina  63.37  2013\n",
      "0        Jihomoravský  60.55  2013\n",
      "0           Olomoucký   58.9  2013\n",
      "0             Zlínský  61.53  2013\n",
      "0     Moravskoslezský  55.48  2013,                  Kraj  Ucast  year\n",
      "0  Hlavní město Praha  67.13  2017\n",
      "0         Středočeský  63.44  2017\n",
      "0           Jihočeský  61.74  2017\n",
      "0            Plzeňský  59.91  2017\n",
      "0         Karlovarský  52.11  2017\n",
      "0             Ústecký  52.38  2017\n",
      "0           Liberecký  60.05  2017\n",
      "0     Královéhradecký  63.25  2017\n",
      "0          Pardubický  63.05  2017\n",
      "0            Vysočina  64.03  2017\n",
      "0        Jihomoravský  61.75  2017\n",
      "0           Olomoucký  59.77  2017\n",
      "0             Zlínský  62.12  2017\n",
      "0     Moravskoslezský  55.86  2017]\n"
     ]
    }
   ],
   "source": [
    "parlamentni = Result()\n",
    "parlamentni.tab_ucast = list_scrape_par\n",
    "parlamentni.prt_ucast()\n"
   ]
  },
  {
   "cell_type": "code",
   "execution_count": 52,
   "metadata": {
    "colab": {
     "base_uri": "https://localhost:8080/",
     "height": 721
    },
    "id": "gt3qXMqcZucB",
    "outputId": "f7df9df1-f194-42c9-facd-cec32286a59c"
   },
   "outputs": [
    {
     "data": {
      "text/plain": [
       "<seaborn.axisgrid.FacetGrid at 0x1e5729a5400>"
      ]
     },
     "execution_count": 52,
     "metadata": {},
     "output_type": "execute_result"
    },
    {
     "data": {
      "image/png": "[encoded data removed]",
      "text/plain": [
       "<Figure size 903.9x595.44 with 1 Axes>"
      ]
     },
     "metadata": {
      "needs_background": "light"
     },
     "output_type": "display_data"
    }
   ],
   "source": [
    "all_par = pd.concat(list_scrape_par)\r\n",
    "pa = sns.catplot(data=all_par,x='Kraj', y=\"Ucast\", hue=\"year\",height=8.27, aspect=11.7/8.27)\r\n",
    "pa.set_xticklabels(rotation=90)\r\n"
   ]
  },
  {
   "cell_type": "code",
   "execution_count": 53,
   "metadata": {
    "colab": {
     "base_uri": "https://localhost:8080/",
     "height": 297
    },
    "id": "YZYR_2-4rhRp",
    "outputId": "9d0e186a-171c-44ee-f566-44a18085e4df"
   },
   "outputs": [
    {
     "data": {
      "text/html": [
       "<div>\n",
       "<style scoped>\n",
       "    .dataframe tbody tr th:only-of-type {\n",
       "        vertical-align: middle;\n",
       "    }\n",
       "\n",
       "    .dataframe tbody tr th {\n",
       "        vertical-align: top;\n",
       "    }\n",
       "\n",
       "    .dataframe thead th {\n",
       "        text-align: right;\n",
       "    }\n",
       "</style>\n",
       "<table border=\"1\" class=\"dataframe\">\n",
       "  <thead>\n",
       "    <tr style=\"text-align: right;\">\n",
       "      <th></th>\n",
       "      <th>Účast</th>\n",
       "    </tr>\n",
       "    <tr>\n",
       "      <th>year</th>\n",
       "      <th></th>\n",
       "    </tr>\n",
       "  </thead>\n",
       "  <tbody>\n",
       "    <tr>\n",
       "      <th>1996</th>\n",
       "      <td>76.200000</td>\n",
       "    </tr>\n",
       "    <tr>\n",
       "      <th>1998</th>\n",
       "      <td>73.967500</td>\n",
       "    </tr>\n",
       "    <tr>\n",
       "      <th>2002</th>\n",
       "      <td>57.864286</td>\n",
       "    </tr>\n",
       "    <tr>\n",
       "      <th>2006</th>\n",
       "      <td>64.228571</td>\n",
       "    </tr>\n",
       "    <tr>\n",
       "      <th>2010</th>\n",
       "      <td>62.326429</td>\n",
       "    </tr>\n",
       "    <tr>\n",
       "      <th>2013</th>\n",
       "      <td>59.214286</td>\n",
       "    </tr>\n",
       "    <tr>\n",
       "      <th>2017</th>\n",
       "      <td>60.470714</td>\n",
       "    </tr>\n",
       "  </tbody>\n",
       "</table>\n",
       "</div>"
      ],
      "text/plain": [
       "          Účast\n",
       "year           \n",
       "1996  76.200000\n",
       "1998  73.967500\n",
       "2002  57.864286\n",
       "2006  64.228571\n",
       "2010  62.326429\n",
       "2013  59.214286\n",
       "2017  60.470714"
      ]
     },
     "execution_count": 53,
     "metadata": {},
     "output_type": "execute_result"
    }
   ],
   "source": [
    "all_par[\"Účast\"] = all_par[\"Ucast\"].astype(float)\r\n",
    "all_par.groupby('year').mean()"
   ]
  },
  {
   "cell_type": "code",
   "execution_count": 24,
   "metadata": {
    "colab": {
     "base_uri": "https://localhost:8080/",
     "height": 638
    },
    "id": "OLa82bKQrn0f",
    "outputId": "07da643b-0ec9-4ddb-8386-842150316666"
   },
   "outputs": [
    {
     "data": {
      "text/html": [
       "<div>\n",
       "<style scoped>\n",
       "    .dataframe tbody tr th:only-of-type {\n",
       "        vertical-align: middle;\n",
       "    }\n",
       "\n",
       "    .dataframe tbody tr th {\n",
       "        vertical-align: top;\n",
       "    }\n",
       "\n",
       "    .dataframe thead th {\n",
       "        text-align: right;\n",
       "    }\n",
       "</style>\n",
       "<table border=\"1\" class=\"dataframe\">\n",
       "  <thead>\n",
       "    <tr style=\"text-align: right;\">\n",
       "      <th></th>\n",
       "      <th>year</th>\n",
       "      <th>Účast</th>\n",
       "    </tr>\n",
       "    <tr>\n",
       "      <th>Kraj</th>\n",
       "      <th></th>\n",
       "      <th></th>\n",
       "    </tr>\n",
       "  </thead>\n",
       "  <tbody>\n",
       "    <tr>\n",
       "      <th>Hlavní město Praha</th>\n",
       "      <td>2006.0</td>\n",
       "      <td>67.014286</td>\n",
       "    </tr>\n",
       "    <tr>\n",
       "      <th>Jihomoravský</th>\n",
       "      <td>2006.0</td>\n",
       "      <td>66.601429</td>\n",
       "    </tr>\n",
       "    <tr>\n",
       "      <th>Jihočeský</th>\n",
       "      <td>2006.0</td>\n",
       "      <td>66.035714</td>\n",
       "    </tr>\n",
       "    <tr>\n",
       "      <th>Karlovarský</th>\n",
       "      <td>2009.6</td>\n",
       "      <td>52.874000</td>\n",
       "    </tr>\n",
       "    <tr>\n",
       "      <th>Královéhradecký</th>\n",
       "      <td>2009.6</td>\n",
       "      <td>63.472000</td>\n",
       "    </tr>\n",
       "    <tr>\n",
       "      <th>Liberecký</th>\n",
       "      <td>2009.6</td>\n",
       "      <td>59.512000</td>\n",
       "    </tr>\n",
       "    <tr>\n",
       "      <th>Moravskoslezský</th>\n",
       "      <td>2009.6</td>\n",
       "      <td>57.154000</td>\n",
       "    </tr>\n",
       "    <tr>\n",
       "      <th>Olomoucký</th>\n",
       "      <td>2009.6</td>\n",
       "      <td>60.838000</td>\n",
       "    </tr>\n",
       "    <tr>\n",
       "      <th>Pardubický</th>\n",
       "      <td>2009.6</td>\n",
       "      <td>63.862000</td>\n",
       "    </tr>\n",
       "    <tr>\n",
       "      <th>Plzeňský</th>\n",
       "      <td>2009.6</td>\n",
       "      <td>60.286000</td>\n",
       "    </tr>\n",
       "    <tr>\n",
       "      <th>Severomoravský</th>\n",
       "      <td>1997.0</td>\n",
       "      <td>74.760000</td>\n",
       "    </tr>\n",
       "    <tr>\n",
       "      <th>Severočeský</th>\n",
       "      <td>1997.0</td>\n",
       "      <td>71.340000</td>\n",
       "    </tr>\n",
       "    <tr>\n",
       "      <th>Středočeský</th>\n",
       "      <td>2006.0</td>\n",
       "      <td>66.948571</td>\n",
       "    </tr>\n",
       "    <tr>\n",
       "      <th>Vysočina</th>\n",
       "      <td>2009.6</td>\n",
       "      <td>64.628000</td>\n",
       "    </tr>\n",
       "    <tr>\n",
       "      <th>Východočeský</th>\n",
       "      <td>1997.0</td>\n",
       "      <td>79.040000</td>\n",
       "    </tr>\n",
       "    <tr>\n",
       "      <th>Zlínský</th>\n",
       "      <td>2009.6</td>\n",
       "      <td>62.968000</td>\n",
       "    </tr>\n",
       "    <tr>\n",
       "      <th>Západočeský</th>\n",
       "      <td>1997.0</td>\n",
       "      <td>73.375000</td>\n",
       "    </tr>\n",
       "    <tr>\n",
       "      <th>Ústecký</th>\n",
       "      <td>2009.6</td>\n",
       "      <td>53.520000</td>\n",
       "    </tr>\n",
       "  </tbody>\n",
       "</table>\n",
       "</div>"
      ],
      "text/plain": [
       "                      year      Účast\n",
       "Kraj                                 \n",
       "Hlavní město Praha  2006.0  67.014286\n",
       "Jihomoravský        2006.0  66.601429\n",
       "Jihočeský           2006.0  66.035714\n",
       "Karlovarský         2009.6  52.874000\n",
       "Královéhradecký     2009.6  63.472000\n",
       "Liberecký           2009.6  59.512000\n",
       "Moravskoslezský     2009.6  57.154000\n",
       "Olomoucký           2009.6  60.838000\n",
       "Pardubický          2009.6  63.862000\n",
       "Plzeňský            2009.6  60.286000\n",
       "Severomoravský      1997.0  74.760000\n",
       "Severočeský         1997.0  71.340000\n",
       "Středočeský         2006.0  66.948571\n",
       "Vysočina            2009.6  64.628000\n",
       "Východočeský        1997.0  79.040000\n",
       "Zlínský             2009.6  62.968000\n",
       "Západočeský         1997.0  73.375000\n",
       "Ústecký             2009.6  53.520000"
      ]
     },
     "execution_count": 24,
     "metadata": {
      "tags": []
     },
     "output_type": "execute_result"
    }
   ],
   "source": [
    "all_par.groupby('Kraj').mean()"
   ]
  },
  {
   "cell_type": "code",
   "execution_count": 65,
   "metadata": {},
   "outputs": [],
   "source": [
    "avg_par = all_par.groupby('Kraj').mean()\n",
    "kraj_par = all_par[\"Kraj\"][0:len(avg_par)]"
   ]
  },
  {
   "cell_type": "code",
   "execution_count": 110,
   "metadata": {},
   "outputs": [
    {
     "data": {
      "image/png": "[encoded data removed]",
      "text/plain": [
       "<Figure size 432x288 with 1 Axes>"
      ]
     },
     "metadata": {
      "needs_background": "light"
     },
     "output_type": "display_data"
    }
   ],
   "source": [
    "fig = plt.figure()\n",
    "ax = fig.add_axes([0,0,1,1])\n",
    "kr = kraj_par\n",
    "avg = avg_par[\"Účast\"]\n",
    "ax.bar(kr,avg)\n",
    "ax.set_title('Average voter turnout of parlamential election')\n",
    "plt.show()"
   ]
  },
  {
   "cell_type": "markdown",
   "metadata": {
    "id": "VjQ1-8aDWGRN"
   },
   "source": [
    "## Regional election"
   ]
  },
  {
   "cell_type": "code",
   "execution_count": 69,
   "metadata": {
    "id": "5A5bSkrhWGRO"
   },
   "outputs": [],
   "source": [
    "def gettable_kraj(soup):\n",
    "    '''\n",
    "   Create a table from the BeautifulSoup object given (regional election format)\n",
    "   There are only 13 regions because Prague is not counted.\n",
    "    '''\n",
    "    table=soup.find('table').findAll('tr')\n",
    "    tb = table[2:15]\n",
    "    return(tb)"
   ]
  },
  {
   "cell_type": "code",
   "execution_count": 70,
   "metadata": {
    "id": "MGqmwS0IWGRO"
   },
   "outputs": [],
   "source": [
    "def scrapetable_kraj(table,year):\n",
    "    '''\n",
    "   Create a DataFrame table with regions and respective polls (regional election format)\n",
    "    '''\n",
    "    df_scraped = pd.DataFrame()\n",
    "    for row in table:\n",
    "        kraj = row.findAll('td')[1].text.strip()\n",
    "        if kraj == 'Vysočina':\n",
    "            kraj = 'Kraj Vysočina'\n",
    "\n",
    "        ucast = float(row.findAll('td')[7].text.replace(\",\",\".\"))\n",
    "        print(ucast)\n",
    "        row1 = pd.Series({\"Kraj\":kraj,\"Ucast\":ucast})\n",
    "        df_scraped = pd.concat([df_scraped, row1], axis=1)\n",
    "    df_scraped = df_scraped.T\n",
    "    df_scraped['year'] =  year\n",
    "    return(df_scraped)"
   ]
  },
  {
   "cell_type": "code",
   "execution_count": 71,
   "metadata": {
    "id": "FarTDh4-WGRO"
   },
   "outputs": [],
   "source": [
    "soup_kraj_2000 = getsoup('https://volby.cz/pls/kz2000/kz4?xjazyk=CZ&xdatum=20001112')\n",
    "soup_kraj_2004 = getsoup('https://volby.cz/pls/kz2004/kz4?xjazyk=CZ&xdatum=20041105')\n",
    "soup_kraj_2008 = getsoup('https://volby.cz/pls/kz2008/kz4?xjazyk=CZ&xdatum=20081017')\n",
    "soup_kraj_2012 = getsoup('https://volby.cz/pls/kz2012/kz4?xjazyk=CZ&xdatum=20121012')\n",
    "soup_kraj_2016 = getsoup('https://volby.cz/pls/kz2016/kz4?xjazyk=CZ&xdatum=20161007')\n",
    "soup_kraj_2020 = getsoup('https://volby.cz/pls/kz2020/kz4?xjazyk=CZ')"
   ]
  },
  {
   "cell_type": "code",
   "execution_count": 72,
   "metadata": {
    "id": "0dz72BF-WGRP"
   },
   "outputs": [],
   "source": [
    "list_soup_kraj = (soup_kraj_2000, soup_kraj_2004, soup_kraj_2008, soup_kraj_2012, soup_kraj_2016, soup_kraj_2020)\n",
    "\n",
    "list_table_kraj = []\n",
    "for year in list_soup_kraj:\n",
    "    list_table_kraj.append(gettable_kraj(year))\n",
    "   "
   ]
  },
  {
   "cell_type": "code",
   "execution_count": 113,
   "metadata": {
    "colab": {
     "base_uri": "https://localhost:8080/"
    },
    "id": "Odp_FczwWGRQ",
    "outputId": "c5e15bc5-c90d-4eda-821b-3e3a40dda727"
   },
   "outputs": [
    {
     "name": "stdout",
     "output_type": "stream",
     "text": [
      "32.77\n",
      "34.13\n",
      "35.55\n",
      "28.44\n",
      "29.68\n",
      "33.07\n",
      "34.74\n",
      "36.46\n",
      "35.86\n",
      "34.93\n",
      "34.19\n",
      "36.07\n",
      "32.24\n",
      "30.73\n",
      "30.45\n",
      "31.34\n",
      "24.99\n",
      "25.37\n",
      "30.83\n",
      "32.56\n",
      "32.6\n",
      "31.82\n",
      "29.71\n",
      "28.44\n",
      "30.63\n",
      "27.55\n",
      "42.14\n",
      "40.78\n",
      "40.28\n",
      "35.01\n",
      "37.44\n",
      "38.08\n",
      "41.72\n",
      "42.61\n",
      "44.88\n",
      "41.05\n",
      "38.5\n",
      "41.13\n",
      "38.6\n",
      "36.45\n",
      "38.59\n",
      "38.21\n",
      "31.57\n",
      "33.94\n",
      "38.55\n",
      "38.43\n",
      "39.47\n",
      "41.05\n",
      "37.76\n",
      "35.67\n",
      "40.34\n",
      "33.17\n",
      "34.76\n",
      "36.31\n",
      "35.74\n",
      "30.23\n",
      "28.94\n",
      "35.91\n",
      "37.33\n",
      "36.8\n",
      "37.34\n",
      "36.84\n",
      "33.2\n",
      "38.5\n",
      "30.58\n",
      "40.66\n",
      "39.51\n",
      "38.8\n",
      "34.94\n",
      "31.3\n",
      "40.41\n",
      "41.01\n",
      "40.87\n",
      "39.65\n",
      "38.82\n",
      "37.29\n",
      "41.19\n",
      "32.71\n"
     ]
    }
   ],
   "source": [
    "years_kraj = [2000,2004,2008,2012,2016,2020]\n",
    "list_scrape_kraj = []\n",
    "i=0\n",
    "for year in list_table_kraj:\n",
    "    list_scrape_kraj.append(scrapetable_kraj(year, years_kraj[i]))\n",
    "    i+=1"
   ]
  },
  {
   "cell_type": "code",
   "execution_count": 74,
   "metadata": {
    "colab": {
     "base_uri": "https://localhost:8080/"
    },
    "id": "e7gWXw42WGRQ",
    "outputId": "64260540-8ffd-4714-84a8-8bb30df14709"
   },
   "outputs": [
    {
     "name": "stdout",
     "output_type": "stream",
     "text": [
      "[                   Kraj  Ucast  year\n",
      "0      Středočeský kraj  32.77  2000\n",
      "0      Budějovický kraj  34.13  2000\n",
      "0         Plzeňský kraj  35.55  2000\n",
      "0      Karlovarský kraj  28.44  2000\n",
      "0          Ústecký kraj  29.68  2000\n",
      "0        Liberecký kraj  33.07  2000\n",
      "0  Královéhradecký kraj  34.74  2000\n",
      "0       Pardubický kraj  36.46  2000\n",
      "0        Jihlavský kraj  35.86  2000\n",
      "0         Brněnský kraj  34.93  2000\n",
      "0        Olomoucký kraj  34.19  2000\n",
      "0          Zlínský kraj  36.07  2000\n",
      "0        Ostravský kraj  32.24  2000,                    Kraj  Ucast  year\n",
      "0      Středočeský kraj  30.73  2004\n",
      "0        Jihočeský kraj  30.45  2004\n",
      "0         Plzeňský kraj  31.34  2004\n",
      "0      Karlovarský kraj  24.99  2004\n",
      "0          Ústecký kraj  25.37  2004\n",
      "0        Liberecký kraj  30.83  2004\n",
      "0  Královéhradecký kraj  32.56  2004\n",
      "0       Pardubický kraj   32.6  2004\n",
      "0         Kraj Vysočina  31.82  2004\n",
      "0     Jihomoravský kraj  29.71  2004\n",
      "0        Olomoucký kraj  28.44  2004\n",
      "0          Zlínský kraj  30.63  2004\n",
      "0  Moravskoslezský kraj  27.55  2004,                    Kraj  Ucast  year\n",
      "0      Středočeský kraj  42.14  2008\n",
      "0        Jihočeský kraj  40.78  2008\n",
      "0         Plzeňský kraj  40.28  2008\n",
      "0      Karlovarský kraj  35.01  2008\n",
      "0          Ústecký kraj  37.44  2008\n",
      "0        Liberecký kraj  38.08  2008\n",
      "0  Královéhradecký kraj  41.72  2008\n",
      "0       Pardubický kraj  42.61  2008\n",
      "0         Kraj Vysočina  44.88  2008\n",
      "0     Jihomoravský kraj  41.05  2008\n",
      "0        Olomoucký kraj   38.5  2008\n",
      "0          Zlínský kraj  41.13  2008\n",
      "0  Moravskoslezský kraj   38.6  2008,                    Kraj  Ucast  year\n",
      "0      Středočeský kraj  36.45  2012\n",
      "0        Jihočeský kraj  38.59  2012\n",
      "0         Plzeňský kraj  38.21  2012\n",
      "0      Karlovarský kraj  31.57  2012\n",
      "0          Ústecký kraj  33.94  2012\n",
      "0        Liberecký kraj  38.55  2012\n",
      "0  Královéhradecký kraj  38.43  2012\n",
      "0       Pardubický kraj  39.47  2012\n",
      "0         Kraj Vysočina  41.05  2012\n",
      "0     Jihomoravský kraj  37.76  2012\n",
      "0        Olomoucký kraj  35.67  2012\n",
      "0          Zlínský kraj  40.34  2012\n",
      "0  Moravskoslezský kraj  33.17  2012,                    Kraj  Ucast  year\n",
      "0      Středočeský kraj  34.76  2016\n",
      "0        Jihočeský kraj  36.31  2016\n",
      "0         Plzeňský kraj  35.74  2016\n",
      "0      Karlovarský kraj  30.23  2016\n",
      "0          Ústecký kraj  28.94  2016\n",
      "0        Liberecký kraj  35.91  2016\n",
      "0  Královéhradecký kraj  37.33  2016\n",
      "0       Pardubický kraj   36.8  2016\n",
      "0         Kraj Vysočina  37.34  2016\n",
      "0     Jihomoravský kraj  36.84  2016\n",
      "0        Olomoucký kraj   33.2  2016\n",
      "0          Zlínský kraj   38.5  2016\n",
      "0  Moravskoslezský kraj  30.58  2016,                    Kraj  Ucast  year\n",
      "0      Středočeský kraj  40.66  2020\n",
      "0        Jihočeský kraj  39.51  2020\n",
      "0         Plzeňský kraj   38.8  2020\n",
      "0      Karlovarský kraj  34.94  2020\n",
      "0          Ústecký kraj   31.3  2020\n",
      "0        Liberecký kraj  40.41  2020\n",
      "0  Královéhradecký kraj  41.01  2020\n",
      "0       Pardubický kraj  40.87  2020\n",
      "0         Kraj Vysočina  39.65  2020\n",
      "0     Jihomoravský kraj  38.82  2020\n",
      "0        Olomoucký kraj  37.29  2020\n",
      "0          Zlínský kraj  41.19  2020\n",
      "0  Moravskoslezský kraj  32.71  2020]\n"
     ]
    }
   ],
   "source": [
    "krajske = Result()\n",
    "krajske.tab_ucast = list_scrape_kraj\n",
    "krajske.prt_ucast()"
   ]
  },
  {
   "cell_type": "code",
   "execution_count": 75,
   "metadata": {
    "colab": {
     "base_uri": "https://localhost:8080/",
     "height": 721
    },
    "id": "PnlcY8xPZ_BW",
    "outputId": "645eafd1-1d34-4fd0-e6f9-fb5601441252"
   },
   "outputs": [
    {
     "data": {
      "text/plain": [
       "<seaborn.axisgrid.FacetGrid at 0x1e5743de4c0>"
      ]
     },
     "execution_count": 75,
     "metadata": {},
     "output_type": "execute_result"
    },
    {
     "data": {
      "image/png": "[encoded data removed]",
      "text/plain": [
       "<Figure size 903.9x595.44 with 1 Axes>"
      ]
     },
     "metadata": {
      "needs_background": "light"
     },
     "output_type": "display_data"
    }
   ],
   "source": [
    "all_kraj = pd.concat(list_scrape_kraj)\r\n",
    "kr = sns.catplot(data=all_par,x='Kraj', y=\"Ucast\", hue=\"year\",height=8.27, aspect=11.7/8.27)\r\n",
    "kr.set_xticklabels(rotation=90)"
   ]
  },
  {
   "cell_type": "code",
   "execution_count": 76,
   "metadata": {
    "colab": {
     "base_uri": "https://localhost:8080/",
     "height": 266
    },
    "id": "17brjvXorvCq",
    "outputId": "46e490bd-cc54-44cb-ccd6-8be7159602a8"
   },
   "outputs": [
    {
     "data": {
      "text/html": [
       "<div>\n",
       "<style scoped>\n",
       "    .dataframe tbody tr th:only-of-type {\n",
       "        vertical-align: middle;\n",
       "    }\n",
       "\n",
       "    .dataframe tbody tr th {\n",
       "        vertical-align: top;\n",
       "    }\n",
       "\n",
       "    .dataframe thead th {\n",
       "        text-align: right;\n",
       "    }\n",
       "</style>\n",
       "<table border=\"1\" class=\"dataframe\">\n",
       "  <thead>\n",
       "    <tr style=\"text-align: right;\">\n",
       "      <th></th>\n",
       "      <th>Ucast</th>\n",
       "    </tr>\n",
       "    <tr>\n",
       "      <th>year</th>\n",
       "      <th></th>\n",
       "    </tr>\n",
       "  </thead>\n",
       "  <tbody>\n",
       "    <tr>\n",
       "      <th>2000</th>\n",
       "      <td>33.702308</td>\n",
       "    </tr>\n",
       "    <tr>\n",
       "      <th>2004</th>\n",
       "      <td>29.770769</td>\n",
       "    </tr>\n",
       "    <tr>\n",
       "      <th>2008</th>\n",
       "      <td>40.170769</td>\n",
       "    </tr>\n",
       "    <tr>\n",
       "      <th>2012</th>\n",
       "      <td>37.169231</td>\n",
       "    </tr>\n",
       "    <tr>\n",
       "      <th>2016</th>\n",
       "      <td>34.806154</td>\n",
       "    </tr>\n",
       "    <tr>\n",
       "      <th>2020</th>\n",
       "      <td>38.243077</td>\n",
       "    </tr>\n",
       "  </tbody>\n",
       "</table>\n",
       "</div>"
      ],
      "text/plain": [
       "          Ucast\n",
       "year           \n",
       "2000  33.702308\n",
       "2004  29.770769\n",
       "2008  40.170769\n",
       "2012  37.169231\n",
       "2016  34.806154\n",
       "2020  38.243077"
      ]
     },
     "execution_count": 76,
     "metadata": {},
     "output_type": "execute_result"
    }
   ],
   "source": [
    "all_kraj[\"Ucast\"] = all_kraj[\"Ucast\"].astype(float)\r\n",
    "all_kraj.groupby('year').mean()"
   ]
  },
  {
   "cell_type": "code",
   "execution_count": 77,
   "metadata": {
    "colab": {
     "base_uri": "https://localhost:8080/",
     "height": 607
    },
    "id": "kJo2if2gr5Un",
    "outputId": "2dc4c30e-85f3-4712-8b12-98db8e147bbc"
   },
   "outputs": [
    {
     "data": {
      "text/html": [
       "<div>\n",
       "<style scoped>\n",
       "    .dataframe tbody tr th:only-of-type {\n",
       "        vertical-align: middle;\n",
       "    }\n",
       "\n",
       "    .dataframe tbody tr th {\n",
       "        vertical-align: top;\n",
       "    }\n",
       "\n",
       "    .dataframe thead th {\n",
       "        text-align: right;\n",
       "    }\n",
       "</style>\n",
       "<table border=\"1\" class=\"dataframe\">\n",
       "  <thead>\n",
       "    <tr style=\"text-align: right;\">\n",
       "      <th></th>\n",
       "      <th>Ucast</th>\n",
       "      <th>year</th>\n",
       "    </tr>\n",
       "    <tr>\n",
       "      <th>Kraj</th>\n",
       "      <th></th>\n",
       "      <th></th>\n",
       "    </tr>\n",
       "  </thead>\n",
       "  <tbody>\n",
       "    <tr>\n",
       "      <th>Brněnský kraj</th>\n",
       "      <td>34.930000</td>\n",
       "      <td>2000</td>\n",
       "    </tr>\n",
       "    <tr>\n",
       "      <th>Budějovický kraj</th>\n",
       "      <td>34.130000</td>\n",
       "      <td>2000</td>\n",
       "    </tr>\n",
       "    <tr>\n",
       "      <th>Jihlavský kraj</th>\n",
       "      <td>35.860000</td>\n",
       "      <td>2000</td>\n",
       "    </tr>\n",
       "    <tr>\n",
       "      <th>Jihomoravský kraj</th>\n",
       "      <td>36.836000</td>\n",
       "      <td>2012</td>\n",
       "    </tr>\n",
       "    <tr>\n",
       "      <th>Jihočeský kraj</th>\n",
       "      <td>37.128000</td>\n",
       "      <td>2012</td>\n",
       "    </tr>\n",
       "    <tr>\n",
       "      <th>Karlovarský kraj</th>\n",
       "      <td>30.863333</td>\n",
       "      <td>2010</td>\n",
       "    </tr>\n",
       "    <tr>\n",
       "      <th>Kraj Vysočina</th>\n",
       "      <td>38.948000</td>\n",
       "      <td>2012</td>\n",
       "    </tr>\n",
       "    <tr>\n",
       "      <th>Královéhradecký kraj</th>\n",
       "      <td>37.631667</td>\n",
       "      <td>2010</td>\n",
       "    </tr>\n",
       "    <tr>\n",
       "      <th>Liberecký kraj</th>\n",
       "      <td>36.141667</td>\n",
       "      <td>2010</td>\n",
       "    </tr>\n",
       "    <tr>\n",
       "      <th>Moravskoslezský kraj</th>\n",
       "      <td>32.522000</td>\n",
       "      <td>2012</td>\n",
       "    </tr>\n",
       "    <tr>\n",
       "      <th>Olomoucký kraj</th>\n",
       "      <td>34.548333</td>\n",
       "      <td>2010</td>\n",
       "    </tr>\n",
       "    <tr>\n",
       "      <th>Ostravský kraj</th>\n",
       "      <td>32.240000</td>\n",
       "      <td>2000</td>\n",
       "    </tr>\n",
       "    <tr>\n",
       "      <th>Pardubický kraj</th>\n",
       "      <td>38.135000</td>\n",
       "      <td>2010</td>\n",
       "    </tr>\n",
       "    <tr>\n",
       "      <th>Plzeňský kraj</th>\n",
       "      <td>36.653333</td>\n",
       "      <td>2010</td>\n",
       "    </tr>\n",
       "    <tr>\n",
       "      <th>Středočeský kraj</th>\n",
       "      <td>36.251667</td>\n",
       "      <td>2010</td>\n",
       "    </tr>\n",
       "    <tr>\n",
       "      <th>Zlínský kraj</th>\n",
       "      <td>37.976667</td>\n",
       "      <td>2010</td>\n",
       "    </tr>\n",
       "    <tr>\n",
       "      <th>Ústecký kraj</th>\n",
       "      <td>31.111667</td>\n",
       "      <td>2010</td>\n",
       "    </tr>\n",
       "  </tbody>\n",
       "</table>\n",
       "</div>"
      ],
      "text/plain": [
       "                          Ucast  year\n",
       "Kraj                                 \n",
       "Brněnský kraj         34.930000  2000\n",
       "Budějovický kraj      34.130000  2000\n",
       "Jihlavský kraj        35.860000  2000\n",
       "Jihomoravský kraj     36.836000  2012\n",
       "Jihočeský kraj        37.128000  2012\n",
       "Karlovarský kraj      30.863333  2010\n",
       "Kraj Vysočina         38.948000  2012\n",
       "Královéhradecký kraj  37.631667  2010\n",
       "Liberecký kraj        36.141667  2010\n",
       "Moravskoslezský kraj  32.522000  2012\n",
       "Olomoucký kraj        34.548333  2010\n",
       "Ostravský kraj        32.240000  2000\n",
       "Pardubický kraj       38.135000  2010\n",
       "Plzeňský kraj         36.653333  2010\n",
       "Středočeský kraj      36.251667  2010\n",
       "Zlínský kraj          37.976667  2010\n",
       "Ústecký kraj          31.111667  2010"
      ]
     },
     "execution_count": 77,
     "metadata": {},
     "output_type": "execute_result"
    }
   ],
   "source": [
    "all_kraj.groupby('Kraj').mean()"
   ]
  },
  {
   "cell_type": "code",
   "execution_count": 78,
   "metadata": {},
   "outputs": [],
   "source": [
    "avg_kraj = all_kraj.groupby('Kraj').mean()\n",
    "kraj_kraj = all_kraj[\"Kraj\"][0:len(avg_kraj)]"
   ]
  },
  {
   "cell_type": "code",
   "execution_count": 111,
   "metadata": {},
   "outputs": [
    {
     "data": {
      "image/png": "[encoded data removed]",
      "text/plain": [
       "<Figure size 432x288 with 1 Axes>"
      ]
     },
     "metadata": {
      "needs_background": "light"
     },
     "output_type": "display_data"
    }
   ],
   "source": [
    "fig = plt.figure()\n",
    "ax = fig.add_axes([0,0,1,1])\n",
    "kr = kraj_kraj\n",
    "avg = avg_kraj[\"Ucast\"]\n",
    "ax.bar(kr,avg)\n",
    "ax.set_title('Average voter turnout of regional election')\n",
    "plt.show()"
   ]
  },
  {
   "cell_type": "markdown",
   "metadata": {
    "id": "TqIUdx8bWGRQ"
   },
   "source": [
    "## European parliament election"
   ]
  },
  {
   "cell_type": "code",
   "execution_count": 81,
   "metadata": {
    "id": "hEXyshthWGRQ"
   },
   "outputs": [],
   "source": [
    "def gettable_eu(soup):\n",
    "    '''\n",
    "   Create a table from the BeautifulSoup object given (european parliament election format)\n",
    "    '''\n",
    "    table=soup.find('table').findAll('tr')\n",
    "    tb = table[2:16]\n",
    "    return(tb)"
   ]
  },
  {
   "cell_type": "code",
   "execution_count": 82,
   "metadata": {
    "id": "Zl8Ih301WGRQ"
   },
   "outputs": [],
   "source": [
    "def scrapetable_eu(table,year):\n",
    "    '''\n",
    "   Create a DataFrame table with regions and respective polls (european parliament election format)\n",
    "    '''\n",
    "    df_scraped = pd.DataFrame()\n",
    "    for row in table:\n",
    "        kraj = row.findAll('th')[0].text\n",
    "        if kraj == 'Vysočina':\n",
    "            kraj = 'Kraj Vysočina'\n",
    "        \n",
    "        try:\n",
    "          ucast = float(row.findAll('td')[6].text.replace(\",\",\".\"))\n",
    "        except ValueError:\n",
    "          ucast = 0\n",
    "\n",
    "        row1 = pd.Series({\"Kraj\":kraj,\"Účast\":ucast})\n",
    "        df_scraped = pd.concat([df_scraped, row1], axis=1)\n",
    "    df_scraped = df_scraped.T\n",
    "    df_scraped['year'] = year\n",
    "    return(df_scraped)"
   ]
  },
  {
   "cell_type": "code",
   "execution_count": 83,
   "metadata": {
    "id": "WBYhFOXHWGRR"
   },
   "outputs": [],
   "source": [
    "soup_eu_2004 = getsoup('https://volby.cz/pls/ep2004/ep121?xjazyk=CZ')\n",
    "soup_eu_2009 = getsoup('https://volby.cz/pls/ep2009/ep121?xjazyk=CZ')\n",
    "soup_eu_2014 = getsoup('https://volby.cz/pls/ep2014/ep121?xjazyk=CZ')\n",
    "soup_eu_2019 = getsoup('https://volby.cz/pls/ep2019/ep121?xjazyk=CZ')"
   ]
  },
  {
   "cell_type": "code",
   "execution_count": 84,
   "metadata": {
    "id": "5znSQGOkWGRR"
   },
   "outputs": [],
   "source": [
    "list_soup_eu = (soup_eu_2004, soup_eu_2009, soup_eu_2014, soup_eu_2019)\n",
    "\n",
    "list_table_eu = []\n",
    "for year in list_soup_eu:\n",
    "    list_table_eu.append(gettable_eu(year))"
   ]
  },
  {
   "cell_type": "code",
   "execution_count": 85,
   "metadata": {
    "id": "-ylmNx6VWGRR"
   },
   "outputs": [],
   "source": [
    "list_scrape_eu = []\n",
    "years_eu = [2004,2009,2014,2019]\n",
    "i=0\n",
    "for year in list_table_eu:\n",
    "    list_scrape_eu.append(scrapetable_eu(year, years_eu[i]))\n",
    "    i+=1"
   ]
  },
  {
   "cell_type": "code",
   "execution_count": 86,
   "metadata": {
    "colab": {
     "base_uri": "https://localhost:8080/"
    },
    "id": "auVXsiTvWGRR",
    "outputId": "ed82fe50-3b37-403a-b11e-bae63bb0ada1"
   },
   "outputs": [
    {
     "name": "stdout",
     "output_type": "stream",
     "text": [
      "[                   Kraj  Účast  year\n",
      "0    Hlavní město Praha  34.61  2004\n",
      "0      Středočeský kraj  29.33  2004\n",
      "0        Jihočeský kraj  27.29  2004\n",
      "0         Plzeňský kraj  28.96  2004\n",
      "0      Karlovarský kraj  23.21  2004\n",
      "0          Ústecký kraj  23.11  2004\n",
      "0        Liberecký kraj  26.96  2004\n",
      "0  Královéhradecký kraj  30.23  2004\n",
      "0       Pardubický kraj   29.4  2004\n",
      "0         Kraj Vysočina  29.05  2004\n",
      "0     Jihomoravský kraj  29.66  2004\n",
      "0        Olomoucký kraj  27.23  2004\n",
      "0          Zlínský kraj  29.04  2004\n",
      "0  Moravskoslezský kraj  24.04  2004,                    Kraj  Účast  year\n",
      "0    Hlavní město Praha  35.73  2009\n",
      "0      Středočeský kraj  29.35  2009\n",
      "0        Jihočeský kraj  27.69  2009\n",
      "0         Plzeňský kraj  28.09  2009\n",
      "0      Karlovarský kraj  21.75  2009\n",
      "0          Ústecký kraj  22.51  2009\n",
      "0        Liberecký kraj  26.65  2009\n",
      "0  Královéhradecký kraj  29.19  2009\n",
      "0       Pardubický kraj  28.97  2009\n",
      "0         Kraj Vysočina  28.86  2009\n",
      "0     Jihomoravský kraj  28.64  2009\n",
      "0        Olomoucký kraj  27.01  2009\n",
      "0          Zlínský kraj  27.73  2009\n",
      "0  Moravskoslezský kraj   25.7  2009,                    Kraj  Účast  year\n",
      "0    Hlavní město Praha  25.82  2014\n",
      "0      Středočeský kraj   19.2  2014\n",
      "0        Jihočeský kraj  17.75  2014\n",
      "0         Plzeňský kraj  18.08  2014\n",
      "0      Karlovarský kraj  14.03  2014\n",
      "0          Ústecký kraj  13.81  2014\n",
      "0        Liberecký kraj  17.24  2014\n",
      "0  Královéhradecký kraj  18.77  2014\n",
      "0       Pardubický kraj  17.71  2014\n",
      "0         Kraj Vysočina  18.26  2014\n",
      "0     Jihomoravský kraj  19.14  2014\n",
      "0        Olomoucký kraj  16.48  2014\n",
      "0          Zlínský kraj  17.51  2014\n",
      "0  Moravskoslezský kraj     15  2014,                    Kraj  Účast  year\n",
      "0    Hlavní město Praha  38.31  2019\n",
      "0      Středočeský kraj  30.25  2019\n",
      "0        Jihočeský kraj  28.99  2019\n",
      "0         Plzeňský kraj  27.96  2019\n",
      "0      Karlovarský kraj  23.19  2019\n",
      "0          Ústecký kraj  22.04  2019\n",
      "0        Liberecký kraj  28.31  2019\n",
      "0  Královéhradecký kraj  30.31  2019\n",
      "0       Pardubický kraj  28.81  2019\n",
      "0         Kraj Vysočina  29.59  2019\n",
      "0     Jihomoravský kraj  29.54  2019\n",
      "0        Olomoucký kraj  26.42  2019\n",
      "0          Zlínský kraj  28.34  2019\n",
      "0  Moravskoslezský kraj  23.76  2019]\n"
     ]
    }
   ],
   "source": [
    "evropske = Result()\n",
    "evropske.tab_ucast = list_scrape_eu\n",
    "evropske.prt_ucast()"
   ]
  },
  {
   "cell_type": "code",
   "execution_count": 87,
   "metadata": {
    "colab": {
     "base_uri": "https://localhost:8080/",
     "height": 729
    },
    "id": "V1sZ4SiubmMz",
    "outputId": "f0e9d531-e8f7-4bdf-9690-f29e0f9c31ba"
   },
   "outputs": [
    {
     "data": {
      "text/plain": [
       "<seaborn.axisgrid.FacetGrid at 0x1e574710520>"
      ]
     },
     "execution_count": 87,
     "metadata": {},
     "output_type": "execute_result"
    },
    {
     "data": {
      "image/png": "[encoded data removed]",
      "text/plain": [
       "<Figure size 903.9x595.44 with 1 Axes>"
      ]
     },
     "metadata": {
      "needs_background": "light"
     },
     "output_type": "display_data"
    }
   ],
   "source": [
    "all_eu = pd.concat(list_scrape_eu)\n",
    "eu = sns.catplot(data=all_eu,x='Kraj', y=\"Účast\", hue=\"year\",height=8.27, aspect=11.7/8.27)\n",
    "eu.set_xticklabels(rotation=90)"
   ]
  },
  {
   "cell_type": "code",
   "execution_count": 88,
   "metadata": {
    "colab": {
     "base_uri": "https://localhost:8080/",
     "height": 1000
    },
    "id": "0Smp2I1osjVU",
    "outputId": "024e4729-28de-4798-ffc5-bfe2595aa0ec"
   },
   "outputs": [
    {
     "data": {
      "text/html": [
       "<div>\n",
       "<style scoped>\n",
       "    .dataframe tbody tr th:only-of-type {\n",
       "        vertical-align: middle;\n",
       "    }\n",
       "\n",
       "    .dataframe tbody tr th {\n",
       "        vertical-align: top;\n",
       "    }\n",
       "\n",
       "    .dataframe thead th {\n",
       "        text-align: right;\n",
       "    }\n",
       "</style>\n",
       "<table border=\"1\" class=\"dataframe\">\n",
       "  <thead>\n",
       "    <tr style=\"text-align: right;\">\n",
       "      <th></th>\n",
       "      <th>Kraj</th>\n",
       "      <th>Účast</th>\n",
       "      <th>year</th>\n",
       "    </tr>\n",
       "  </thead>\n",
       "  <tbody>\n",
       "    <tr>\n",
       "      <th>0</th>\n",
       "      <td>Hlavní město Praha</td>\n",
       "      <td>34.61</td>\n",
       "      <td>2004</td>\n",
       "    </tr>\n",
       "    <tr>\n",
       "      <th>0</th>\n",
       "      <td>Středočeský kraj</td>\n",
       "      <td>29.33</td>\n",
       "      <td>2004</td>\n",
       "    </tr>\n",
       "    <tr>\n",
       "      <th>0</th>\n",
       "      <td>Jihočeský kraj</td>\n",
       "      <td>27.29</td>\n",
       "      <td>2004</td>\n",
       "    </tr>\n",
       "    <tr>\n",
       "      <th>0</th>\n",
       "      <td>Plzeňský kraj</td>\n",
       "      <td>28.96</td>\n",
       "      <td>2004</td>\n",
       "    </tr>\n",
       "    <tr>\n",
       "      <th>0</th>\n",
       "      <td>Karlovarský kraj</td>\n",
       "      <td>23.21</td>\n",
       "      <td>2004</td>\n",
       "    </tr>\n",
       "    <tr>\n",
       "      <th>0</th>\n",
       "      <td>Ústecký kraj</td>\n",
       "      <td>23.11</td>\n",
       "      <td>2004</td>\n",
       "    </tr>\n",
       "    <tr>\n",
       "      <th>0</th>\n",
       "      <td>Liberecký kraj</td>\n",
       "      <td>26.96</td>\n",
       "      <td>2004</td>\n",
       "    </tr>\n",
       "    <tr>\n",
       "      <th>0</th>\n",
       "      <td>Královéhradecký kraj</td>\n",
       "      <td>30.23</td>\n",
       "      <td>2004</td>\n",
       "    </tr>\n",
       "    <tr>\n",
       "      <th>0</th>\n",
       "      <td>Pardubický kraj</td>\n",
       "      <td>29.4</td>\n",
       "      <td>2004</td>\n",
       "    </tr>\n",
       "    <tr>\n",
       "      <th>0</th>\n",
       "      <td>Kraj Vysočina</td>\n",
       "      <td>29.05</td>\n",
       "      <td>2004</td>\n",
       "    </tr>\n",
       "    <tr>\n",
       "      <th>0</th>\n",
       "      <td>Jihomoravský kraj</td>\n",
       "      <td>29.66</td>\n",
       "      <td>2004</td>\n",
       "    </tr>\n",
       "    <tr>\n",
       "      <th>0</th>\n",
       "      <td>Olomoucký kraj</td>\n",
       "      <td>27.23</td>\n",
       "      <td>2004</td>\n",
       "    </tr>\n",
       "    <tr>\n",
       "      <th>0</th>\n",
       "      <td>Zlínský kraj</td>\n",
       "      <td>29.04</td>\n",
       "      <td>2004</td>\n",
       "    </tr>\n",
       "    <tr>\n",
       "      <th>0</th>\n",
       "      <td>Moravskoslezský kraj</td>\n",
       "      <td>24.04</td>\n",
       "      <td>2004</td>\n",
       "    </tr>\n",
       "    <tr>\n",
       "      <th>0</th>\n",
       "      <td>Hlavní město Praha</td>\n",
       "      <td>35.73</td>\n",
       "      <td>2009</td>\n",
       "    </tr>\n",
       "    <tr>\n",
       "      <th>0</th>\n",
       "      <td>Středočeský kraj</td>\n",
       "      <td>29.35</td>\n",
       "      <td>2009</td>\n",
       "    </tr>\n",
       "    <tr>\n",
       "      <th>0</th>\n",
       "      <td>Jihočeský kraj</td>\n",
       "      <td>27.69</td>\n",
       "      <td>2009</td>\n",
       "    </tr>\n",
       "    <tr>\n",
       "      <th>0</th>\n",
       "      <td>Plzeňský kraj</td>\n",
       "      <td>28.09</td>\n",
       "      <td>2009</td>\n",
       "    </tr>\n",
       "    <tr>\n",
       "      <th>0</th>\n",
       "      <td>Karlovarský kraj</td>\n",
       "      <td>21.75</td>\n",
       "      <td>2009</td>\n",
       "    </tr>\n",
       "    <tr>\n",
       "      <th>0</th>\n",
       "      <td>Ústecký kraj</td>\n",
       "      <td>22.51</td>\n",
       "      <td>2009</td>\n",
       "    </tr>\n",
       "    <tr>\n",
       "      <th>0</th>\n",
       "      <td>Liberecký kraj</td>\n",
       "      <td>26.65</td>\n",
       "      <td>2009</td>\n",
       "    </tr>\n",
       "    <tr>\n",
       "      <th>0</th>\n",
       "      <td>Královéhradecký kraj</td>\n",
       "      <td>29.19</td>\n",
       "      <td>2009</td>\n",
       "    </tr>\n",
       "    <tr>\n",
       "      <th>0</th>\n",
       "      <td>Pardubický kraj</td>\n",
       "      <td>28.97</td>\n",
       "      <td>2009</td>\n",
       "    </tr>\n",
       "    <tr>\n",
       "      <th>0</th>\n",
       "      <td>Kraj Vysočina</td>\n",
       "      <td>28.86</td>\n",
       "      <td>2009</td>\n",
       "    </tr>\n",
       "    <tr>\n",
       "      <th>0</th>\n",
       "      <td>Jihomoravský kraj</td>\n",
       "      <td>28.64</td>\n",
       "      <td>2009</td>\n",
       "    </tr>\n",
       "    <tr>\n",
       "      <th>0</th>\n",
       "      <td>Olomoucký kraj</td>\n",
       "      <td>27.01</td>\n",
       "      <td>2009</td>\n",
       "    </tr>\n",
       "    <tr>\n",
       "      <th>0</th>\n",
       "      <td>Zlínský kraj</td>\n",
       "      <td>27.73</td>\n",
       "      <td>2009</td>\n",
       "    </tr>\n",
       "    <tr>\n",
       "      <th>0</th>\n",
       "      <td>Moravskoslezský kraj</td>\n",
       "      <td>25.7</td>\n",
       "      <td>2009</td>\n",
       "    </tr>\n",
       "    <tr>\n",
       "      <th>0</th>\n",
       "      <td>Hlavní město Praha</td>\n",
       "      <td>25.82</td>\n",
       "      <td>2014</td>\n",
       "    </tr>\n",
       "    <tr>\n",
       "      <th>0</th>\n",
       "      <td>Středočeský kraj</td>\n",
       "      <td>19.2</td>\n",
       "      <td>2014</td>\n",
       "    </tr>\n",
       "    <tr>\n",
       "      <th>0</th>\n",
       "      <td>Jihočeský kraj</td>\n",
       "      <td>17.75</td>\n",
       "      <td>2014</td>\n",
       "    </tr>\n",
       "    <tr>\n",
       "      <th>0</th>\n",
       "      <td>Plzeňský kraj</td>\n",
       "      <td>18.08</td>\n",
       "      <td>2014</td>\n",
       "    </tr>\n",
       "    <tr>\n",
       "      <th>0</th>\n",
       "      <td>Karlovarský kraj</td>\n",
       "      <td>14.03</td>\n",
       "      <td>2014</td>\n",
       "    </tr>\n",
       "    <tr>\n",
       "      <th>0</th>\n",
       "      <td>Ústecký kraj</td>\n",
       "      <td>13.81</td>\n",
       "      <td>2014</td>\n",
       "    </tr>\n",
       "    <tr>\n",
       "      <th>0</th>\n",
       "      <td>Liberecký kraj</td>\n",
       "      <td>17.24</td>\n",
       "      <td>2014</td>\n",
       "    </tr>\n",
       "    <tr>\n",
       "      <th>0</th>\n",
       "      <td>Královéhradecký kraj</td>\n",
       "      <td>18.77</td>\n",
       "      <td>2014</td>\n",
       "    </tr>\n",
       "    <tr>\n",
       "      <th>0</th>\n",
       "      <td>Pardubický kraj</td>\n",
       "      <td>17.71</td>\n",
       "      <td>2014</td>\n",
       "    </tr>\n",
       "    <tr>\n",
       "      <th>0</th>\n",
       "      <td>Kraj Vysočina</td>\n",
       "      <td>18.26</td>\n",
       "      <td>2014</td>\n",
       "    </tr>\n",
       "    <tr>\n",
       "      <th>0</th>\n",
       "      <td>Jihomoravský kraj</td>\n",
       "      <td>19.14</td>\n",
       "      <td>2014</td>\n",
       "    </tr>\n",
       "    <tr>\n",
       "      <th>0</th>\n",
       "      <td>Olomoucký kraj</td>\n",
       "      <td>16.48</td>\n",
       "      <td>2014</td>\n",
       "    </tr>\n",
       "    <tr>\n",
       "      <th>0</th>\n",
       "      <td>Zlínský kraj</td>\n",
       "      <td>17.51</td>\n",
       "      <td>2014</td>\n",
       "    </tr>\n",
       "    <tr>\n",
       "      <th>0</th>\n",
       "      <td>Moravskoslezský kraj</td>\n",
       "      <td>15</td>\n",
       "      <td>2014</td>\n",
       "    </tr>\n",
       "    <tr>\n",
       "      <th>0</th>\n",
       "      <td>Hlavní město Praha</td>\n",
       "      <td>38.31</td>\n",
       "      <td>2019</td>\n",
       "    </tr>\n",
       "    <tr>\n",
       "      <th>0</th>\n",
       "      <td>Středočeský kraj</td>\n",
       "      <td>30.25</td>\n",
       "      <td>2019</td>\n",
       "    </tr>\n",
       "    <tr>\n",
       "      <th>0</th>\n",
       "      <td>Jihočeský kraj</td>\n",
       "      <td>28.99</td>\n",
       "      <td>2019</td>\n",
       "    </tr>\n",
       "    <tr>\n",
       "      <th>0</th>\n",
       "      <td>Plzeňský kraj</td>\n",
       "      <td>27.96</td>\n",
       "      <td>2019</td>\n",
       "    </tr>\n",
       "    <tr>\n",
       "      <th>0</th>\n",
       "      <td>Karlovarský kraj</td>\n",
       "      <td>23.19</td>\n",
       "      <td>2019</td>\n",
       "    </tr>\n",
       "    <tr>\n",
       "      <th>0</th>\n",
       "      <td>Ústecký kraj</td>\n",
       "      <td>22.04</td>\n",
       "      <td>2019</td>\n",
       "    </tr>\n",
       "    <tr>\n",
       "      <th>0</th>\n",
       "      <td>Liberecký kraj</td>\n",
       "      <td>28.31</td>\n",
       "      <td>2019</td>\n",
       "    </tr>\n",
       "    <tr>\n",
       "      <th>0</th>\n",
       "      <td>Královéhradecký kraj</td>\n",
       "      <td>30.31</td>\n",
       "      <td>2019</td>\n",
       "    </tr>\n",
       "    <tr>\n",
       "      <th>0</th>\n",
       "      <td>Pardubický kraj</td>\n",
       "      <td>28.81</td>\n",
       "      <td>2019</td>\n",
       "    </tr>\n",
       "    <tr>\n",
       "      <th>0</th>\n",
       "      <td>Kraj Vysočina</td>\n",
       "      <td>29.59</td>\n",
       "      <td>2019</td>\n",
       "    </tr>\n",
       "    <tr>\n",
       "      <th>0</th>\n",
       "      <td>Jihomoravský kraj</td>\n",
       "      <td>29.54</td>\n",
       "      <td>2019</td>\n",
       "    </tr>\n",
       "    <tr>\n",
       "      <th>0</th>\n",
       "      <td>Olomoucký kraj</td>\n",
       "      <td>26.42</td>\n",
       "      <td>2019</td>\n",
       "    </tr>\n",
       "    <tr>\n",
       "      <th>0</th>\n",
       "      <td>Zlínský kraj</td>\n",
       "      <td>28.34</td>\n",
       "      <td>2019</td>\n",
       "    </tr>\n",
       "    <tr>\n",
       "      <th>0</th>\n",
       "      <td>Moravskoslezský kraj</td>\n",
       "      <td>23.76</td>\n",
       "      <td>2019</td>\n",
       "    </tr>\n",
       "  </tbody>\n",
       "</table>\n",
       "</div>"
      ],
      "text/plain": [
       "                   Kraj  Účast  year\n",
       "0    Hlavní město Praha  34.61  2004\n",
       "0      Středočeský kraj  29.33  2004\n",
       "0        Jihočeský kraj  27.29  2004\n",
       "0         Plzeňský kraj  28.96  2004\n",
       "0      Karlovarský kraj  23.21  2004\n",
       "0          Ústecký kraj  23.11  2004\n",
       "0        Liberecký kraj  26.96  2004\n",
       "0  Královéhradecký kraj  30.23  2004\n",
       "0       Pardubický kraj   29.4  2004\n",
       "0         Kraj Vysočina  29.05  2004\n",
       "0     Jihomoravský kraj  29.66  2004\n",
       "0        Olomoucký kraj  27.23  2004\n",
       "0          Zlínský kraj  29.04  2004\n",
       "0  Moravskoslezský kraj  24.04  2004\n",
       "0    Hlavní město Praha  35.73  2009\n",
       "0      Středočeský kraj  29.35  2009\n",
       "0        Jihočeský kraj  27.69  2009\n",
       "0         Plzeňský kraj  28.09  2009\n",
       "0      Karlovarský kraj  21.75  2009\n",
       "0          Ústecký kraj  22.51  2009\n",
       "0        Liberecký kraj  26.65  2009\n",
       "0  Královéhradecký kraj  29.19  2009\n",
       "0       Pardubický kraj  28.97  2009\n",
       "0         Kraj Vysočina  28.86  2009\n",
       "0     Jihomoravský kraj  28.64  2009\n",
       "0        Olomoucký kraj  27.01  2009\n",
       "0          Zlínský kraj  27.73  2009\n",
       "0  Moravskoslezský kraj   25.7  2009\n",
       "0    Hlavní město Praha  25.82  2014\n",
       "0      Středočeský kraj   19.2  2014\n",
       "0        Jihočeský kraj  17.75  2014\n",
       "0         Plzeňský kraj  18.08  2014\n",
       "0      Karlovarský kraj  14.03  2014\n",
       "0          Ústecký kraj  13.81  2014\n",
       "0        Liberecký kraj  17.24  2014\n",
       "0  Královéhradecký kraj  18.77  2014\n",
       "0       Pardubický kraj  17.71  2014\n",
       "0         Kraj Vysočina  18.26  2014\n",
       "0     Jihomoravský kraj  19.14  2014\n",
       "0        Olomoucký kraj  16.48  2014\n",
       "0          Zlínský kraj  17.51  2014\n",
       "0  Moravskoslezský kraj     15  2014\n",
       "0    Hlavní město Praha  38.31  2019\n",
       "0      Středočeský kraj  30.25  2019\n",
       "0        Jihočeský kraj  28.99  2019\n",
       "0         Plzeňský kraj  27.96  2019\n",
       "0      Karlovarský kraj  23.19  2019\n",
       "0          Ústecký kraj  22.04  2019\n",
       "0        Liberecký kraj  28.31  2019\n",
       "0  Královéhradecký kraj  30.31  2019\n",
       "0       Pardubický kraj  28.81  2019\n",
       "0         Kraj Vysočina  29.59  2019\n",
       "0     Jihomoravský kraj  29.54  2019\n",
       "0        Olomoucký kraj  26.42  2019\n",
       "0          Zlínský kraj  28.34  2019\n",
       "0  Moravskoslezský kraj  23.76  2019"
      ]
     },
     "execution_count": 88,
     "metadata": {},
     "output_type": "execute_result"
    }
   ],
   "source": [
    "all_eu"
   ]
  },
  {
   "cell_type": "code",
   "execution_count": 89,
   "metadata": {
    "colab": {
     "base_uri": "https://localhost:8080/",
     "height": 204
    },
    "id": "TuRJUcQSsObZ",
    "outputId": "0f94a78a-8739-46a3-f4b5-afdfc94d2741"
   },
   "outputs": [
    {
     "data": {
      "text/html": [
       "<div>\n",
       "<style scoped>\n",
       "    .dataframe tbody tr th:only-of-type {\n",
       "        vertical-align: middle;\n",
       "    }\n",
       "\n",
       "    .dataframe tbody tr th {\n",
       "        vertical-align: top;\n",
       "    }\n",
       "\n",
       "    .dataframe thead th {\n",
       "        text-align: right;\n",
       "    }\n",
       "</style>\n",
       "<table border=\"1\" class=\"dataframe\">\n",
       "  <thead>\n",
       "    <tr style=\"text-align: right;\">\n",
       "      <th></th>\n",
       "      <th>Účast</th>\n",
       "    </tr>\n",
       "    <tr>\n",
       "      <th>year</th>\n",
       "      <th></th>\n",
       "    </tr>\n",
       "  </thead>\n",
       "  <tbody>\n",
       "    <tr>\n",
       "      <th>2004</th>\n",
       "      <td>28.008571</td>\n",
       "    </tr>\n",
       "    <tr>\n",
       "      <th>2009</th>\n",
       "      <td>27.705000</td>\n",
       "    </tr>\n",
       "    <tr>\n",
       "      <th>2014</th>\n",
       "      <td>17.771429</td>\n",
       "    </tr>\n",
       "    <tr>\n",
       "      <th>2019</th>\n",
       "      <td>28.272857</td>\n",
       "    </tr>\n",
       "  </tbody>\n",
       "</table>\n",
       "</div>"
      ],
      "text/plain": [
       "          Účast\n",
       "year           \n",
       "2004  28.008571\n",
       "2009  27.705000\n",
       "2014  17.771429\n",
       "2019  28.272857"
      ]
     },
     "execution_count": 89,
     "metadata": {},
     "output_type": "execute_result"
    }
   ],
   "source": [
    "all_eu[\"Účast\"] = all_eu[\"Účast\"].astype(float)\r\n",
    "all_eu.groupby('year').mean()"
   ]
  },
  {
   "cell_type": "code",
   "execution_count": 90,
   "metadata": {
    "colab": {
     "base_uri": "https://localhost:8080/",
     "height": 514
    },
    "id": "MOyZ30Jssyce",
    "outputId": "f3e72948-c9e4-4921-fb09-9abd91b08748"
   },
   "outputs": [
    {
     "data": {
      "text/html": [
       "<div>\n",
       "<style scoped>\n",
       "    .dataframe tbody tr th:only-of-type {\n",
       "        vertical-align: middle;\n",
       "    }\n",
       "\n",
       "    .dataframe tbody tr th {\n",
       "        vertical-align: top;\n",
       "    }\n",
       "\n",
       "    .dataframe thead th {\n",
       "        text-align: right;\n",
       "    }\n",
       "</style>\n",
       "<table border=\"1\" class=\"dataframe\">\n",
       "  <thead>\n",
       "    <tr style=\"text-align: right;\">\n",
       "      <th></th>\n",
       "      <th>Účast</th>\n",
       "      <th>year</th>\n",
       "    </tr>\n",
       "    <tr>\n",
       "      <th>Kraj</th>\n",
       "      <th></th>\n",
       "      <th></th>\n",
       "    </tr>\n",
       "  </thead>\n",
       "  <tbody>\n",
       "    <tr>\n",
       "      <th>Hlavní město Praha</th>\n",
       "      <td>33.6175</td>\n",
       "      <td>2011.5</td>\n",
       "    </tr>\n",
       "    <tr>\n",
       "      <th>Jihomoravský kraj</th>\n",
       "      <td>26.7450</td>\n",
       "      <td>2011.5</td>\n",
       "    </tr>\n",
       "    <tr>\n",
       "      <th>Jihočeský kraj</th>\n",
       "      <td>25.4300</td>\n",
       "      <td>2011.5</td>\n",
       "    </tr>\n",
       "    <tr>\n",
       "      <th>Karlovarský kraj</th>\n",
       "      <td>20.5450</td>\n",
       "      <td>2011.5</td>\n",
       "    </tr>\n",
       "    <tr>\n",
       "      <th>Kraj Vysočina</th>\n",
       "      <td>26.4400</td>\n",
       "      <td>2011.5</td>\n",
       "    </tr>\n",
       "    <tr>\n",
       "      <th>Královéhradecký kraj</th>\n",
       "      <td>27.1250</td>\n",
       "      <td>2011.5</td>\n",
       "    </tr>\n",
       "    <tr>\n",
       "      <th>Liberecký kraj</th>\n",
       "      <td>24.7900</td>\n",
       "      <td>2011.5</td>\n",
       "    </tr>\n",
       "    <tr>\n",
       "      <th>Moravskoslezský kraj</th>\n",
       "      <td>22.1250</td>\n",
       "      <td>2011.5</td>\n",
       "    </tr>\n",
       "    <tr>\n",
       "      <th>Olomoucký kraj</th>\n",
       "      <td>24.2850</td>\n",
       "      <td>2011.5</td>\n",
       "    </tr>\n",
       "    <tr>\n",
       "      <th>Pardubický kraj</th>\n",
       "      <td>26.2225</td>\n",
       "      <td>2011.5</td>\n",
       "    </tr>\n",
       "    <tr>\n",
       "      <th>Plzeňský kraj</th>\n",
       "      <td>25.7725</td>\n",
       "      <td>2011.5</td>\n",
       "    </tr>\n",
       "    <tr>\n",
       "      <th>Středočeský kraj</th>\n",
       "      <td>27.0325</td>\n",
       "      <td>2011.5</td>\n",
       "    </tr>\n",
       "    <tr>\n",
       "      <th>Zlínský kraj</th>\n",
       "      <td>25.6550</td>\n",
       "      <td>2011.5</td>\n",
       "    </tr>\n",
       "    <tr>\n",
       "      <th>Ústecký kraj</th>\n",
       "      <td>20.3675</td>\n",
       "      <td>2011.5</td>\n",
       "    </tr>\n",
       "  </tbody>\n",
       "</table>\n",
       "</div>"
      ],
      "text/plain": [
       "                        Účast    year\n",
       "Kraj                                 \n",
       "Hlavní město Praha    33.6175  2011.5\n",
       "Jihomoravský kraj     26.7450  2011.5\n",
       "Jihočeský kraj        25.4300  2011.5\n",
       "Karlovarský kraj      20.5450  2011.5\n",
       "Kraj Vysočina         26.4400  2011.5\n",
       "Královéhradecký kraj  27.1250  2011.5\n",
       "Liberecký kraj        24.7900  2011.5\n",
       "Moravskoslezský kraj  22.1250  2011.5\n",
       "Olomoucký kraj        24.2850  2011.5\n",
       "Pardubický kraj       26.2225  2011.5\n",
       "Plzeňský kraj         25.7725  2011.5\n",
       "Středočeský kraj      27.0325  2011.5\n",
       "Zlínský kraj          25.6550  2011.5\n",
       "Ústecký kraj          20.3675  2011.5"
      ]
     },
     "execution_count": 90,
     "metadata": {},
     "output_type": "execute_result"
    }
   ],
   "source": [
    "all_eu.groupby('Kraj').mean()"
   ]
  },
  {
   "cell_type": "code",
   "execution_count": 91,
   "metadata": {},
   "outputs": [],
   "source": [
    "avg_eu = all_eu.groupby('Kraj').mean()\n",
    "kraj_eu = all_eu[\"Kraj\"][0:len(avg_eu)]"
   ]
  },
  {
   "cell_type": "code",
   "execution_count": 112,
   "metadata": {},
   "outputs": [
    {
     "data": {
      "image/png": "[encoded data removed]",
      "text/plain": [
       "<Figure size 432x288 with 1 Axes>"
      ]
     },
     "metadata": {
      "needs_background": "light"
     },
     "output_type": "display_data"
    }
   ],
   "source": [
    "fig = plt.figure()\n",
    "ax = fig.add_axes([0,0,1,1])\n",
    "kr = kraj_eu\n",
    "avg = avg_eu[\"Účast\"]\n",
    "ax.bar(kr,avg)\n",
    "ax.set_title('Average voter turnout of european parliament election')\n",
    "plt.show()"
   ]
  },
  {
   "cell_type": "markdown",
   "metadata": {
    "id": "zjDsrlQ_xB22"
   },
   "source": [
    "We can conclude that the voter turnout is the highest for the presidential election, and lowest for european parliament election. It can be explained by the psychological effect that people generally don't feal a real impact of their vote in European alection. On the other hand, presidential and parliamential elections are perceived to touch the people's life more closely to them. \n",
    "\n",
    "Concerning the differences between regions, we see that the highest voter turnout is int most of the type of election in the Capital. The regions with the lowest voter turnout are Ústecký kraj and Karlovarský kraj but the difference accross the Czech Republic is not significant.\n",
    "\n",
    "We can also see that the voter turnout vary a lot over years, the trend is the mostly the same in all regions. However we cannot say that the trend is increasing or decreasing. There might be some other impacts influencing the voter turnout.\n"
   ]
  },
  {
   "cell_type": "markdown",
   "metadata": {},
   "source": [
    "There is a possible extension of the analysis in relating the voter turnout to tightness of the final result. The idea is to exploit whether the tighter expected result might motivate people to participate in the election. For that the following data will be used."
   ]
  },
  {
   "cell_type": "markdown",
   "metadata": {
    "id": "I16WJnDOWGRR"
   },
   "source": [
    "# Election results"
   ]
  },
  {
   "cell_type": "markdown",
   "metadata": {
    "id": "P6jM6aQ7WGRS"
   },
   "source": [
    "## Presidential"
   ]
  },
  {
   "cell_type": "code",
   "execution_count": 44,
   "metadata": {
    "id": "eE3AbI3uWGRS"
   },
   "outputs": [],
   "source": [
    "def getresults_prez(soup):\n",
    "    '''\n",
    "   Create a table from the BeautifulSoup object given (presidential election format)\n",
    "    '''\n",
    "    table=soup.find('table', id=\"pe2_t2\").findAll('tr')\n",
    "    tb = table[2:16]\n",
    "    return(tb)"
   ]
  },
  {
   "cell_type": "code",
   "execution_count": 45,
   "metadata": {
    "id": "edWaLA5OWGRS"
   },
   "outputs": [],
   "source": [
    "\n",
    "def scraperesults_prez(table,year):\n",
    "    '''\n",
    "   Create a DataFrame table with regions and respective polls (presidential election format)\n",
    "    '''\n",
    "    df_scraped = pd.DataFrame()\n",
    "    for row in table:\n",
    "        kandidat = row.findAll('td')[1].text\n",
    "        try:\n",
    "          vysledek = float(row.findAll('td')[5].text.replace(\",\",\".\"))\n",
    "        except:\n",
    "          vysledek = 0\n",
    "\n",
    "        row1 = pd.Series({\"Kandidat\":kandidat,\"Vysledek\":vysledek})\n",
    "        df_scraped = pd.concat([df_scraped, row1], axis=1)\n",
    "    df_scraped = df_scraped.T\n",
    "    df_scraped['year'] = year\n",
    "    return(df_scraped)"
   ]
  },
  {
   "cell_type": "code",
   "execution_count": 46,
   "metadata": {
    "id": "UodATQjgWGRS"
   },
   "outputs": [],
   "source": [
    "soup_prez_res_2013 = getsoup('https://volby.cz/pls/prez2013/pe2?xjazyk=CZ')\n",
    "soup_prez_res_2018 = getsoup('https://volby.cz/pls/prez2018/pe2?xjazyk=CZ')"
   ]
  },
  {
   "cell_type": "code",
   "execution_count": 47,
   "metadata": {
    "id": "sc8WsLyIWGRT"
   },
   "outputs": [],
   "source": [
    "list_soup_prez_res = (soup_prez_res_2013, soup_prez_res_2018)\n",
    "\n",
    "\n",
    "list_tab_res_prez = []\n",
    "for year in list_soup_prez_res:\n",
    "    list_tab_res_prez.append(getresults_prez(year))"
   ]
  },
  {
   "cell_type": "code",
   "execution_count": 48,
   "metadata": {
    "id": "xhLulEXXWGRT"
   },
   "outputs": [],
   "source": [
    "list_res_prez = []\n",
    "i=0\n",
    "for year in list_tab_res_prez:\n",
    "    list_res_prez.append(scraperesults_prez(year, years_prez[i]))\n",
    "    i+=1"
   ]
  },
  {
   "cell_type": "code",
   "execution_count": 49,
   "metadata": {
    "colab": {
     "base_uri": "https://localhost:8080/"
    },
    "id": "050rKJMaWGRU",
    "outputId": "d6eac79a-c561-46e4-ed61-578ca924b904"
   },
   "outputs": [
    {
     "name": "stdout",
     "output_type": "stream",
     "text": [
      "[                     Kandidat Vysledek  year\n",
      "0   Roithová Zuzana MUDr. MBA     4.95  2013\n",
      "0       Fischer Jan Ing. CSc.    16.35  2013\n",
      "0        Bobošíková Jana Ing.     2.39  2013\n",
      "0           Fischerová Taťana     3.23  2013\n",
      "0       Sobotka Přemysl MUDr.     2.46  2013\n",
      "0            Zeman Miloš Ing.    24.21  2013\n",
      "0  Franz Vladimír Prof. JUDr.     6.84  2013\n",
      "0             Dienstbier Jiří    16.12  2013\n",
      "0         Schwarzenberg Karel     23.4  2013,                                   Kandidat Vysledek  year\n",
      "0                     Topolánek Mirek Ing.      4.3  2018\n",
      "0                Horáček Michal Mgr. Ph.D.     9.18  2018\n",
      "0                       Fischer Pavel Mgr.    10.23  2018\n",
      "0                         Hynek Jiří RNDr.     1.23  2018\n",
      "0                         Hannig Petr Mgr.     0.56  2018\n",
      "0        Kulhánek Vratislav Ing. Dr. h. c.     0.47  2018\n",
      "0                         Zeman Miloš Ing.    38.56  2018\n",
      "0             Hilšer Marek MUDr. Bc. Ph.D.     8.83  2018\n",
      "0  Drahoš Jiří prof. Ing. DrSc., dr. h. c.     26.6  2018]\n"
     ]
    }
   ],
   "source": [
    "prezidentske.tab_vysledek = list_res_prez\n",
    "prezidentske.prt_vysledek()"
   ]
  },
  {
   "cell_type": "code",
   "execution_count": 50,
   "metadata": {
    "colab": {
     "base_uri": "https://localhost:8080/",
     "height": 0
    },
    "id": "uDLaUmGibs7H",
    "outputId": "39ebb5fd-7d63-420b-c26f-ba54ea848864"
   },
   "outputs": [
    {
     "data": {
      "text/plain": [
       "<seaborn.axisgrid.FacetGrid at 0x7f207d69ff28>"
      ]
     },
     "execution_count": 50,
     "metadata": {
      "tags": []
     },
     "output_type": "execute_result"
    },
    {
     "data": {
      "image/png": "[encoded data removed]",
      "text/plain": [
       "<Figure size 903.65x595.44 with 1 Axes>"
      ]
     },
     "metadata": {
      "needs_background": "light",
      "tags": []
     },
     "output_type": "display_data"
    }
   ],
   "source": [
    "all_prez = pd.concat(list_res_prez)\r\n",
    "g = sns.catplot(data=all_prez,x='Kandidat', y=\"Vysledek\", hue=\"year\",height=8.27, aspect=11.7/8.27)\r\n",
    "g.set_xticklabels(rotation=90)\r\n"
   ]
  },
  {
   "cell_type": "markdown",
   "metadata": {
    "id": "NFMQgMe8WGRU"
   },
   "source": [
    "## Parliament"
   ]
  },
  {
   "cell_type": "code",
   "execution_count": 51,
   "metadata": {
    "id": "9lLnpssRWGRU"
   },
   "outputs": [],
   "source": [
    "def getresults_par_before2002(soup):\n",
    "    '''\n",
    "   Create a table from the BeautifulSoup object given (parliament election format)\n",
    "    '''\n",
    "    table=soup.findAll('table')[1].findAll('tr')\n",
    "    tb = table[2:20]\n",
    "    return(tb)"
   ]
  },
  {
   "cell_type": "code",
   "execution_count": 52,
   "metadata": {
    "id": "bWypfOeKWGRU"
   },
   "outputs": [],
   "source": [
    "def getresults_par_after2002(soup):\n",
    "    '''\n",
    "   Create a table from the BeautifulSoup object given (parliament election format)\n",
    "    '''\n",
    "    table=soup.findAll('table')[2].findAll('tr')\n",
    "    tb = table[2:20]\n",
    "    return(tb)"
   ]
  },
  {
   "cell_type": "code",
   "execution_count": 53,
   "metadata": {
    "id": "aYIizbNQWGRU"
   },
   "outputs": [],
   "source": [
    "\n",
    "def scraperesults_par_before2002(table,year):\n",
    "    '''\n",
    "   Create a DataFrame table with regions and respective polls (parliament election format)\n",
    "    '''\n",
    "    df_scraped = pd.DataFrame()\n",
    "    for row in table:\n",
    "        strana1 = row.findAll('td')[1].text\n",
    "        vysledek1 = float(row.findAll('td')[3].text.replace(\",\",\".\"))\n",
    "        strana2 = row.findAll('td')[6].text\n",
    "        vysledek2 = float(row.findAll('td')[8].text.replace(\",\",\".\"))\n",
    "        row1 = pd.Series({\"Strana\":strana1,\"Vysledek\":vysledek1})\n",
    "        row2 = pd.Series({\"Strana\":strana2,\"Vysledek\":vysledek2})\n",
    "        df_scraped = pd.concat([df_scraped, row1], axis=1)\n",
    "        df_scraped = pd.concat([df_scraped, row2], axis=1)\n",
    "    df_scraped = df_scraped.T\n",
    "    df_scraped['year']=year\n",
    "    return(df_scraped)"
   ]
  },
  {
   "cell_type": "code",
   "execution_count": 54,
   "metadata": {
    "id": "Nm3yCJ8DWGRV"
   },
   "outputs": [],
   "source": [
    "def scraperesults_par_after2002(table1, table2,year):\n",
    "    '''\n",
    "   Create a DataFrame table with regions and respective polls (parliament election format)\n",
    "    '''\n",
    "    df_scraped = pd.DataFrame()\n",
    "    for row in table1:\n",
    "        strana1 = row.findAll('td')[1].text\n",
    "        try:\n",
    "          vysledek1 = float(row.findAll('td')[3].text.replace(\",\",\".\"))\n",
    "        except ValueError:\n",
    "          vysledek1 = 0\n",
    "        row1 = pd.Series({\"Strana\":strana1,\"Vysledek\":vysledek1})\n",
    "        df_scraped = pd.concat([df_scraped, row1], axis=1)\n",
    "    for row in table2:\n",
    "        strana2 = row.findAll('td')[1].text\n",
    "        try:\n",
    "          vysledek2 = float(row.findAll('td')[3].text.replace(\",\",\".\"))\n",
    "        except ValueError:\n",
    "          vysledek2 = 0\n",
    "        row2 = pd.Series({\"Strana\":strana2,\"Vysledek\":vysledek2})  \n",
    "        df_scraped = pd.concat([df_scraped, row2], axis=1)\n",
    "    df_scraped = df_scraped.T\n",
    "    df_scraped['year'] =  year\n",
    "    return(df_scraped)"
   ]
  },
  {
   "cell_type": "code",
   "execution_count": 55,
   "metadata": {
    "id": "FE1whVvvWGRV"
   },
   "outputs": [],
   "source": [
    "soup_par_res_1996 = getsoup('https://volby.cz/pls/ps1996/u4')\n",
    "soup_par_res_1998 = getsoup('https://volby.cz/pls/ps1998/u4')\n",
    "soup_par_res_2002 = getsoup('https://volby.cz/pls/ps2002/ps2?xjazyk=CZ')\n",
    "soup_par_res_2006 = getsoup('https://volby.cz/pls/ps2006/ps2?xjazyk=CZ')\n",
    "soup_par_res_2010 = getsoup('https://volby.cz/pls/ps2010/ps2?xjazyk=CZ')\n",
    "soup_par_res_2013 = getsoup('https://volby.cz/pls/ps2013/ps2?xjazyk=CZ')\n",
    "soup_par_res_2017 = getsoup('https://volby.cz/pls/ps2017nss/ps2?xjazyk=CZ')"
   ]
  },
  {
   "cell_type": "code",
   "execution_count": 56,
   "metadata": {
    "id": "AYs94lSMWGRV"
   },
   "outputs": [],
   "source": [
    "list_soup_par_res1 = [soup_par_res_1996,soup_par_res_1998,soup_par_res_2002]\n",
    "\n",
    "list_tab_res_par1 = []\n",
    "i=0\n",
    "for year in list_soup_par_res1:\n",
    "    list_tab_res_par1.append(getresults_par_before2002(year))\n",
    "    i+=1"
   ]
  },
  {
   "cell_type": "code",
   "execution_count": 57,
   "metadata": {
    "id": "Y4LYdOD4WGRV"
   },
   "outputs": [],
   "source": [
    "list_soup_par_res2 = [soup_par_res_2006, soup_par_res_2010, soup_par_res_2013, soup_par_res_2017]\n",
    "\n",
    "\n",
    "list_tab_res_par12 = []\n",
    "for year in list_soup_par_res2:\n",
    "    list_tab_res_par12.append(getresults_par_before2002(year))\n",
    "\n",
    "\n",
    "list_tab_res_par22 = []\n",
    "for year in list_soup_par_res2:\n",
    "    list_tab_res_par22.append(getresults_par_after2002(year))\n"
   ]
  },
  {
   "cell_type": "code",
   "execution_count": 58,
   "metadata": {
    "id": "0-Um-_9mWGRV"
   },
   "outputs": [],
   "source": [
    "\n",
    "list_res_par = []\n",
    "i=0\n",
    "for year in list_tab_res_par1:\n",
    "    list_res_par.append(scraperesults_par_before2002(year, years_par[i]))\n",
    "    i+=1\n",
    "\n",
    "for j in range(4):\n",
    "    list_res_par.append(scraperesults_par_after2002(list_tab_res_par12[j], list_tab_res_par22[j], years_par[i]))\n",
    "    i+=1"
   ]
  },
  {
   "cell_type": "code",
   "execution_count": 59,
   "metadata": {
    "colab": {
     "base_uri": "https://localhost:8080/"
    },
    "id": "ep8wdO4aWGRV",
    "outputId": "bf7863b5-1c68-4fe1-b854-b3f67526832b"
   },
   "outputs": [
    {
     "name": "stdout",
     "output_type": "stream",
     "text": [
      "[                           Strana Vysledek  year\n",
      "0         Svobodní demokraté-LSNS     2.05  1996\n",
      "0     Důchodci za životní jistoty     3.09  1996\n",
      "0   Česká str.sociál.demokratická    26.44  1996\n",
      "0      Strana demokratické levice     0.13  1996\n",
      "0    Občanská demokratická strana    29.62  1996\n",
      "0       Českomoravská unie středu     0.45  1996\n",
      "0                      Pravý blok        0  1996\n",
      "0                   Česká pravice     0.05  1996\n",
      "0                       Nezávislí      0.5  1996\n",
      "0  Komunistická str.Čech a Moravy    10.33  1996\n",
      "0  Mor.nár.str.-Hn.slezskom.sjed.     0.27  1996\n",
      "0                 Strana zelených        0  1996\n",
      "0               Demokratická unie      2.8  1996\n",
      "0  Sdruž.pro rep.-Republ.str.Čsl.     8.01  1996\n",
      "0   Občanská demokratická aliance     6.36  1996\n",
      "0                       Levý blok      1.4  1996\n",
      "0    Strana českosloven.komunistů        0  1996\n",
      "0  Hn.samosp.M.aSl.-Mor.nár.sjed.     0.42  1996\n",
      "0    Křesť.a dem.unie-Čs.str.lid.     8.08  1996\n",
      "0         Celostátní aktiv občanů        0  1996,                            Strana Vysledek  year\n",
      "0   Křesť.demokr.unie-Čs.str.lid.        9  1998\n",
      "0  Sdruž.pro rep.-Republ.str.Čsl.      3.9  1998\n",
      "0                       Nezávislí     0.87  1998\n",
      "0                    Unie svobody      8.6  1998\n",
      "0         Celostátní aktiv občanů        0  1998\n",
      "0     Důchodci za životní jistoty     3.06  1998\n",
      "0               Demokratická unie     1.45  1998\n",
      "0   Česká strana národně sociální     0.29  1998\n",
      "0    Občanská demokratická strana    27.74  1998\n",
      "0            Sdružení důchodců ČR        0  1998\n",
      "0   Občanská koalice-Politic.klub     0.25  1998\n",
      "0                Alternativa 2000        0  1998\n",
      "0    Česká str.sociálně demokrat.    32.31  1998\n",
      "0                      Pravý blok        0  1998\n",
      "0    Moravská demokratická strana     0.37  1998\n",
      "0   Občanská demokratická aliance        0  1998\n",
      "0  Komunistická str.Čech a Moravy    11.03  1998\n",
      "0                 Strana zelených     1.12  1998,                            Strana Vysledek  year\n",
      "0               Demokratická liga     0.08  2002\n",
      "0     Str.venkova-spoj.občan.síly     0.87  2002\n",
      "0    Česká str.sociálně demokrat.     30.2  2002\n",
      "0   České sociálně demokrat.hnutí     0.01  2002\n",
      "0       Balbínova poetická strana     0.19  2002\n",
      "0                   Česká pravice     0.04  2002\n",
      "0   Občanská demokratická aliance      0.5  2002\n",
      "0                     Republikáni     0.14  2002\n",
      "0            Volba pro budoucnost     0.35  2002\n",
      "0            Sdružení nezávislých     2.78  2002\n",
      "0            Humanistická aliance     0.17  2002\n",
      "0    Občanská demokratická strana    24.47  2002\n",
      "0  Akce za zruš.Senátu a proti t.      0.2  2002\n",
      "0  Komunistická str.Čech a Moravy    18.51  2002\n",
      "0                          Naděje     0.62  2002\n",
      "0    Moravská demokratická strana     0.27  2002\n",
      "0                      Nové hnutí        0  2002\n",
      "0         Koalice KDU-ČSL, US-DEU    14.27  2002\n",
      "0    Republikáni Miroslava Sládka     0.97  2002\n",
      "0       Strana za životní jistoty     0.86  2002\n",
      "0                     Cesta změny     0.27  2002\n",
      "0                      Pravý Blok     0.59  2002\n",
      "0   Česká strana národně sociální     0.81  2002\n",
      "0                 Strana zelených     2.36  2002\n",
      "0   Romská občanská iniciativa ČR     0.01  2002\n",
      "0      Strana demokrat.socialismu        0  2002,                            Strana Vysledek  year\n",
      "0          Strana zdravého rozumu     0.46  2006\n",
      "0  České hnutí za národní jednotu        0  2006\n",
      "0       Balbínova poetická strana     0.12  2006\n",
      "0       Liberální reformní strana        0  2006\n",
      "0            Právo a Spravedlnost     0.23  2006\n",
      "0                       NEZÁVISLÍ     0.61  2006\n",
      "0                   Česká pravice        0  2006\n",
      "0   Koruna Česká (monarch.strana)     0.13  2006\n",
      "0    Občanská demokratická strana    35.38  2006\n",
      "0    Česká str.sociálně demokrat.    32.32  2006\n",
      "0          SNK Evropští demokraté     2.08  2006\n",
      "0  Unie svobody-Demokratická unie      0.3  2006\n",
      "0           Helax-Ostrava se baví     0.02  2006\n",
      "0                      Pravý Blok     0.38  2006\n",
      "0             4 VIZE-www.4vize.cz     0.05  2006\n",
      "0   Česká str.národ.socialistická     0.02  2006\n",
      "0                        Moravané     0.23  2006\n",
      "0                 Strana zelených     6.29  2006\n",
      "0             Humanistická strana     0.01  2006\n",
      "0  Komunistická str.Čech a Moravy    12.81  2006\n",
      "0    Koalice pro Českou republiku     0.15  2006\n",
      "0                  Národní strana     0.17  2006\n",
      "0            Folklor i Společnost     0.01  2006\n",
      "0   Křesť.demokr.unie-Čs.str.lid.     7.22  2006\n",
      "0  NEZ.DEMOKRATÉ(předs.V.Železný)     0.68  2006\n",
      "0            STRANA ROVNOST ŠANCÍ      0.2  2006,                            Strana Vysledek  year\n",
      "0                       OBČANÉ.CZ     0.25  2010\n",
      "0                   Liberálové.CZ        0  2010\n",
      "0                    Věci veřejné    10.88  2010\n",
      "0            Konzervativní strana     0.08  2010\n",
      "0  Komunistická str.Čech a Moravy    11.27  2010\n",
      "0   Koruna Česká (monarch.strana)     0.07  2010\n",
      "0   Česká strana národně sociální        0  2010\n",
      "0    Česká str.sociálně demokrat.    22.08  2010\n",
      "0              NÁRODNÍ PROSPERITA        0  2010\n",
      "0  Sdruž.pro rep.-Republ.str.Čsl.     0.03  2010\n",
      "0                        Moravané     0.22  2010\n",
      "0    Strana Práv Občanů ZEMANOVCI     4.33  2010\n",
      "0                            STOP     0.06  2010\n",
      "0                          TOP 09     16.7  2010\n",
      "0                  EVROPSKÝ STŘED        0  2010\n",
      "0   Křesť.demokr.unie-Čs.str.lid.     4.39  2010\n",
      "0   Volte Pr.Blok www.cibulka.net     0.47  2010\n",
      "0   Česká str.národ.socialistická     0.02  2010\n",
      "0                 Strana zelených     2.44  2010\n",
      "0    Suverenita-blok J.Bobošíkové     3.67  2010\n",
      "0             Humanistická strana     0.01  2010\n",
      "0           Česká pirátská strana      0.8  2010\n",
      "0   Dělnic.str.sociální spravedl.     1.14  2010\n",
      "0        Strana svobodných občanů     0.74  2010\n",
      "0    Občanská demokratická strana    20.22  2010\n",
      "0                   Klíčové hnutí     0.02  2010,                            Strana Vysledek  year\n",
      "0    Česká str.sociálně demokrat.    20.45  2013\n",
      "0        Strana svobodných občanů     2.46  2013\n",
      "0           Česká pirátská strana     2.66  2013\n",
      "0                          TOP 09    11.99  2013\n",
      "0     HLAVU VZHŮRU - volební blok     0.42  2013\n",
      "0    Občanská demokratická strana     7.72  2013\n",
      "0      Romská demokratická strana     0.01  2013\n",
      "0    Klub angažovaných nestraníků        0  2013\n",
      "0           politické hnutí Změna     0.57  2013\n",
      "0           Strana soukromníků ČR     0.26  2013\n",
      "0   Křesť.demokr.unie-Čs.str.lid.     6.78  2013\n",
      "0   Volte Pr.Blok www.cibulka.net     0.02  2013\n",
      "0   Suver.-Strana zdravého rozumu     0.27  2013\n",
      "0        Aktiv nezávislých občanů     0.02  2013\n",
      "0    Strana Práv Občanů ZEMANOVCI     1.51  2013\n",
      "0                     OBČANÉ 2011        0  2013\n",
      "0    Úsvit přímé demokr.T.Okamury     6.88  2013\n",
      "0   Dělnic.str.sociální spravedl.     0.86  2013\n",
      "0                        ANO 2011    18.65  2013\n",
      "0  Komunistická str.Čech a Moravy    14.91  2013\n",
      "0       LEV 21-Národní socialisté     0.07  2013\n",
      "0                 Strana zelených     3.19  2013\n",
      "0   Koruna Česká (monarch.strana)     0.17  2013\n",
      "0                               -        0  2013,                            Strana Vysledek  year\n",
      "0    Občanská demokratická strana    11.32  2017\n",
      "0   Řád národa - Vlastenecká unie     0.17  2017\n",
      "0     CESTA ODPOVĚDNÉ SPOLEČNOSTI     0.07  2017\n",
      "0    Česká str.sociálně demokrat.     7.27  2017\n",
      "0   Volte Pr.Blok www.cibulka.net        0  2017\n",
      "0                  Radostné Česko     0.07  2017\n",
      "0          STAROSTOVÉ A NEZÁVISLÍ     5.18  2017\n",
      "0  Komunistická str.Čech a Moravy     7.76  2017\n",
      "0                 Strana zelených     1.46  2017\n",
      "0  ROZUMNÍ-stop migraci,diktát.EU     0.72  2017\n",
      "0  Společ.proti výst.v Prok.údolí        0  2017\n",
      "0        Strana svobodných občanů     1.56  2017\n",
      "0  Blok proti islam.-Obran.domova      0.1  2017\n",
      "0   Občanská demokratická aliance     0.15  2017\n",
      "0           Česká pirátská strana    10.79  2017\n",
      "0  OBČANÉ 2011-SPRAVEDL. PRO LIDI        0  2017\n",
      "0                 Unie H.A.V.E.L.        0  2017\n",
      "0            Česká národní fronta        0  2017\n",
      "0      Referendum o Evropské unii     0.08  2017\n",
      "0                          TOP 09     5.31  2017\n",
      "0                        ANO 2011    29.64  2017\n",
      "0                Dobrá volba 2016     0.07  2017\n",
      "0    SPR-Republ.str.Čsl. M.Sládka     0.19  2017\n",
      "0   Křesť.demokr.unie-Čs.str.lid.      5.8  2017\n",
      "0   Česká strana národně sociální     0.03  2017\n",
      "0                        REALISTÉ     0.71  2017\n",
      "0                       SPORTOVCI      0.2  2017\n",
      "0   Dělnic.str.sociální spravedl.      0.2  2017\n",
      "0  Svob.a př.dem.-T.Okamura (SPD)    10.64  2017\n",
      "0              Strana Práv Občanů     0.36  2017\n",
      "0                      Národ Sobě        0  2017\n",
      "0                               -        0  2017]\n"
     ]
    }
   ],
   "source": [
    "parlamentni.tab_vysledek = list_res_par\n",
    "parlamentni.prt_vysledek()\n"
   ]
  },
  {
   "cell_type": "code",
   "execution_count": 60,
   "metadata": {
    "colab": {
     "base_uri": "https://localhost:8080/",
     "height": 0
    },
    "id": "UuNHLlnMaiE5",
    "outputId": "1564f3d8-d745-4c39-9c53-21a8a04649b3"
   },
   "outputs": [
    {
     "data": {
      "text/plain": [
       "<seaborn.axisgrid.FacetGrid at 0x7f207d3ec3c8>"
      ]
     },
     "execution_count": 60,
     "metadata": {
      "tags": []
     },
     "output_type": "execute_result"
    },
    {
     "data": {
      "image/png": "[encoded data removed]",
      "text/plain": [
       "<Figure size 903.775x595.44 with 1 Axes>"
      ]
     },
     "metadata": {
      "needs_background": "light",
      "tags": []
     },
     "output_type": "display_data"
    }
   ],
   "source": [
    "all_eu = pd.concat(list_scrape_eu)\r\n",
    "kr = sns.catplot(data=all_eu,x='Kraj', y=\"Účast\", hue=\"year\",height=8.27, aspect=11.7/8.27)\r\n",
    "kr.set_xticklabels(rotation=90)\r\n"
   ]
  },
  {
   "cell_type": "markdown",
   "metadata": {
    "id": "gRTbdrWjWGRW"
   },
   "source": [
    "## European election"
   ]
  },
  {
   "cell_type": "code",
   "execution_count": 61,
   "metadata": {
    "id": "S0lgl7L5WGRW"
   },
   "outputs": [],
   "source": [
    "def getresults_eu1(soup):\n",
    "    '''\n",
    "   Create a table from the BeautifulSoup object given (european election format)\n",
    "    '''\n",
    "    table=soup.findAll('table')[1].findAll('tr')\n",
    "    tb = table[2:30]\n",
    "    return(tb)"
   ]
  },
  {
   "cell_type": "code",
   "execution_count": 62,
   "metadata": {
    "id": "taD-U_PCWGRW"
   },
   "outputs": [],
   "source": [
    "def getresults_eu2(soup):\n",
    "    '''\n",
    "   Create a table from the BeautifulSoup object given (european election format)\n",
    "    '''\n",
    "    table=soup.findAll('table')[2].findAll('tr')\n",
    "    tb = table[2:20]\n",
    "    return(tb)"
   ]
  },
  {
   "cell_type": "code",
   "execution_count": 63,
   "metadata": {
    "id": "mgzn2wedWGRW"
   },
   "outputs": [],
   "source": [
    "def scraperesults_eu1(table1, table2,year):\n",
    "    '''\n",
    "   Create a DataFrame table with regions and respective polls (european parliament election format)\n",
    "    '''\n",
    "    df_scraped = pd.DataFrame()\n",
    "    for row in table1:\n",
    "        strana1 = row.findAll('td')[1].text\n",
    "        try:\n",
    "          vysledek1 = float(row.findAll('td')[3].text.replace(\",\",\".\"))\n",
    "        except ValueError:\n",
    "          vysledek1 = 0\n",
    "\n",
    "        row1 = pd.Series({\"Strana\":strana1,\"Vysledek\":vysledek1})\n",
    "        df_scraped = pd.concat([df_scraped, row1], axis=1)\n",
    "    for row in table2:\n",
    "        strana2 = row.findAll('td')[1].text\n",
    "        try:\n",
    "          vysledek2 = float(row.findAll('td')[3].text.replace(\",\",\".\"))\n",
    "        except ValueError:\n",
    "          vysledek2 = 0\n",
    "        row2 = pd.Series({\"Strana\":strana2,\"Vysledek\":vysledek2})  \n",
    "        df_scraped = pd.concat([df_scraped, row2], axis=1)\n",
    "    df_scraped = df_scraped.T\n",
    "    df_scraped['year'] = year\n",
    "    return(df_scraped)"
   ]
  },
  {
   "cell_type": "code",
   "execution_count": 64,
   "metadata": {
    "id": "nJgzQu8OWGRW"
   },
   "outputs": [],
   "source": [
    "soup_eu_res_2004 = getsoup('https://volby.cz/pls/ep2004/ep11?xjazyk=CZ')\n",
    "soup_eu_res_2009 = getsoup('https://volby.cz/pls/ep2009/ep11?xjazyk=CZ')\n",
    "soup_eu_res_2014 = getsoup('https://volby.cz/pls/ep2014/ep11?xjazyk=CZ')\n",
    "soup_eu_res_2019 = getsoup('https://volby.cz/pls/ep2019/ep11?xjazyk=CZ')"
   ]
  },
  {
   "cell_type": "code",
   "execution_count": 65,
   "metadata": {
    "id": "fO-3FEYKWGRW"
   },
   "outputs": [],
   "source": [
    "list_soup_eu = [soup_eu_res_2004, soup_eu_res_2009, soup_eu_res_2014, soup_eu_res_2019]\n",
    "\n",
    "\n",
    "list_tab_res_eu12 = []\n",
    "for year in list_soup_eu:\n",
    "    list_tab_res_eu12.append(getresults_eu1(year))\n",
    "    \n",
    "list_tab_res_eu22 = []\n",
    "for year in list_soup_eu:\n",
    "    list_tab_res_eu22.append(getresults_eu2(year))"
   ]
  },
  {
   "cell_type": "code",
   "execution_count": 66,
   "metadata": {
    "id": "Iys0vxSfWGRW"
   },
   "outputs": [],
   "source": [
    "\n",
    "list_res_eu = []\n",
    "i=0\n",
    "\n",
    "for j in range(4):\n",
    "    list_res_eu.append(scraperesults_eu1(list_tab_res_eu12[j], list_tab_res_eu22[j], years_eu[i]))\n",
    "    i+=1"
   ]
  },
  {
   "cell_type": "code",
   "execution_count": 67,
   "metadata": {
    "colab": {
     "base_uri": "https://localhost:8080/"
    },
    "id": "FlO0N-yOWGRX",
    "outputId": "2140b325-255b-40a8-f77e-9016c84205f4"
   },
   "outputs": [
    {
     "name": "stdout",
     "output_type": "stream",
     "text": [
      "[                           Strana Vysledek  year\n",
      "0  SNK sdruž.nez. a Evropští dem.    11.02  2004\n",
      "0   Koruna Česká (monarch.strana)     0.19  2004\n",
      "0           Helax-Ostrava se baví     0.14  2004\n",
      "0    Česká str.sociálně demokrat.     8.78  2004\n",
      "0                 Národní koalice     0.12  2004\n",
      "0    Občanská demokratická strana    30.04  2004\n",
      "0    Str.pro otevřenou společnost     0.23  2004\n",
      "0      Strana demokrat.socialismu     0.07  2004\n",
      "0                 Strana zelených     3.16  2004\n",
      "0            Humanistická aliance     0.17  2004\n",
      "0            Konzervativní strana     0.21  2004\n",
      "0           \"Sdružení nestraníků\"      0.5  2004\n",
      "0   Strana občanů republiky České     0.11  2004\n",
      "0  Masarykova demokratická strana     0.18  2004\n",
      "0       Všeobecná občanská strana     0.03  2004\n",
      "0                 Dělnická strana     0.18  2004\n",
      "0                    Strana práce     0.07  2004\n",
      "0       Balbínova poetická strana     0.59  2004\n",
      "0   Za zájmy Moravy ve sjedn.Evr.     0.39  2004\n",
      "0   Křesť.demokr.unie-Čs.str.lid.     9.57  2004\n",
      "0                      Pravý Blok     1.17  2004\n",
      "0          Strana zdravého rozumu     0.27  2004\n",
      "0      Unie liberálních demokratů     1.69  2004\n",
      "0  Komunistická str.Čech a Moravy    20.26  2004\n",
      "0     Str.venkova-spoj.občan.síly      0.5  2004\n",
      "0       Strana za životní jistoty     0.51  2004\n",
      "0      Nezávislá iniciativa (NEI)     0.71  2004\n",
      "0                        SVOBODNÍ     0.05  2004\n",
      "0  \"V.Kožený-Občan.feder.demokr.\"     0.08  2004\n",
      "0    Republikáni Miroslava Sládka     0.67  2004\n",
      "0                       NEZÁVISLÍ     8.18  2004\n",
      "0                               -        0  2004,                            Strana Vysledek  year\n",
      "0                     Libertas.cz     0.94  2009\n",
      "0   Křesť.demokr.unie-Čs.str.lid.     7.64  2009\n",
      "0                    Věci veřejné      2.4  2009\n",
      "0    Občanská demokratická strana    31.45  2009\n",
      "0                      Suverenita     4.26  2009\n",
      "0   Volte Pr.Blok-www.cibulka.net        1  2009\n",
      "0  Sdruž.pro rep.-Republ.str.Čsl.     0.31  2009\n",
      "0   Česká str.národ.socialistická     0.13  2009\n",
      "0    Evropská demokratická strana     2.88  2009\n",
      "0     Strana svobodných demokratů     0.06  2009\n",
      "0    Demokratická Strana Zelených     0.62  2009\n",
      "0   Česká strana národně sociální     0.03  2009\n",
      "0                  Národní strana     0.26  2009\n",
      "0    SDŽ-Strana důstojného života     0.72  2009\n",
      "0             Humanistická strana     0.19  2009\n",
      "0                        Moravané     0.38  2009\n",
      "0  Spojení demokraté-Sdruž.nezáv.     0.06  2009\n",
      "0                   Liberálové.CZ     0.07  2009\n",
      "0     Strana demokracie a svobody     0.04  2009\n",
      "0  Nejen has. a živn. s uč. do E.     0.29  2009\n",
      "0  Komunistická str.Čech a Moravy    14.18  2009\n",
      "0  \"STAR.A NEZ.-VAŠE ALTERNATIVA\"     2.28  2009\n",
      "0        Strana svobodných občanů     1.26  2009\n",
      "0          SNK Evropští demokraté     1.66  2009\n",
      "0       Balbínova poetická strana     0.15  2009\n",
      "0                 Strana zelených     2.06  2009\n",
      "0   Koruna Česká (monarch.strana)     0.18  2009\n",
      "0                 Lidé a Politika     0.02  2009\n",
      "0         \"Strana soukromníků ČR\"     0.19  2009\n",
      "0                          Zelení     0.15  2009\n",
      "0                 Dělnická strana     1.07  2009\n",
      "0                       NEZÁVISLÍ     0.54  2009\n",
      "0    Česká str.sociálně demokrat.    22.38  2009\n",
      "0                               -        0  2009,                            Strana Vysledek  year\n",
      "0          SNK Evropští demokraté     0.52  2014\n",
      "0                Koalice SP a NO!     0.19  2014\n",
      "0    Klub angažovaných nestraníků     0.15  2014\n",
      "0   NE Bruselu-Národní demokracie     0.46  2014\n",
      "0   Křesť.demokr.unie-Čs.str.lid.     9.95  2014\n",
      "0    Str.zdr.rozumu-NECHCEME EURO     1.63  2014\n",
      "0           Koalice TOP 09 a STAN    15.95  2014\n",
      "0     Liberálně ekologická strana     0.49  2014\n",
      "0       LEV 21-Národní socialisté     0.46  2014\n",
      "0  Komunistická str.Čech a Moravy    10.98  2014\n",
      "0                     evropani.cz     0.04  2014\n",
      "0  REPUBL.STR.ČECH,MORAVY A SLEZ.     0.07  2014\n",
      "0                Fair play - HNPD     0.05  2014\n",
      "0    Česká str.sociálně demokrat.    14.17  2014\n",
      "0                        ANO 2011    16.13  2014\n",
      "0   \"Strana rovných příležitostí\"     0.04  2014\n",
      "0                        Moravané     0.43  2014\n",
      "0            Česká strana regionů     0.16  2014\n",
      "0    Občanská demokratická strana     7.67  2014\n",
      "0                       VIZE 2014     0.24  2014\n",
      "0    Úsvit přímé demokr.T.Okamury     3.12  2014\n",
      "0                 Strana zelených     3.77  2014\n",
      "0        Strana svobodných občanů     5.24  2014\n",
      "0      Romská demokratická strana     0.07  2014\n",
      "0   Komunistická str.Českosloven.     0.56  2014\n",
      "0   Volte Pr.Blok www.cibulka.net     0.52  2014\n",
      "0    ANTIBURSÍK - STOP EKOTERORU!     0.05  2014\n",
      "0              Koalice DSSS a SPE     0.52  2014\n",
      "0          HNUTÍ SOCIÁLNĚ SLABÝCH     0.11  2014\n",
      "0                       Republika     0.14  2014\n",
      "0           Česká pirátská strana     4.78  2014\n",
      "0                Česká Suverenita     0.13  2014\n",
      "0   Koruna Česká (monarch.strana)     0.16  2014\n",
      "0        Aktiv nezávislých občanů     0.08  2014\n",
      "0   Česká strana národně sociální     0.03  2014\n",
      "0   Občanská konzervativní strana     0.22  2014\n",
      "0                    Věci veřejné     0.46  2014,                            Strana Vysledek  year\n",
      "0    Klub angažovaných nestraníků      0.1  2019\n",
      "0          Strana nezávislosti ČR      0.4  2019\n",
      "0     CESTA ODPOVĚDNÉ SPOLEČNOSTI     0.33  2019\n",
      "0              Národní socialisté     0.05  2019\n",
      "0    Občanská demokratická strana    14.54  2019\n",
      "0   ANO, vytrollíme europarlament     1.56  2019\n",
      "0    Česká str.sociálně demokrat.     3.95  2019\n",
      "0      Romská demokratická strana     0.06  2019\n",
      "0  Komunistická str.Čech a Moravy     6.94  2019\n",
      "0               Koalice DSSS a NF     0.18  2019\n",
      "0    SPR-Republ.str.Čsl. M.Sládka     0.18  2019\n",
      "0             Koalice Rozumní, ND     0.78  2019\n",
      "0   Volte Pr.Blok www.cibulka.net      0.2  2019\n",
      "0                     NE-VOLIM.CZ     0.09  2019\n",
      "0                       Pro Česko     0.11  2019\n",
      "0      Vědci pro Českou republiku     0.82  2019\n",
      "0       Koalice ČSNS, Patrioti ČR     0.05  2019\n",
      "0  JSI PRO?Jist.Solid.In.pro bud.     0.03  2019\n",
      "0              PRO Zdraví a Sport     0.33  2019\n",
      "0           Moravské zemské hnutí     0.13  2019\n",
      "0                Česká Suverenita     0.11  2019\n",
      "0                   TVŮJ KANDIDÁT     0.06  2019\n",
      "0                            HLAS     2.38  2019\n",
      "0            Koalice Svobodní, RČ     0.65  2019\n",
      "0            Koalice STAN, TOP 09    11.65  2019\n",
      "0           Česká pirátská strana    13.95  2019\n",
      "0  Svob.a př.dem.-T.Okamura (SPD)     9.14  2019\n",
      "0           ALIANCE NÁRODNÍCH SIL     0.08  2019\n",
      "0                        ANO 2011    21.18  2019\n",
      "0     Agrární demokratická strana     0.16  2019\n",
      "0                        Moravané     0.27  2019\n",
      "0                 PRVNÍ REPUBLIKA     0.03  2019\n",
      "0    Demokratická strana zelených      0.6  2019\n",
      "0   BEZPEČNOST,ODPOVĚDNOST,SOLID.      0.1  2019\n",
      "0        Koalice Soukromníci, NEZ     0.36  2019\n",
      "0                 Evropa společně     0.53  2019\n",
      "0       KONZERVATIVNÍ ALTERNATIVA        0  2019\n",
      "0   Křesť.demokr.unie-Čs.str.lid.     7.24  2019]\n"
     ]
    }
   ],
   "source": [
    "evropske.tab_vysledek = list_res_eu\n",
    "evropske.prt_vysledek()"
   ]
  },
  {
   "cell_type": "code",
   "execution_count": 68,
   "metadata": {
    "colab": {
     "base_uri": "https://localhost:8080/",
     "height": 0
    },
    "id": "EnjU8s8nWGRX",
    "outputId": "2fddb292-a2d7-427c-91b8-ea3773936265"
   },
   "outputs": [
    {
     "data": {
      "text/html": [
       "<div>\n",
       "<style scoped>\n",
       "    .dataframe tbody tr th:only-of-type {\n",
       "        vertical-align: middle;\n",
       "    }\n",
       "\n",
       "    .dataframe tbody tr th {\n",
       "        vertical-align: top;\n",
       "    }\n",
       "\n",
       "    .dataframe thead th {\n",
       "        text-align: right;\n",
       "    }\n",
       "</style>\n",
       "<table border=\"1\" class=\"dataframe\">\n",
       "  <thead>\n",
       "    <tr style=\"text-align: right;\">\n",
       "      <th></th>\n",
       "      <th>Kraj</th>\n",
       "      <th>Účast</th>\n",
       "      <th>year</th>\n",
       "    </tr>\n",
       "  </thead>\n",
       "  <tbody>\n",
       "    <tr>\n",
       "      <th>0</th>\n",
       "      <td>Hlavní město Praha</td>\n",
       "      <td>65.1</td>\n",
       "      <td>2013</td>\n",
       "    </tr>\n",
       "    <tr>\n",
       "      <th>0</th>\n",
       "      <td>Středočeský kraj</td>\n",
       "      <td>63.96</td>\n",
       "      <td>2013</td>\n",
       "    </tr>\n",
       "    <tr>\n",
       "      <th>0</th>\n",
       "      <td>Jihočeský kraj</td>\n",
       "      <td>63.63</td>\n",
       "      <td>2013</td>\n",
       "    </tr>\n",
       "    <tr>\n",
       "      <th>0</th>\n",
       "      <td>Plzeňský kraj</td>\n",
       "      <td>61.97</td>\n",
       "      <td>2013</td>\n",
       "    </tr>\n",
       "    <tr>\n",
       "      <th>0</th>\n",
       "      <td>Karlovarský kraj</td>\n",
       "      <td>52.35</td>\n",
       "      <td>2013</td>\n",
       "    </tr>\n",
       "    <tr>\n",
       "      <th>0</th>\n",
       "      <td>Ústecký kraj</td>\n",
       "      <td>52.66</td>\n",
       "      <td>2013</td>\n",
       "    </tr>\n",
       "    <tr>\n",
       "      <th>0</th>\n",
       "      <td>Liberecký kraj</td>\n",
       "      <td>59.1</td>\n",
       "      <td>2013</td>\n",
       "    </tr>\n",
       "    <tr>\n",
       "      <th>0</th>\n",
       "      <td>Královéhradecký kraj</td>\n",
       "      <td>64.65</td>\n",
       "      <td>2013</td>\n",
       "    </tr>\n",
       "    <tr>\n",
       "      <th>0</th>\n",
       "      <td>Pardubický kraj</td>\n",
       "      <td>64.86</td>\n",
       "      <td>2013</td>\n",
       "    </tr>\n",
       "    <tr>\n",
       "      <th>0</th>\n",
       "      <td>Kraj Vysočina</td>\n",
       "      <td>66.79</td>\n",
       "      <td>2013</td>\n",
       "    </tr>\n",
       "    <tr>\n",
       "      <th>0</th>\n",
       "      <td>Jihomoravský kraj</td>\n",
       "      <td>62.28</td>\n",
       "      <td>2013</td>\n",
       "    </tr>\n",
       "    <tr>\n",
       "      <th>0</th>\n",
       "      <td>Olomoucký kraj</td>\n",
       "      <td>60.14</td>\n",
       "      <td>2013</td>\n",
       "    </tr>\n",
       "    <tr>\n",
       "      <th>0</th>\n",
       "      <td>Zlínský kraj</td>\n",
       "      <td>62.45</td>\n",
       "      <td>2013</td>\n",
       "    </tr>\n",
       "    <tr>\n",
       "      <th>0</th>\n",
       "      <td>Moravskoslezský kraj</td>\n",
       "      <td>56.17</td>\n",
       "      <td>2013</td>\n",
       "    </tr>\n",
       "    <tr>\n",
       "      <th>0</th>\n",
       "      <td>Hlavní město Praha</td>\n",
       "      <td>67.56</td>\n",
       "      <td>2018</td>\n",
       "    </tr>\n",
       "    <tr>\n",
       "      <th>0</th>\n",
       "      <td>Středočeský kraj</td>\n",
       "      <td>64.73</td>\n",
       "      <td>2018</td>\n",
       "    </tr>\n",
       "    <tr>\n",
       "      <th>0</th>\n",
       "      <td>Jihočeský kraj</td>\n",
       "      <td>63.25</td>\n",
       "      <td>2018</td>\n",
       "    </tr>\n",
       "    <tr>\n",
       "      <th>0</th>\n",
       "      <td>Plzeňský kraj</td>\n",
       "      <td>61.44</td>\n",
       "      <td>2018</td>\n",
       "    </tr>\n",
       "    <tr>\n",
       "      <th>0</th>\n",
       "      <td>Karlovarský kraj</td>\n",
       "      <td>52.11</td>\n",
       "      <td>2018</td>\n",
       "    </tr>\n",
       "    <tr>\n",
       "      <th>0</th>\n",
       "      <td>Ústecký kraj</td>\n",
       "      <td>52.76</td>\n",
       "      <td>2018</td>\n",
       "    </tr>\n",
       "    <tr>\n",
       "      <th>0</th>\n",
       "      <td>Liberecký kraj</td>\n",
       "      <td>60.74</td>\n",
       "      <td>2018</td>\n",
       "    </tr>\n",
       "    <tr>\n",
       "      <th>0</th>\n",
       "      <td>Královéhradecký kraj</td>\n",
       "      <td>64.19</td>\n",
       "      <td>2018</td>\n",
       "    </tr>\n",
       "    <tr>\n",
       "      <th>0</th>\n",
       "      <td>Pardubický kraj</td>\n",
       "      <td>64.98</td>\n",
       "      <td>2018</td>\n",
       "    </tr>\n",
       "    <tr>\n",
       "      <th>0</th>\n",
       "      <td>Kraj Vysočina</td>\n",
       "      <td>67.01</td>\n",
       "      <td>2018</td>\n",
       "    </tr>\n",
       "    <tr>\n",
       "      <th>0</th>\n",
       "      <td>Jihomoravský kraj</td>\n",
       "      <td>62.56</td>\n",
       "      <td>2018</td>\n",
       "    </tr>\n",
       "    <tr>\n",
       "      <th>0</th>\n",
       "      <td>Olomoucký kraj</td>\n",
       "      <td>60.35</td>\n",
       "      <td>2018</td>\n",
       "    </tr>\n",
       "    <tr>\n",
       "      <th>0</th>\n",
       "      <td>Zlínský kraj</td>\n",
       "      <td>63.74</td>\n",
       "      <td>2018</td>\n",
       "    </tr>\n",
       "    <tr>\n",
       "      <th>0</th>\n",
       "      <td>Moravskoslezský kraj</td>\n",
       "      <td>56.75</td>\n",
       "      <td>2018</td>\n",
       "    </tr>\n",
       "  </tbody>\n",
       "</table>\n",
       "</div>"
      ],
      "text/plain": [
       "                   Kraj  Účast  year\n",
       "0    Hlavní město Praha   65.1  2013\n",
       "0      Středočeský kraj  63.96  2013\n",
       "0        Jihočeský kraj  63.63  2013\n",
       "0         Plzeňský kraj  61.97  2013\n",
       "0      Karlovarský kraj  52.35  2013\n",
       "0          Ústecký kraj  52.66  2013\n",
       "0        Liberecký kraj   59.1  2013\n",
       "0  Královéhradecký kraj  64.65  2013\n",
       "0       Pardubický kraj  64.86  2013\n",
       "0         Kraj Vysočina  66.79  2013\n",
       "0     Jihomoravský kraj  62.28  2013\n",
       "0        Olomoucký kraj  60.14  2013\n",
       "0          Zlínský kraj  62.45  2013\n",
       "0  Moravskoslezský kraj  56.17  2013\n",
       "0    Hlavní město Praha  67.56  2018\n",
       "0      Středočeský kraj  64.73  2018\n",
       "0        Jihočeský kraj  63.25  2018\n",
       "0         Plzeňský kraj  61.44  2018\n",
       "0      Karlovarský kraj  52.11  2018\n",
       "0          Ústecký kraj  52.76  2018\n",
       "0        Liberecký kraj  60.74  2018\n",
       "0  Královéhradecký kraj  64.19  2018\n",
       "0       Pardubický kraj  64.98  2018\n",
       "0         Kraj Vysočina  67.01  2018\n",
       "0     Jihomoravský kraj  62.56  2018\n",
       "0        Olomoucký kraj  60.35  2018\n",
       "0          Zlínský kraj  63.74  2018\n",
       "0  Moravskoslezský kraj  56.75  2018"
      ]
     },
     "execution_count": 68,
     "metadata": {
      "tags": []
     },
     "output_type": "execute_result"
    }
   ],
   "source": [
    "all_prez = pd.concat(list_scrape_prez)\n",
    "all_prez"
   ]
  },
  {
   "cell_type": "code",
   "execution_count": 69,
   "metadata": {
    "colab": {
     "base_uri": "https://localhost:8080/",
     "height": 0
    },
    "id": "tLU3j-p-WGRX",
    "outputId": "b5bfe666-ce2c-4d56-9aad-82ba96d979b9"
   },
   "outputs": [
    {
     "data": {
      "text/plain": [
       "<seaborn.axisgrid.FacetGrid at 0x7f207d0fb400>"
      ]
     },
     "execution_count": 69,
     "metadata": {
      "tags": []
     },
     "output_type": "execute_result"
    },
    {
     "data": {
      "image/png": "[encoded data removed]",
      "text/plain": [
       "<Figure size 903.65x595.44 with 1 Axes>"
      ]
     },
     "metadata": {
      "needs_background": "light",
      "tags": []
     },
     "output_type": "display_data"
    }
   ],
   "source": [
    "p = sns.catplot(data=all_prez,x='Kraj', y=\"Účast\", hue=\"year\",height=8.27, aspect=11.7/8.27)\n",
    "p.set_xticklabels(rotation=90)"
   ]
  },
  {
   "cell_type": "code",
   "execution_count": 70,
   "metadata": {
    "colab": {
     "base_uri": "https://localhost:8080/",
     "height": 0
    },
    "id": "6pzkfDHBamwS",
    "outputId": "ab835f11-ca0a-4150-a041-6d4f80c0dda0"
   },
   "outputs": [
    {
     "data": {
      "text/plain": [
       "<seaborn.axisgrid.FacetGrid at 0x7f207d212a58>"
      ]
     },
     "execution_count": 70,
     "metadata": {
      "tags": []
     },
     "output_type": "execute_result"
    },
    {
     "data": {
      "image/png": "[encoded data removed]",
      "text/plain": [
       "<Figure size 903.775x595.44 with 1 Axes>"
      ]
     },
     "metadata": {
      "needs_background": "light",
      "tags": []
     },
     "output_type": "display_data"
    }
   ],
   "source": [
    "\r\n",
    "all_eu = pd.concat(list_res_eu)\r\n",
    "g = sns.catplot(data=all_eu,x='Strana', y=\"Vysledek\", hue=\"year\",height=8.27, aspect=11.7/8.27)\r\n",
    "g.set_xticklabels(rotation=90)\r\n"
   ]
  }
 ],
 "metadata": {
  "colab": {
   "collapsed_sections": [
    "P6jM6aQ7WGRS",
    "NFMQgMe8WGRU",
    "gRTbdrWjWGRW"
   ],
   "name": "ProjectOOPeng.ipynb",
   "provenance": []
  },
  "kernelspec": {
   "display_name": "Python 3",
   "language": "python",
   "name": "python3"
  },
  "language_info": {
   "codemirror_mode": {
    "name": "ipython",
    "version": 3
   },
   "file_extension": ".py",
   "mimetype": "text/x-python",
   "name": "python",
   "nbconvert_exporter": "python",
   "pygments_lexer": "ipython3",
   "version": "3.8.3"
  }
 },
 "nbformat": 4,
 "nbformat_minor": 4
}
