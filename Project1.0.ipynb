{
 "cells": [
  {
   "cell_type": "code",
   "execution_count": 1,
   "metadata": {},
   "outputs": [],
   "source": [
    "import pandas as pd\n",
    "import numpy as np\n",
    "import requests\n",
    "from bs4 import BeautifulSoup"
   ]
  },
  {
   "cell_type": "code",
   "execution_count": 107,
   "metadata": {},
   "outputs": [],
   "source": [
    "def getsoup(link):\n",
    "    '''\n",
    "   Create a BeautifulSoup object from the URL given\n",
    "    '''\n",
    "    r = requests.get(link)\n",
    "    soup = BeautifulSoup(r.text,'lxml')\n",
    "    return(soup)"
   ]
  },
  {
   "cell_type": "markdown",
   "metadata": {},
   "source": [
    "## Prezidentske"
   ]
  },
  {
   "cell_type": "code",
   "execution_count": 108,
   "metadata": {},
   "outputs": [],
   "source": [
    "def gettable_prez(soup):\n",
    "    '''\n",
    "   Create a table from the BeautifulSoup object given (presidential election format)\n",
    "    '''\n",
    "    table=soup.find('table',{'id':'pe41_t1'}).findAll('tr')\n",
    "    tb= table[2:16]\n",
    "    return(tb)\n"
   ]
  },
  {
   "cell_type": "code",
   "execution_count": 109,
   "metadata": {},
   "outputs": [],
   "source": [
    "def scrapetable_prez(table):\n",
    "    '''\n",
    "   Create a DataFrame table with regions and respective polls (presidential election format)\n",
    "    '''\n",
    "    df_scraped = pd.DataFrame()\n",
    "    for row in table:\n",
    "        kraj = row.findAll('td')[1].text\n",
    "        ucast = row.findAll('td',{'class':'cislo'})[5].text\n",
    "        row1 = pd.Series({\"Kraj\":kraj,\"Účast\":ucast})\n",
    "        df_scraped = pd.concat([df_scraped, row1], axis=1)\n",
    "    df_scraped = df_scraped.T\n",
    "    return(df_scraped)"
   ]
  },
  {
   "cell_type": "code",
   "execution_count": 110,
   "metadata": {},
   "outputs": [],
   "source": [
    "\n",
    "soup_prez_2013 = getsoup('https://volby.cz/pls/prez2013/pe41?xjazyk=CZ&xv=1')\n",
    "soup_prez_2018 = getsoup('https://volby.cz/pls/prez2018/pe41?xjazyk=CZ&xv=1')"
   ]
  },
  {
   "cell_type": "code",
   "execution_count": 111,
   "metadata": {},
   "outputs": [],
   "source": [
    "tab_prez_2013 = gettable_prez(soup_prez_2013)\n",
    "tab_prez_2018 = gettable_prez(soup_prez_2018)"
   ]
  },
  {
   "cell_type": "code",
   "execution_count": 112,
   "metadata": {},
   "outputs": [],
   "source": [
    "df_prez_2013 = scrapetable_prez(tab_prez_2013)\n",
    "df_prez_2018 = scrapetable_prez(tab_prez_2018)"
   ]
  },
  {
   "cell_type": "code",
   "execution_count": 113,
   "metadata": {},
   "outputs": [
    {
     "name": "stdout",
     "output_type": "stream",
     "text": [
      "                   Kraj  Účast\n",
      "0    Hlavní město Praha  65,10\n",
      "0      Středočeský kraj  63,96\n",
      "0        Jihočeský kraj  63,63\n",
      "0         Plzeňský kraj  61,97\n",
      "0      Karlovarský kraj  52,35\n",
      "0          Ústecký kraj  52,66\n",
      "0        Liberecký kraj  59,10\n",
      "0  Královéhradecký kraj  64,65\n",
      "0       Pardubický kraj  64,86\n",
      "0         Kraj Vysočina  66,79\n",
      "0     Jihomoravský kraj  62,28\n",
      "0        Olomoucký kraj  60,14\n",
      "0          Zlínský kraj  62,45\n",
      "0  Moravskoslezský kraj  56,17\n",
      "                   Kraj  Účast\n",
      "0    Hlavní město Praha  67,56\n",
      "0      Středočeský kraj  64,73\n",
      "0        Jihočeský kraj  63,25\n",
      "0         Plzeňský kraj  61,44\n",
      "0      Karlovarský kraj  52,11\n",
      "0          Ústecký kraj  52,76\n",
      "0        Liberecký kraj  60,74\n",
      "0  Královéhradecký kraj  64,19\n",
      "0       Pardubický kraj  64,98\n",
      "0         Kraj Vysočina  67,01\n",
      "0     Jihomoravský kraj  62,56\n",
      "0        Olomoucký kraj  60,35\n",
      "0          Zlínský kraj  63,74\n",
      "0  Moravskoslezský kraj  56,75\n"
     ]
    }
   ],
   "source": [
    "print(df_prez_2013)\n",
    "print(df_prez_2018)"
   ]
  },
  {
   "cell_type": "markdown",
   "metadata": {},
   "source": [
    "## Parlamentni"
   ]
  },
  {
   "cell_type": "code",
   "execution_count": 140,
   "metadata": {},
   "outputs": [],
   "source": [
    "soup_par_1996 = getsoup('https://volby.cz/pls/ps1996/u52')\n",
    "soup_par_1998 = getsoup('https://volby.cz/pls/ps1998/u52')\n",
    "soup_par_2002 = getsoup('https://volby.cz/pls/ps2002/ps5?xjazyk=CZ')"
   ]
  },
  {
   "cell_type": "code",
   "execution_count": 133,
   "metadata": {},
   "outputs": [],
   "source": [
    "def gettable_par_to1998(soup):\n",
    "    '''\n",
    "   Create a table from the BeautifulSoup object given (parlamential election format)\n",
    "    '''\n",
    "    table=soup.find('table').findAll('tr')\n",
    "    tb = table[2:10]\n",
    "    return(tb)\n"
   ]
  },
  {
   "cell_type": "code",
   "execution_count": 139,
   "metadata": {},
   "outputs": [],
   "source": [
    "def gettable_par_after1998(soup):\n",
    "    '''\n",
    "   Create a table from the BeautifulSoup object given (parlamential election format)\n",
    "    '''\n",
    "    table=soup.find('table').findAll('tr')\n",
    "    tb = table[2:16]\n",
    "    return(tb)"
   ]
  },
  {
   "cell_type": "code",
   "execution_count": 129,
   "metadata": {},
   "outputs": [],
   "source": [
    "def scrapetable_par(table):\n",
    "    '''\n",
    "   Create a DataFrame table with regions and respective polls (presidential election format)\n",
    "    '''\n",
    "    df_scraped = pd.DataFrame()\n",
    "    for row in table:\n",
    "        kraj = row.findAll('td')[1].text\n",
    "        ucast = row.findAll('td')[7].text\n",
    "        row1 = pd.Series({\"Kraj\":kraj,\"Účast\":ucast})\n",
    "        df_scraped = pd.concat([df_scraped, row1], axis=1)\n",
    "    df_scraped = df_scraped.T\n",
    "    return(df_scraped)"
   ]
  },
  {
   "cell_type": "code",
   "execution_count": 141,
   "metadata": {},
   "outputs": [],
   "source": [
    "tab_par_1996 = gettable_par_to1998(soup_par_1996)\n",
    "tab_par_1998 = gettable_par_to1998(soup_par_1998)\n",
    "tab_par_2002 = gettable_par_after1998(soup_par_2002)"
   ]
  },
  {
   "cell_type": "code",
   "execution_count": 143,
   "metadata": {},
   "outputs": [],
   "source": [
    "df_par_1996 = scrapetable_par(tab_par_1996)\n",
    "df_par_1998 = scrapetable_par(tab_par_1998)\n",
    "df_par_2002 = scrapetable_par(tab_par_2002)"
   ]
  }
 ],
 "metadata": {
  "kernelspec": {
   "display_name": "Python 3",
   "language": "python",
   "name": "python3"
  },
  "language_info": {
   "codemirror_mode": {
    "name": "ipython",
    "version": 3
   },
   "file_extension": ".py",
   "mimetype": "text/x-python",
   "name": "python",
   "nbconvert_exporter": "python",
   "pygments_lexer": "ipython3",
   "version": "3.8.5"
  }
 },
 "nbformat": 4,
 "nbformat_minor": 4
}
